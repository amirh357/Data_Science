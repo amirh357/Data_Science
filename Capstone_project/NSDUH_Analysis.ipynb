{
 "cells": [
  {
   "cell_type": "markdown",
   "metadata": {},
   "source": [
    "# Analysis of Data from the National Survey on Drug Use and Health (NSDUH)"
   ]
  },
  {
   "cell_type": "markdown",
   "metadata": {},
   "source": [
    "### Background:"
   ]
  },
  {
   "cell_type": "markdown",
   "metadata": {},
   "source": [
    "The National Survey on Drug Use and Health (NSDUH) provides up-to-date information on tobacco, alcohol, and drug use, mental health and other health-related issues in the United States.NSDUH began in 1971 and is conducted every year in all 50 states and the District of Columbia. Each year almost 70,000 people are interviewed for this important study. Information from NSDUH is used to support prevention and treatment programs, monitor substance use trends, estimate the need for treatment and inform public health policy."
   ]
  },
  {
   "cell_type": "markdown",
   "metadata": {},
   "source": [
    "### Selected Dataset:"
   ]
  },
  {
   "cell_type": "markdown",
   "metadata": {},
   "source": [
    "Data collected for this analysis include the following elements, grouped into three categories of survey, predictors, and outcomes:\n",
    "\n",
    "* Survey:\n",
    "    * weight- Sample weight corresponding to each data point in the survey\n",
    "* Predictors:\n",
    "    * gender- 0: male; 1: female\n",
    "    * age- 0: 12-17 yrs old; 1: 18-25 yrs old; 2: 26-34 yrs old; 3: 35-49 yrs old; 4: 50+\n",
    "    * race- 0: white; 1: black; 2: other\n",
    "    * education- 0: less than high school; 1: high school grad; 2: some college/associate degree; 3: college graduate; 4: currently student\n",
    "    * income (household)- 0: less than 20K; 1: 20K-49.99K; 2: 50k-74.99k; 3: 75K+\n",
    "    * employment- 0: full time; 1: part time; 2: unemployed; 3: other; 4: not qualified (age between 12-17 years old)\n",
    "    * govtprog- representing use of government assistance programs, such as food stamps, cash assistance, among others- 0: Yes; 1: No\n",
    "    * county_type- 0: large metro; 1: small metro; 2: nonmetro\n",
    "    * insured- 0: yes; 1: no\n",
    "* Outcomes:\n",
    "    * opioid- 0: did not misuse opioids in the past year; 1: misused opioids in the past year\n",
    "    * heroin- 0: did not use heroin in the past year; 1: used heroin in the past year\n",
    "    * stimulant- 0: did not misuse stimulants (e.g., cocaine, meth) in the past year; 1: misused stimulant in the past year\n",
    "    * sedative- 0: did not misuse sedatives (e.g., Benzodiazepines) in the past year; 1: misused stimulant in the past year\n",
    "    "
   ]
  },
  {
   "cell_type": "markdown",
   "metadata": {},
   "source": [
    "### Analysis methodoloy:"
   ]
  },
  {
   "cell_type": "markdown",
   "metadata": {},
   "source": [
    "The analysis methodology involves importing data, performing explanatory data analysis, and conducting predictive modeling. Three algorithms of logistic regression, k-nearest neighbors (KNN), and random forest were included in the predictive modeling. These steps, including the Python codes, are discussed in the following."
   ]
  },
  {
   "cell_type": "markdown",
   "metadata": {},
   "source": [
    "#### Part (A): Importing data and explanatory data analysis"
   ]
  },
  {
   "cell_type": "code",
   "execution_count": 120,
   "metadata": {},
   "outputs": [],
   "source": [
    "# import required libraries\n",
    "import pandas as pd\n",
    "import numpy as np\n",
    "from sklearn.linear_model import LogisticRegression\n",
    "from sklearn.model_selection import KFold,cross_val_score,train_test_split, GridSearchCV, RandomizedSearchCV\n",
    "from sklearn.neighbors import KNeighborsClassifier\n",
    "from sklearn.metrics import classification_report, accuracy_score\n",
    "from sklearn.preprocessing import StandardScaler\n",
    "from sklearn.ensemble import RandomForestClassifier\n",
    "from sklearn.utils import resample\n",
    "from sklearn.pipeline import Pipeline\n",
    "import seaborn as sns\n",
    "import matplotlib.pyplot as plt\n",
    "import statsmodels.api as sm\n",
    "import statsmodels.formula.api as smf\n",
    "\n",
    "%matplotlib inline"
   ]
  },
  {
   "cell_type": "code",
   "execution_count": 217,
   "metadata": {},
   "outputs": [
    {
     "data": {
      "text/html": [
       "<div>\n",
       "<style scoped>\n",
       "    .dataframe tbody tr th:only-of-type {\n",
       "        vertical-align: middle;\n",
       "    }\n",
       "\n",
       "    .dataframe tbody tr th {\n",
       "        vertical-align: top;\n",
       "    }\n",
       "\n",
       "    .dataframe thead th {\n",
       "        text-align: right;\n",
       "    }\n",
       "</style>\n",
       "<table border=\"1\" class=\"dataframe\">\n",
       "  <thead>\n",
       "    <tr style=\"text-align: right;\">\n",
       "      <th></th>\n",
       "      <th>weight</th>\n",
       "      <th>year</th>\n",
       "      <th>gender</th>\n",
       "      <th>age</th>\n",
       "      <th>race</th>\n",
       "      <th>education</th>\n",
       "      <th>income</th>\n",
       "      <th>employment</th>\n",
       "      <th>county_type</th>\n",
       "      <th>insured</th>\n",
       "      <th>opioid</th>\n",
       "      <th>heroin</th>\n",
       "      <th>stimulant</th>\n",
       "      <th>sedative</th>\n",
       "    </tr>\n",
       "  </thead>\n",
       "  <tbody>\n",
       "    <tr>\n",
       "      <th>0</th>\n",
       "      <td>1088.413235</td>\n",
       "      <td>2015</td>\n",
       "      <td>0</td>\n",
       "      <td>0</td>\n",
       "      <td>0</td>\n",
       "      <td>4</td>\n",
       "      <td>0</td>\n",
       "      <td>4</td>\n",
       "      <td>2</td>\n",
       "      <td>0</td>\n",
       "      <td>0</td>\n",
       "      <td>0</td>\n",
       "      <td>0</td>\n",
       "      <td>0</td>\n",
       "    </tr>\n",
       "    <tr>\n",
       "      <th>1</th>\n",
       "      <td>4423.360328</td>\n",
       "      <td>2015</td>\n",
       "      <td>0</td>\n",
       "      <td>3</td>\n",
       "      <td>2</td>\n",
       "      <td>1</td>\n",
       "      <td>1</td>\n",
       "      <td>0</td>\n",
       "      <td>1</td>\n",
       "      <td>0</td>\n",
       "      <td>0</td>\n",
       "      <td>0</td>\n",
       "      <td>0</td>\n",
       "      <td>0</td>\n",
       "    </tr>\n",
       "    <tr>\n",
       "      <th>2</th>\n",
       "      <td>328.111801</td>\n",
       "      <td>2015</td>\n",
       "      <td>1</td>\n",
       "      <td>2</td>\n",
       "      <td>0</td>\n",
       "      <td>3</td>\n",
       "      <td>0</td>\n",
       "      <td>3</td>\n",
       "      <td>2</td>\n",
       "      <td>0</td>\n",
       "      <td>0</td>\n",
       "      <td>0</td>\n",
       "      <td>0</td>\n",
       "      <td>0</td>\n",
       "    </tr>\n",
       "    <tr>\n",
       "      <th>3</th>\n",
       "      <td>235.290450</td>\n",
       "      <td>2015</td>\n",
       "      <td>1</td>\n",
       "      <td>0</td>\n",
       "      <td>2</td>\n",
       "      <td>4</td>\n",
       "      <td>3</td>\n",
       "      <td>4</td>\n",
       "      <td>1</td>\n",
       "      <td>0</td>\n",
       "      <td>0</td>\n",
       "      <td>0</td>\n",
       "      <td>0</td>\n",
       "      <td>0</td>\n",
       "    </tr>\n",
       "    <tr>\n",
       "      <th>4</th>\n",
       "      <td>2280.878615</td>\n",
       "      <td>2015</td>\n",
       "      <td>1</td>\n",
       "      <td>1</td>\n",
       "      <td>0</td>\n",
       "      <td>2</td>\n",
       "      <td>0</td>\n",
       "      <td>3</td>\n",
       "      <td>2</td>\n",
       "      <td>0</td>\n",
       "      <td>0</td>\n",
       "      <td>0</td>\n",
       "      <td>0</td>\n",
       "      <td>0</td>\n",
       "    </tr>\n",
       "  </tbody>\n",
       "</table>\n",
       "</div>"
      ],
      "text/plain": [
       "        weight  year  gender  age  race  education  income  employment  \\\n",
       "0  1088.413235  2015       0    0     0          4       0           4   \n",
       "1  4423.360328  2015       0    3     2          1       1           0   \n",
       "2   328.111801  2015       1    2     0          3       0           3   \n",
       "3   235.290450  2015       1    0     2          4       3           4   \n",
       "4  2280.878615  2015       1    1     0          2       0           3   \n",
       "\n",
       "   county_type  insured  opioid  heroin  stimulant  sedative  \n",
       "0            2        0       0       0          0         0  \n",
       "1            1        0       0       0          0         0  \n",
       "2            2        0       0       0          0         0  \n",
       "3            1        0       0       0          0         0  \n",
       "4            2        0       0       0          0         0  "
      ]
     },
     "execution_count": 217,
     "metadata": {},
     "output_type": "execute_result"
    }
   ],
   "source": [
    "# read NSDUH data\n",
    "nsduh = pd.read_csv('./data/NSDUH.csv')\n",
    "nsduh.head()"
   ]
  },
  {
   "cell_type": "code",
   "execution_count": 13,
   "metadata": {},
   "outputs": [
    {
     "data": {
      "text/html": [
       "<div>\n",
       "<style scoped>\n",
       "    .dataframe tbody tr th:only-of-type {\n",
       "        vertical-align: middle;\n",
       "    }\n",
       "\n",
       "    .dataframe tbody tr th {\n",
       "        vertical-align: top;\n",
       "    }\n",
       "\n",
       "    .dataframe thead th {\n",
       "        text-align: right;\n",
       "    }\n",
       "</style>\n",
       "<table border=\"1\" class=\"dataframe\">\n",
       "  <thead>\n",
       "    <tr style=\"text-align: right;\">\n",
       "      <th></th>\n",
       "      <th>weight</th>\n",
       "      <th>year</th>\n",
       "      <th>gender</th>\n",
       "      <th>age</th>\n",
       "      <th>race</th>\n",
       "      <th>education</th>\n",
       "      <th>income</th>\n",
       "      <th>employment</th>\n",
       "      <th>county_type</th>\n",
       "      <th>insured</th>\n",
       "      <th>opioid</th>\n",
       "      <th>heroin</th>\n",
       "      <th>stimulant</th>\n",
       "      <th>sedative</th>\n",
       "    </tr>\n",
       "  </thead>\n",
       "  <tbody>\n",
       "    <tr>\n",
       "      <th>count</th>\n",
       "      <td>282768.000000</td>\n",
       "      <td>282768.000000</td>\n",
       "      <td>282768.000000</td>\n",
       "      <td>282768.000000</td>\n",
       "      <td>282768.000000</td>\n",
       "      <td>282768.000000</td>\n",
       "      <td>282768.000000</td>\n",
       "      <td>282768.000000</td>\n",
       "      <td>282768.000000</td>\n",
       "      <td>282768.000000</td>\n",
       "      <td>282768.000000</td>\n",
       "      <td>282768.000000</td>\n",
       "      <td>282768.000000</td>\n",
       "      <td>282768.000000</td>\n",
       "    </tr>\n",
       "    <tr>\n",
       "      <th>mean</th>\n",
       "      <td>4803.238875</td>\n",
       "      <td>2016.990791</td>\n",
       "      <td>0.523790</td>\n",
       "      <td>1.781227</td>\n",
       "      <td>0.706042</td>\n",
       "      <td>2.287759</td>\n",
       "      <td>1.663760</td>\n",
       "      <td>1.773832</td>\n",
       "      <td>0.745876</td>\n",
       "      <td>0.098540</td>\n",
       "      <td>0.044754</td>\n",
       "      <td>0.003759</td>\n",
       "      <td>0.029112</td>\n",
       "      <td>0.004990</td>\n",
       "    </tr>\n",
       "    <tr>\n",
       "      <th>std</th>\n",
       "      <td>5821.648386</td>\n",
       "      <td>1.415189</td>\n",
       "      <td>0.499435</td>\n",
       "      <td>1.409823</td>\n",
       "      <td>0.886528</td>\n",
       "      <td>1.297072</td>\n",
       "      <td>1.141592</td>\n",
       "      <td>1.676697</td>\n",
       "      <td>0.763896</td>\n",
       "      <td>0.298044</td>\n",
       "      <td>0.206764</td>\n",
       "      <td>0.061198</td>\n",
       "      <td>0.168121</td>\n",
       "      <td>0.070463</td>\n",
       "    </tr>\n",
       "    <tr>\n",
       "      <th>min</th>\n",
       "      <td>1.038745</td>\n",
       "      <td>2015.000000</td>\n",
       "      <td>0.000000</td>\n",
       "      <td>0.000000</td>\n",
       "      <td>0.000000</td>\n",
       "      <td>0.000000</td>\n",
       "      <td>0.000000</td>\n",
       "      <td>0.000000</td>\n",
       "      <td>0.000000</td>\n",
       "      <td>0.000000</td>\n",
       "      <td>0.000000</td>\n",
       "      <td>0.000000</td>\n",
       "      <td>0.000000</td>\n",
       "      <td>0.000000</td>\n",
       "    </tr>\n",
       "    <tr>\n",
       "      <th>25%</th>\n",
       "      <td>1267.173729</td>\n",
       "      <td>2016.000000</td>\n",
       "      <td>0.000000</td>\n",
       "      <td>1.000000</td>\n",
       "      <td>0.000000</td>\n",
       "      <td>1.000000</td>\n",
       "      <td>1.000000</td>\n",
       "      <td>0.000000</td>\n",
       "      <td>0.000000</td>\n",
       "      <td>0.000000</td>\n",
       "      <td>0.000000</td>\n",
       "      <td>0.000000</td>\n",
       "      <td>0.000000</td>\n",
       "      <td>0.000000</td>\n",
       "    </tr>\n",
       "    <tr>\n",
       "      <th>50%</th>\n",
       "      <td>2824.857866</td>\n",
       "      <td>2017.000000</td>\n",
       "      <td>1.000000</td>\n",
       "      <td>2.000000</td>\n",
       "      <td>0.000000</td>\n",
       "      <td>2.000000</td>\n",
       "      <td>2.000000</td>\n",
       "      <td>1.000000</td>\n",
       "      <td>1.000000</td>\n",
       "      <td>0.000000</td>\n",
       "      <td>0.000000</td>\n",
       "      <td>0.000000</td>\n",
       "      <td>0.000000</td>\n",
       "      <td>0.000000</td>\n",
       "    </tr>\n",
       "    <tr>\n",
       "      <th>75%</th>\n",
       "      <td>5927.048853</td>\n",
       "      <td>2018.000000</td>\n",
       "      <td>1.000000</td>\n",
       "      <td>3.000000</td>\n",
       "      <td>2.000000</td>\n",
       "      <td>3.000000</td>\n",
       "      <td>3.000000</td>\n",
       "      <td>3.000000</td>\n",
       "      <td>1.000000</td>\n",
       "      <td>0.000000</td>\n",
       "      <td>0.000000</td>\n",
       "      <td>0.000000</td>\n",
       "      <td>0.000000</td>\n",
       "      <td>0.000000</td>\n",
       "    </tr>\n",
       "    <tr>\n",
       "      <th>max</th>\n",
       "      <td>119415.350700</td>\n",
       "      <td>2019.000000</td>\n",
       "      <td>1.000000</td>\n",
       "      <td>4.000000</td>\n",
       "      <td>2.000000</td>\n",
       "      <td>4.000000</td>\n",
       "      <td>3.000000</td>\n",
       "      <td>4.000000</td>\n",
       "      <td>2.000000</td>\n",
       "      <td>1.000000</td>\n",
       "      <td>1.000000</td>\n",
       "      <td>1.000000</td>\n",
       "      <td>1.000000</td>\n",
       "      <td>1.000000</td>\n",
       "    </tr>\n",
       "  </tbody>\n",
       "</table>\n",
       "</div>"
      ],
      "text/plain": [
       "              weight           year         gender            age  \\\n",
       "count  282768.000000  282768.000000  282768.000000  282768.000000   \n",
       "mean     4803.238875    2016.990791       0.523790       1.781227   \n",
       "std      5821.648386       1.415189       0.499435       1.409823   \n",
       "min         1.038745    2015.000000       0.000000       0.000000   \n",
       "25%      1267.173729    2016.000000       0.000000       1.000000   \n",
       "50%      2824.857866    2017.000000       1.000000       2.000000   \n",
       "75%      5927.048853    2018.000000       1.000000       3.000000   \n",
       "max    119415.350700    2019.000000       1.000000       4.000000   \n",
       "\n",
       "                race      education         income     employment  \\\n",
       "count  282768.000000  282768.000000  282768.000000  282768.000000   \n",
       "mean        0.706042       2.287759       1.663760       1.773832   \n",
       "std         0.886528       1.297072       1.141592       1.676697   \n",
       "min         0.000000       0.000000       0.000000       0.000000   \n",
       "25%         0.000000       1.000000       1.000000       0.000000   \n",
       "50%         0.000000       2.000000       2.000000       1.000000   \n",
       "75%         2.000000       3.000000       3.000000       3.000000   \n",
       "max         2.000000       4.000000       3.000000       4.000000   \n",
       "\n",
       "         county_type        insured         opioid         heroin  \\\n",
       "count  282768.000000  282768.000000  282768.000000  282768.000000   \n",
       "mean        0.745876       0.098540       0.044754       0.003759   \n",
       "std         0.763896       0.298044       0.206764       0.061198   \n",
       "min         0.000000       0.000000       0.000000       0.000000   \n",
       "25%         0.000000       0.000000       0.000000       0.000000   \n",
       "50%         1.000000       0.000000       0.000000       0.000000   \n",
       "75%         1.000000       0.000000       0.000000       0.000000   \n",
       "max         2.000000       1.000000       1.000000       1.000000   \n",
       "\n",
       "           stimulant       sedative  \n",
       "count  282768.000000  282768.000000  \n",
       "mean        0.029112       0.004990  \n",
       "std         0.168121       0.070463  \n",
       "min         0.000000       0.000000  \n",
       "25%         0.000000       0.000000  \n",
       "50%         0.000000       0.000000  \n",
       "75%         0.000000       0.000000  \n",
       "max         1.000000       1.000000  "
      ]
     },
     "execution_count": 13,
     "metadata": {},
     "output_type": "execute_result"
    }
   ],
   "source": [
    "# describe data\n",
    "nsduh.describe()"
   ]
  },
  {
   "cell_type": "code",
   "execution_count": 4,
   "metadata": {},
   "outputs": [
    {
     "data": {
      "image/png": "[encoded data removed]",
      "text/plain": [
       "<Figure size 432x288 with 1 Axes>"
      ]
     },
     "metadata": {
      "needs_background": "light"
     },
     "output_type": "display_data"
    }
   ],
   "source": [
    "# check and see if there are null values in the dataset (null values will be graphically represented with yellowish color)\n",
    "sns.heatmap(nsduh.isnull(),yticklabels=False,cbar=False,cmap='viridis');"
   ]
  },
  {
   "cell_type": "markdown",
   "metadata": {},
   "source": [
    "Let's look at the data to see number of individuals in the survey abusing different drugs"
   ]
  },
  {
   "cell_type": "code",
   "execution_count": 233,
   "metadata": {
    "scrolled": true
   },
   "outputs": [
    {
     "data": {
      "image/png": "[encoded data removed]",
      "text/plain": [
       "<Figure size 1440x288 with 4 Axes>"
      ]
     },
     "metadata": {},
     "output_type": "display_data"
    }
   ],
   "source": [
    "# show the ratios of people in survey misusing drugs\n",
    "fig, axes = plt.subplots(1, 4, sharex=False)\n",
    "fig.set_size_inches(20,4)\n",
    "fig.suptitle('Number of drug misuse in the NSDUH survey (0: No; 1: Yes)',size =20)\n",
    "sns.set_style('whitegrid')\n",
    "sns.countplot(ax = axes[0],x='opioid', data=nsduh, palette='RdBu_r');\n",
    "sns.countplot(ax = axes[1],x='heroin', data=nsduh, palette='RdBu_r');\n",
    "sns.countplot(ax = axes[2],x='stimulant', data=nsduh, palette='RdBu_r');\n",
    "sns.countplot(ax = axes[3],x='sedative', data=nsduh, palette='RdBu_r');"
   ]
  },
  {
   "cell_type": "markdown",
   "metadata": {},
   "source": [
    "Clearly, the dataset in imbalanced so we need to perform downsampling to eliminate the bias."
   ]
  },
  {
   "cell_type": "code",
   "execution_count": 123,
   "metadata": {},
   "outputs": [],
   "source": [
    "# downsampling the majority class for each of the selected outcomes\n",
    "# function to perform downsampling\n",
    "def downsampling(data,element):\n",
    "    outcomes = ['opioid','heroin','stimulant','sedative']\n",
    "    outcomes.remove(element)\n",
    "    data.drop(columns = outcomes,inplace = True)\n",
    "    majority = data[data[element] == 0]\n",
    "    minority = data[data[element] == 1]\n",
    "    majority_ds = resample(majority,\n",
    "                          replace = False,\n",
    "                          n_samples = minority.shape[0],\n",
    "                          random_state = 123)\n",
    "    return pd.concat([majority_ds,minority])\n",
    "\n",
    "# nsduh_opioid downsampled\n",
    "nsduh_opioid = downsampling(nsduh.copy(),'opioid')\n",
    "# nsduh_heroin downsampled\n",
    "nsduh_heroin = downsampling(nsduh.copy(),'heroin')\n",
    "# nsduh_stimulant downsampled\n",
    "nsduh_stimulant = downsampling(nsduh.copy(),'stimulant')\n",
    "# nsduh_sedative downsampled\n",
    "nsduh_sedative = downsampling(nsduh.copy(),'sedative')\n",
    "\n",
    "# reseting all indices\n",
    "nsduh_opioid.reset_index(drop = True,inplace = True)\n",
    "nsduh_heroin.reset_index(drop = True,inplace = True)\n",
    "nsduh_stimulant.reset_index(drop = True,inplace = True)\n",
    "nsduh_sedative.reset_index(drop = True,inplace = True)"
   ]
  },
  {
   "cell_type": "markdown",
   "metadata": {},
   "source": [
    "Let's look into the impact of selected predictive factors on average prevalence of drug use within the survey population. Here, we focus on opioid and heroin."
   ]
  },
  {
   "cell_type": "code",
   "execution_count": 243,
   "metadata": {},
   "outputs": [
    {
     "data": {
      "image/png": "[encoded data removed]",
      "text/plain": [
       "<Figure size 1440x576 with 4 Axes>"
      ]
     },
     "metadata": {},
     "output_type": "display_data"
    },
    {
     "data": {
      "image/png": "[encoded data removed]",
      "text/plain": [
       "<Figure size 1440x576 with 4 Axes>"
      ]
     },
     "metadata": {},
     "output_type": "display_data"
    }
   ],
   "source": [
    "fig1, axes = plt.subplots(2, 2, sharex=False)\n",
    "fig1.set_size_inches(20,8)\n",
    "# opioid\n",
    "fig1.suptitle('Average prevalence of opioid abuse in the survey population based on selected factors',size =20)\n",
    "nsduh.groupby(['gender','race']).mean()['opioid'].unstack().plot.bar(ax=axes[0,0]);\n",
    "nsduh.groupby(['gender','age']).mean()['opioid'].unstack().plot.bar(ax=axes[0,1]);\n",
    "nsduh.groupby(['employment','county_type']).mean()['opioid'].unstack().plot.bar(ax=axes[1,0]);\n",
    "nsduh.groupby(['race','income']).mean()['opioid'].unstack().plot.bar(ax=axes[1,1]);\n",
    "\n",
    "fig2, axes = plt.subplots(2, 2, sharex=False)\n",
    "fig2.set_size_inches(20,8)\n",
    "# opioid\n",
    "fig2.suptitle('Average prevalence of heroin use in the survey population based on selected factors',size =20)\n",
    "nsduh.groupby(['gender','race']).mean()['heroin'].unstack().plot.bar(ax=axes[0,0]);\n",
    "nsduh.groupby(['gender','age']).mean()['heroin'].unstack().plot.bar(ax=axes[0,1]);\n",
    "nsduh.groupby(['employment','county_type']).mean()['heroin'].unstack().plot.bar(ax=axes[1,0]);\n",
    "nsduh.groupby(['race','income']).mean()['heroin'].unstack().plot.bar(ax=axes[1,1]);\n",
    "\n"
   ]
  },
  {
   "cell_type": "markdown",
   "metadata": {},
   "source": [
    "#### Part (B): Predictive modeling"
   ]
  },
  {
   "cell_type": "markdown",
   "metadata": {},
   "source": [
    "Functions used in predictive modeling based on selected machine learning approaches."
   ]
  },
  {
   "cell_type": "code",
   "execution_count": 144,
   "metadata": {},
   "outputs": [],
   "source": [
    "def glm_formula(features,interactions,outcome):\n",
    "    \"\"\"\n",
    "    Function to a formula including main effects as well as selected\n",
    "    interaction effects for the logistic regression model.\n",
    "    \n",
    "    Function arguments:\n",
    "        features: list of explanatory variables defined as strings\n",
    "        interactions: dictionary of interaction terms defined as {'term i':['x_i','x_j']}\n",
    "        outcome: model output defined as a string\n",
    "    \"\"\"\n",
    "    formula = outcome + '~'\n",
    "    for x in features:\n",
    "        formula = formula + '+C(' + x + ')'\n",
    "    if (len(interactions.keys()) != 0):\n",
    "        # interaction terms are included\n",
    "        for key in interactions.keys():\n",
    "            # we are only considering two-way interactions in the model\n",
    "            term_1 = interactions[key][0]\n",
    "            term_2 = interactions[key][1]\n",
    "            formula = formula +'+C(' + term_1 + '):C(' + term_2 + ')'\n",
    "    return formula\n",
    "\n",
    "def get_Xy(data,features,outcome,dummy_flag):\n",
    "    \"\"\"\n",
    "    Function to extract X and y used for predictive modeling from the dataset\n",
    "    \n",
    "    Function arguments:\n",
    "        data: dataframe including all x's and model outcome (y)\n",
    "        features: list of explanatory variables defined as strings\n",
    "        outcome: y variable used in the regression\n",
    "        dummary_flag: whether categorical features should be transformed to dummy variables- True/False\n",
    "    \"\"\"\n",
    "    if dummy_flag:\n",
    "        # with dummy features\n",
    "        binary_features = ['gender','insured']\n",
    "        # list of dummy features in the dataset\n",
    "        dummy_features = list(set(features) - set(binary_features))\n",
    "        # translate categorical features to dummy variables\n",
    "        dummy_data = pd.get_dummies(data = data[dummy_features], columns = dummy_features,drop_first = True)\n",
    "        # define X and y \n",
    "        X = pd.concat([dummy_data,data[binary_features]],axis = 1)\n",
    "        y = data[outcome] \n",
    "    else:\n",
    "        # withiut dummy features\n",
    "        X = data[features]\n",
    "        y = data[outcome]\n",
    "    return X,y\n",
    "\n",
    "def model_accuracy(model_type,**kwargs):\n",
    "    \"\"\"\n",
    "    Function to calculate model accuracy using different machine learning methods. Available options include:\n",
    "    logistic regression, K-nearest neighbors (KNN), random forest\n",
    "    \n",
    "    Function arguments:\n",
    "    model_type: type of machine learning approach used for calculating model accuracy\n",
    "    *kwargs: corresponding keyword arguments\n",
    "        -logistic regression:\n",
    "            data: dataframe including all x's and model outcome (y). Dataframe also include a weight column representing survey sample weights\n",
    "            outcome: y variable used in the regression\n",
    "            n_folds: number of cross-validation folds\n",
    "            glm_formula: formula used in logistic regression\n",
    "        -KNN, random forest\n",
    "            data: dataframe including all x's and model outcome (y)\n",
    "            outcome: y variable used in the KNN model\n",
    "            features: list of explanatory variables defined as strings\n",
    "            n_folds: number of cross-validation folds\n",
    "            params: set of parameters used for hyperparameter model tuning\n",
    "    \"\"\"\n",
    "    # empty list for model accuracy calculations\n",
    "    accuracy = []\n",
    "    if (model_type == \"logistic regression\"):\n",
    "        # predictive modeling using logistic regression\n",
    "        # read function arguments\n",
    "        data = kwargs['data']\n",
    "        n_folds = kwargs['n_folds']\n",
    "        outcome = kwargs['outcome']\n",
    "        glm_formula = kwargs['glm_formula']\n",
    "        for i in range (1,n_folds + 1):\n",
    "            # create random train/test datasets\n",
    "            train_data = data.sample(round(0.7*data.shape[0]),random_state = i)\n",
    "            test_data = data[~data.isin(train_data)].dropna(how = 'all')\n",
    "            glm_results = smf.glm(formula=glm_formula,\n",
    "                                  data=train_data,\n",
    "                                  family=sm.families.Binomial(),\n",
    "                                  freq_weights=train_data.weight).fit()\n",
    "            \n",
    "            y_pred_prob = glm_results.predict(test_data.drop(columns = outcome))\n",
    "            y_pred = [ 0 if x < 0.5 else 1 for x in y_pred_prob]\n",
    "            accuracy.append(accuracy_score(y_pred,test_data[outcome],sample_weight = test_data.weight))\n",
    "    elif (model_type in ['KNN','random forest'] ):\n",
    "        # predictive modeling using K-nearest neighbor, random forest\n",
    "        data = kwargs['data']\n",
    "        outcome = kwargs['outcome']\n",
    "        features = kwargs['features']\n",
    "        n_folds = kwargs['n_folds']\n",
    "        params =kwargs['params']\n",
    "        # define X and y\n",
    "        X,y = get_Xy(data,features,outcome,dummy_flag = True)\n",
    "        X_train, X_test, y_train, y_test = train_test_split(X, y,test_size = .3, random_state = 123)\n",
    "        # perform k-fold cross-validation using randomized search\n",
    "        kf = KFold(n_splits = n_folds, shuffle = True, random_state = 123)\n",
    "        if (model_type == 'KNN'):\n",
    "            model_estimator = KNeighborsClassifier()\n",
    "        elif (model_type == 'random forest'):\n",
    "            model_estimator = RandomForestClassifier()\n",
    "        # use randomized search for the best model fit\n",
    "        rs = RandomizedSearchCV(\n",
    "            estimator = model_estimator, \n",
    "            param_distributions = params, \n",
    "            n_iter = 100, \n",
    "            cv = kf, \n",
    "            verbose = 0, \n",
    "            random_state=123, \n",
    "            n_jobs = None\n",
    "        )\n",
    "        rs.fit(X_train, y_train)\n",
    "        # best model parameters based on the search\n",
    "        best_params = rs.best_params_\n",
    "        # instantiate the best model\n",
    "        if (model_type == 'KNN'):\n",
    "            best_model = KNeighborsClassifier(\n",
    "                leaf_size = best_params['leaf_size'],\n",
    "                n_neighbors = best_params['n_neighbors'],\n",
    "                metric = 'hamming')\n",
    "        elif (model_type == 'random forest'):\n",
    "            best_model = RandomForestClassifier(\n",
    "                n_estimators = best_params['n_estimators'],\n",
    "                min_samples_split = best_params['min_samples_split'],\n",
    "                min_samples_leaf = best_params['min_samples_leaf'],\n",
    "                max_features = best_params['max_features'],\n",
    "                max_depth = best_params['max_depth'],\n",
    "                bootstrap = best_params['bootstrap'])\n",
    "        # fit the best model to the data. We still use kfold cross-validation to obtain a range of model accuracies\n",
    "        accuracy = cross_val_score(best_model, X, y, cv=kf, scoring='accuracy')\n",
    "    return accuracy\n",
    "        "
   ]
  },
  {
   "cell_type": "markdown",
   "metadata": {},
   "source": [
    "##### (i) Logistic regression"
   ]
  },
  {
   "cell_type": "markdown",
   "metadata": {},
   "source": [
    "Results from logistic regression for different outcomes (e.g., opioid abuse, heroin use) are listed in the following:"
   ]
  },
  {
   "cell_type": "code",
   "execution_count": 140,
   "metadata": {},
   "outputs": [
    {
     "name": "stdout",
     "output_type": "stream",
     "text": [
      "Average model accuracy for predicting opioid abuse: 0.618\n",
      "Average model accuracy for predicting heroin use: 0.748\n",
      "Average model accuracy for predicting stimulant abuse: 0.748\n",
      "Average model accuracy for predicting sedative abuse: 0.568\n"
     ]
    }
   ],
   "source": [
    "features = ['gender','age','race','education','income','employment','county_type','insured']\n",
    "interactions = {'1':['gender','age'],'2':['race','income'],'3':['age','race'],'4':['insured','race']}\n",
    "# opioid misuse model\n",
    "outcome = 'opioid'\n",
    "formula = glm_formula(features,interactions,outcome)\n",
    "LR_opioid_accuracy = model_accuracy('logistic regression',data = nsduh_opioid,outcome = 'opioid',n_folds = 10,glm_formula = formula)\n",
    "print('Average model accuracy for predicting opioid abuse: {:.3f}'.format(np.mean(LR_opioid_accuracy)))\n",
    "# heroin use model\n",
    "outcome = 'heroin'\n",
    "formula = glm_formula(features,interactions,outcome)\n",
    "LR_heroin_accuracy = model_accuracy('logistic regression',data = nsduh_heroin,outcome = 'heroin',n_folds = 10,glm_formula = formula)\n",
    "print('Average model accuracy for predicting heroin use: {:.3f}'.format(np.mean(LR_heroin_accuracy)))\n",
    "# stimulant abuse model\n",
    "outcome = 'stimulant'\n",
    "formula = glm_formula(features,interactions,outcome)\n",
    "LR_stimulant_accuracy = model_accuracy('logistic regression',data = nsduh_stimulant,outcome = 'stimulant',n_folds = 10,glm_formula = formula)\n",
    "print('Average model accuracy for predicting stimulant abuse: {:.3f}'.format(np.mean(LR_stimulant_accuracy)))\n",
    "# sedative abuse model\n",
    "outcome = 'sedative'\n",
    "formula = glm_formula(features,interactions,outcome)\n",
    "LR_sedative_accuracy = model_accuracy('logistic regression',data = nsduh_sedative,outcome = 'sedative',n_folds = 10,glm_formula = formula)\n",
    "print('Average model accuracy for predicting sedative abuse: {:.3f}'.format(np.mean(LR_sedative_accuracy)))\n"
   ]
  },
  {
   "cell_type": "markdown",
   "metadata": {},
   "source": [
    "##### (ii) K Nearest Neighbors (KNN)"
   ]
  },
  {
   "cell_type": "markdown",
   "metadata": {},
   "source": [
    "Results from KNN for different outcomes (e.g., opioid abuse, heroin use) are listed in the following:"
   ]
  },
  {
   "cell_type": "code",
   "execution_count": 145,
   "metadata": {
    "scrolled": true
   },
   "outputs": [
    {
     "name": "stdout",
     "output_type": "stream",
     "text": [
      "Average model accuracy for predicting opioid abuse: 0.537\n",
      "Average model accuracy for predicting heroin use: 0.685\n",
      "Average model accuracy for predicting stimulant abuse: 0.633\n",
      "Average model accuracy for predicting sedative abuse: 0.547\n"
     ]
    }
   ],
   "source": [
    "features = ['gender','age','race','education','income','employment','county_type','insured']\n",
    "# create random grid\n",
    "params = {'n_neighbors': np.arange(40) + 1,\n",
    "          'leaf_size': range(1, 50), \n",
    "          'metric' : ['hamming']}\n",
    "# opioid\n",
    "KNN_opioid_accuracy = model_accuracy('KNN',data = nsduh_opioid,outcome = 'opioid',features = features,n_folds = 10,params = params)\n",
    "print('Average model accuracy for predicting opioid abuse: {:.3f}'.format(np.mean(KNN_opioid_accuracy)))\n",
    "# heroin use model\n",
    "KNN_heroin_accuracy = model_accuracy('KNN',data = nsduh_heroin,outcome = 'heroin',features = features,n_folds = 10,params = params)\n",
    "print('Average model accuracy for predicting heroin use: {:.3f}'.format(np.mean(KNN_heroin_accuracy)))\n",
    "# stimulant abuse model\n",
    "KNN_stimulant_accuracy = model_accuracy('KNN',data = nsduh_stimulant,outcome = 'stimulant',features = features,n_folds = 10,params = params)\n",
    "print('Average model accuracy for predicting stimulant abuse: {:.3f}'.format(np.mean(KNN_stimulant_accuracy)))\n",
    "# sedative abuse model\n",
    "KNN_sedative_accuracy = model_accuracy('KNN',data = nsduh_sedative,outcome = 'sedative',features = features,n_folds = 10,params = params)\n",
    "print('Average model accuracy for predicting sedative abuse: {:.3f}'.format(np.mean(KNN_sedative_accuracy)))\n",
    "\n",
    "\n"
   ]
  },
  {
   "cell_type": "markdown",
   "metadata": {},
   "source": [
    "##### (iii) Random Forest"
   ]
  },
  {
   "cell_type": "markdown",
   "metadata": {},
   "source": [
    "Results from Random Forest for different outcomes (e.g., opioid abuse, heroin use) are listed in the following:\n",
    "    "
   ]
  },
  {
   "cell_type": "code",
   "execution_count": 146,
   "metadata": {},
   "outputs": [
    {
     "name": "stdout",
     "output_type": "stream",
     "text": [
      "Average model accuracy for predicting opioid abuse: 0.605\n",
      "Average model accuracy for predicting heroin use: 0.737\n",
      "Average model accuracy for predicting stimulant abuse: 0.698\n",
      "Average model accuracy for predicting sedative abuse: 0.581\n"
     ]
    }
   ],
   "source": [
    "features = ['gender','age','race','education','income','employment','county_type','insured']\n",
    "# create random grid\n",
    "params = {'n_estimators': [int(x) for x in np.linspace(start = 200, stop = 1000, num = 10)],\n",
    "          'max_features': ['auto', 'sqrt'],\n",
    "          'max_depth': [int(x) for x in np.linspace(10, 110, num = 11)],\n",
    "          'min_samples_split': [2, 5, 10],\n",
    "          'min_samples_leaf': [1, 2, 4],\n",
    "          'bootstrap': [True,False]}\n",
    "# opioid\n",
    "RF_opioid_accuracy = model_accuracy('random forest',data = nsduh_opioid,outcome = 'opioid',features = features,n_folds = 10,params = params)\n",
    "print('Average model accuracy for predicting opioid abuse: {:.3f}'.format(np.mean(RF_opioid_accuracy)))\n",
    "# heroin\n",
    "RF_heroin_accuracy = model_accuracy('random forest',data = nsduh_heroin,outcome = 'heroin',features = features,n_folds = 10,params = params)\n",
    "print('Average model accuracy for predicting heroin use: {:.3f}'.format(np.mean(RF_heroin_accuracy)))\n",
    "# stimulants\n",
    "RF_stimulant_accuracy = model_accuracy('random forest',data = nsduh_stimulant,outcome = 'stimulant',features = features,n_folds = 10,params = params)\n",
    "print('Average model accuracy for predicting stimulant abuse: {:.3f}'.format(np.mean(RF_stimulant_accuracy)))\n",
    "# sedatives\n",
    "RF_sedative_accuracy = model_accuracy('random forest',data = nsduh_sedative,outcome = 'sedative',features = features,n_folds = 10,params = params)\n",
    "print('Average model accuracy for predicting sedative abuse: {:.3f}'.format(np.mean(RF_sedative_accuracy)))"
   ]
  },
  {
   "cell_type": "markdown",
   "metadata": {},
   "source": [
    "##### (iv) Compare model performance across selected algorithms"
   ]
  },
  {
   "cell_type": "markdown",
   "metadata": {},
   "source": [
    "We used he 10-fold cross validation procedure to evaluate each algorithm, importantly configured with the same random seed to ensure that the same splits to the training data are performed and that each algorithms is evaluated in precisely the same way. We can further compare the model accuracies across selected outcomes and algorithms using boxplots."
   ]
  },
  {
   "cell_type": "code",
   "execution_count": 247,
   "metadata": {},
   "outputs": [
    {
     "data": {
      "image/png": "[encoded data removed]",
      "text/plain": [
       "<Figure size 1440x576 with 4 Axes>"
      ]
     },
     "metadata": {},
     "output_type": "display_data"
    }
   ],
   "source": [
    "# create datasets representing combined accuracies across selected algorithms\n",
    "# opioid\n",
    "opioid_accuracy = pd.DataFrame({'LR':LR_opioid_accuracy,'KNN':list(KNN_opioid_accuracy),'RF':list(RF_opioid_accuracy)})\n",
    "# heroin\n",
    "heroin_accuracy = pd.DataFrame({'LR':LR_heroin_accuracy,'KNN':list(KNN_heroin_accuracy),'RF':list(RF_heroin_accuracy)})\n",
    "# stimulants\n",
    "stimulant_accuracy = pd.DataFrame({'LR':LR_stimulant_accuracy,'KNN':list(KNN_stimulant_accuracy),'RF':list(RF_stimulant_accuracy)})\n",
    "# sedatives\n",
    "sedative_accuracy = pd.DataFrame({'LR':LR_sedative_accuracy,'KNN':list(KNN_sedative_accuracy),'RF':list(RF_sedative_accuracy)})\n",
    "\n",
    "fig, axes = plt.subplots(2, 2, sharex=False, figsize=(16,8))\n",
    "fig.set_size_inches(20,8)\n",
    "fig.suptitle('Comparison of model performance accuracy across selected algorithms',size = 20)\n",
    "sns.set_style('whitegrid')\n",
    "# opioid\n",
    "sp_0 = opioid_accuracy.boxplot(ax = axes[0,0]);\n",
    "sp_0.set_xlabel(\"Opioid Abuse\");\n",
    "sp_0.set_ylabel(\"Prediction Accuracy\");\n",
    "sp_0.set_ylim([0.5,1]);\n",
    "# heroin\n",
    "sp_1 = heroin_accuracy.boxplot(ax = axes[0,1]);\n",
    "sp_1.set_xlabel(\"Heroin Use\");\n",
    "sp_1.set_ylim([0.5,1]);\n",
    "# stimulant\n",
    "sp_2 = stimulant_accuracy.boxplot(ax = axes[1,0]);\n",
    "sp_2.set_xlabel(\"Stimulant Abuse\");\n",
    "sp_2.set_ylim([0.5,1]);\n",
    "# sedative\n",
    "sp_3 = sedative_accuracy.boxplot(ax = axes[1,1]);\n",
    "sp_3.set_xlabel(\"Sedative Abuse\");\n",
    "sp_3.set_ylim([0.5,1]);"
   ]
  },
  {
   "cell_type": "markdown",
   "metadata": {},
   "source": [
    "Results showed that logistic regression and random forest had comparable accuracies while KNN demonstrated lower accuracies. Furthermore, model performance was the best when predicting heroin use and stimulant abuse."
   ]
  },
  {
   "cell_type": "markdown",
   "metadata": {},
   "source": [
    "##### (v) Multi-class classification problem"
   ]
  },
  {
   "cell_type": "markdown",
   "metadata": {},
   "source": [
    "Using Random Forest, we want to also investigate if we can predict a multi-class classification based on the following criteria:\n",
    "- 0: No drug use\n",
    "- 1: Opioid only abuse\n",
    "- 2: Heroin only use\n",
    "- 3: Stimulant only abuse\n",
    "- 4: Sedative only abuse\n",
    "- 5: Poly-drug abuse (e.g., simultaneous abuse of two or more drugs such as opioid and heroin)"
   ]
  },
  {
   "cell_type": "markdown",
   "metadata": {},
   "source": [
    "First, let's create a new scoring column based on the criteria defined above:"
   ]
  },
  {
   "cell_type": "code",
   "execution_count": 211,
   "metadata": {},
   "outputs": [
    {
     "data": {
      "text/plain": [
       "0    263539\n",
       "1      9270\n",
       "3      5504\n",
       "5      3545\n",
       "4       624\n",
       "2       286\n",
       "Name: drug_use, dtype: int64"
      ]
     },
     "execution_count": 211,
     "metadata": {},
     "output_type": "execute_result"
    }
   ],
   "source": [
    "# add a summation column\n",
    "nsduh['sum'] = nsduh.opioid + nsduh.heroin + nsduh.stimulant + nsduh.sedative\n",
    "# creat new column representing scores between 0 and 5\n",
    "conditions = [\n",
    "    (nsduh['sum'] == 0),\n",
    "    (nsduh['opioid'] == 1) & (nsduh['sum'] == 1),\n",
    "    (nsduh['heroin'] == 1) & (nsduh['sum'] == 1),\n",
    "    (nsduh['stimulant'] == 1) & (nsduh['sum'] == 1),\n",
    "    (nsduh['sedative'] == 1) & (nsduh['sum'] == 1),\n",
    "    (nsduh['sum'] > 1)\n",
    "]\n",
    "\n",
    "choices = ['0','1','2','3','4','5']\n",
    "nsduh['drug_use'] = np.select(conditions, choices, default=np.nan)\n",
    "# drop redundant columns\n",
    "dropped_columns = ['opioid','heroin','stimulant','sedative','sum']\n",
    "nsduh.drop(columns = dropped_columns,inplace = True)\n",
    "nsduh['drug_use'].value_counts()"
   ]
  },
  {
   "cell_type": "markdown",
   "metadata": {},
   "source": [
    "We already know the dataset is not balanced from the previous step. Considering the size of opioid abusers (9,270 samples as the baseline, let's downsample non-users with no replacement while upsample other drug abusers with replacement. The resulting dataframe will be balanced with respect to all drug use scores (i.e., 0-5 scores)."
   ]
  },
  {
   "cell_type": "code",
   "execution_count": 212,
   "metadata": {},
   "outputs": [],
   "source": [
    "# downsampling the majority class (non-users)\n",
    "majority = nsduh[nsduh['drug_use'] == '0']\n",
    "minority = nsduh[nsduh['drug_use'] != '0']\n",
    "majority_ds = resample(majority,\n",
    "                       replace = False,\n",
    "                       n_samples = 9270,\n",
    "                       random_state = 123)\n",
    "minority_opioid = nsduh[nsduh['drug_use'] == '1']\n",
    "minority_heroin = resample(nsduh[nsduh['drug_use'] == '2'],\n",
    "                       replace = True,\n",
    "                       n_samples = 9270,\n",
    "                       random_state = 123)\n",
    "minority_stimulant = resample(nsduh[nsduh['drug_use'] == '3'],\n",
    "                       replace = True,\n",
    "                       n_samples = 9270,\n",
    "                       random_state = 123)\n",
    "minority_sedative = resample(nsduh[nsduh['drug_use'] == '4'],\n",
    "                       replace = True,\n",
    "                       n_samples = 9270,\n",
    "                       random_state = 123)\n",
    "minority_poly = resample(nsduh[nsduh['drug_use'] == '5'],\n",
    "                       replace = True,\n",
    "                       n_samples = 9270,\n",
    "                       random_state = 123)\n",
    "nsduh_ds = pd.concat([majority_ds,minority_opioid,minority_heroin,minority_stimulant,minority_sedative,minority_poly])\n",
    "nsduh_ds.reset_index(drop = True,inplace = True)"
   ]
  },
  {
   "cell_type": "markdown",
   "metadata": {},
   "source": [
    "Using Random Forest to predict multi-class drug-use classification:"
   ]
  },
  {
   "cell_type": "code",
   "execution_count": 215,
   "metadata": {},
   "outputs": [],
   "source": [
    "# get X, y including training and testing datasets\n",
    "X,y = get_Xy(nsduh_ds,features,outcome = 'drug_use',dummy_flag = True)\n",
    "X_train, X_test, y_train, y_test = train_test_split(X, y,test_size = .3, random_state = 123)\n",
    "# perform k-fold cross-validation using randomized search\n",
    "kf = KFold(n_splits = 10, shuffle = True, random_state = 123)\n",
    "model_estimator = RandomForestClassifier()\n",
    "# use randomized search for the best model fit\n",
    "rs = RandomizedSearchCV(\n",
    "    estimator = model_estimator, \n",
    "    param_distributions = params, \n",
    "    n_iter = 100, \n",
    "    cv = kf, \n",
    "    verbose = 0, \n",
    "    random_state=123, \n",
    "    n_jobs = None)\n",
    "rs.fit(X_train, y_train)\n",
    "# best model parameters based on the search\n",
    "best_params = rs.best_params_\n",
    "# instantiate the best model\n",
    "best_model = RandomForestClassifier(\n",
    "    n_estimators = best_params['n_estimators'],\n",
    "    min_samples_split = best_params['min_samples_split'],\n",
    "    min_samples_leaf = best_params['min_samples_leaf'],\n",
    "    max_features = best_params['max_features'],\n",
    "    max_depth = best_params['max_depth'],\n",
    "    bootstrap = best_params['bootstrap'])\n",
    "accuracy = cross_val_score(best_model, X, y, cv=kf, scoring='accuracy')\n"
   ]
  },
  {
   "cell_type": "code",
   "execution_count": 216,
   "metadata": {},
   "outputs": [
    {
     "name": "stdout",
     "output_type": "stream",
     "text": [
      "Average model accuracy for predicting multi-class drug abuse: 0.506\n"
     ]
    }
   ],
   "source": [
    "print('Average model accuracy for predicting multi-class drug abuse: {:.3f}'.format(np.mean(accuracy)))"
   ]
  },
  {
   "cell_type": "code",
   "execution_count": null,
   "metadata": {},
   "outputs": [],
   "source": []
  }
 ],
 "metadata": {
  "kernelspec": {
   "display_name": "Python 3",
   "language": "python",
   "name": "python3"
  },
  "language_info": {
   "codemirror_mode": {
    "name": "ipython",
    "version": 3
   },
   "file_extension": ".py",
   "mimetype": "text/x-python",
   "name": "python",
   "nbconvert_exporter": "python",
   "pygments_lexer": "ipython3",
   "version": "3.7.11"
  },
  "varInspector": {
   "cols": {
    "lenName": 16,
    "lenType": 16,
    "lenVar": 40
   },
   "kernels_config": {
    "python": {
     "delete_cmd_postfix": "",
     "delete_cmd_prefix": "del ",
     "library": "var_list.py",
     "varRefreshCmd": "print(var_dic_list())"
    },
    "r": {
     "delete_cmd_postfix": ") ",
     "delete_cmd_prefix": "rm(",
     "library": "var_list.r",
     "varRefreshCmd": "cat(var_dic_list()) "
    }
   },
   "types_to_exclude": [
    "module",
    "function",
    "builtin_function_or_method",
    "instance",
    "_Feature"
   ],
   "window_display": false
  }
 },
 "nbformat": 4,
 "nbformat_minor": 4
}
