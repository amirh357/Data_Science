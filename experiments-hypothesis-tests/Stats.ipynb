{
 "cells": [
  {
   "cell_type": "markdown",
   "metadata": {
    "id": "-_-14an2SWwu"
   },
   "source": [
    "# Statistics"
   ]
  },
  {
   "cell_type": "markdown",
   "metadata": {
    "id": "EK3p-H7LSZ50"
   },
   "source": [
    "## Learning Objectives\n",
    "- Review the relation between correlation and causation\n",
    "- Understand what a hypothesis test is, and why it is important\n",
    "- Identify what missing data is and how to handle it\n",
    "- Test a hypothesis using a sample case study\n",
    "\n",
    "---\n",
    "\n",
    "## Data Source\n",
    "\n",
    "Today, we’ll use advertising data from an example in the book [An Introduction to Statistical Learning](http://www-bcf.usc.edu/~gareth/ISL/).\n",
    "- This is a well-known, standard introduction to machine learning.\n",
    "- The book has a more advanced version — [Elements of Statistical Learning](http://web.stanford.edu/~hastie/ElemStatLearn/) — if you are comfortable with linear algebra and statistics at the graduate level."
   ]
  },
  {
   "cell_type": "code",
   "execution_count": 1,
   "metadata": {
    "executionInfo": {
     "elapsed": 476,
     "status": "ok",
     "timestamp": 1611430641664,
     "user": {
      "displayName": "Bryce Peake",
      "photoUrl": "https://lh3.googleusercontent.com/a-/AOh14GgJyCQ2V_qxcbHa-k02tRyC2PYCznFAN1SI3YBT5Qw=s64",
      "userId": "05866871011354666091"
     },
     "user_tz": 300
    },
    "id": "1J6p07dzSmL8"
   },
   "outputs": [],
   "source": [
    "#import pandas, numpy, and matplotlib packages, \n",
    "#include jupyter magic\n",
    "import pandas as pd\n",
    "import numpy as np\n",
    "import matplotlib.pyplot as plt\n",
    "\n",
    "#this allows us to view visualizations in our notebook\n",
    "%matplotlib inline"
   ]
  },
  {
   "cell_type": "code",
   "execution_count": 64,
   "metadata": {
    "colab": {
     "base_uri": "https://localhost:8080/"
    },
    "executionInfo": {
     "elapsed": 391,
     "status": "ok",
     "timestamp": 1611430771382,
     "user": {
      "displayName": "Bryce Peake",
      "photoUrl": "https://lh3.googleusercontent.com/a-/AOh14GgJyCQ2V_qxcbHa-k02tRyC2PYCznFAN1SI3YBT5Qw=s64",
      "userId": "05866871011354666091"
     },
     "user_tz": 300
    },
    "id": "F3G2jdf3S_F2",
    "outputId": "cfe2ad48-58ce-4b6f-b87b-455316fce345"
   },
   "outputs": [
    {
     "name": "stdout",
     "output_type": "stream",
     "text": [
      "<class 'pandas.core.frame.DataFrame'>\n",
      "Int64Index: 200 entries, 1 to 200\n",
      "Data columns (total 4 columns):\n",
      " #   Column     Non-Null Count  Dtype  \n",
      "---  ------     --------------  -----  \n",
      " 0   TV         200 non-null    float64\n",
      " 1   radio      200 non-null    float64\n",
      " 2   newspaper  200 non-null    float64\n",
      " 3   sales      200 non-null    float64\n",
      "dtypes: float64(4)\n",
      "memory usage: 7.8 KB\n"
     ]
    }
   ],
   "source": [
    "#Here I'm importing that data table\n",
    "df = pd.read_csv('./data/TV-Radio-Newspaper-Sales.txt',  index_col = 0)\n",
    "df.info()"
   ]
  },
  {
   "cell_type": "code",
   "execution_count": 3,
   "metadata": {
    "id": "v6ZZA3s9TBub"
   },
   "outputs": [
    {
     "data": {
      "text/html": [
       "<div>\n",
       "<style scoped>\n",
       "    .dataframe tbody tr th:only-of-type {\n",
       "        vertical-align: middle;\n",
       "    }\n",
       "\n",
       "    .dataframe tbody tr th {\n",
       "        vertical-align: top;\n",
       "    }\n",
       "\n",
       "    .dataframe thead th {\n",
       "        text-align: right;\n",
       "    }\n",
       "</style>\n",
       "<table border=\"1\" class=\"dataframe\">\n",
       "  <thead>\n",
       "    <tr style=\"text-align: right;\">\n",
       "      <th></th>\n",
       "      <th>TV</th>\n",
       "      <th>radio</th>\n",
       "      <th>newspaper</th>\n",
       "      <th>sales</th>\n",
       "    </tr>\n",
       "  </thead>\n",
       "  <tbody>\n",
       "    <tr>\n",
       "      <th>1</th>\n",
       "      <td>230.1</td>\n",
       "      <td>37.8</td>\n",
       "      <td>69.2</td>\n",
       "      <td>22.1</td>\n",
       "    </tr>\n",
       "    <tr>\n",
       "      <th>2</th>\n",
       "      <td>44.5</td>\n",
       "      <td>39.3</td>\n",
       "      <td>45.1</td>\n",
       "      <td>10.4</td>\n",
       "    </tr>\n",
       "    <tr>\n",
       "      <th>3</th>\n",
       "      <td>17.2</td>\n",
       "      <td>45.9</td>\n",
       "      <td>69.3</td>\n",
       "      <td>9.3</td>\n",
       "    </tr>\n",
       "    <tr>\n",
       "      <th>4</th>\n",
       "      <td>151.5</td>\n",
       "      <td>41.3</td>\n",
       "      <td>58.5</td>\n",
       "      <td>18.5</td>\n",
       "    </tr>\n",
       "    <tr>\n",
       "      <th>5</th>\n",
       "      <td>180.8</td>\n",
       "      <td>10.8</td>\n",
       "      <td>58.4</td>\n",
       "      <td>12.9</td>\n",
       "    </tr>\n",
       "  </tbody>\n",
       "</table>\n",
       "</div>"
      ],
      "text/plain": [
       "      TV  radio  newspaper  sales\n",
       "1  230.1   37.8       69.2   22.1\n",
       "2   44.5   39.3       45.1   10.4\n",
       "3   17.2   45.9       69.3    9.3\n",
       "4  151.5   41.3       58.5   18.5\n",
       "5  180.8   10.8       58.4   12.9"
      ]
     },
     "execution_count": 3,
     "metadata": {},
     "output_type": "execute_result"
    }
   ],
   "source": [
    "#Show the head\n",
    "df.head()"
   ]
  },
  {
   "cell_type": "code",
   "execution_count": 4,
   "metadata": {
    "id": "kZedSJ6ATJfv"
   },
   "outputs": [
    {
     "data": {
      "text/html": [
       "<div>\n",
       "<style scoped>\n",
       "    .dataframe tbody tr th:only-of-type {\n",
       "        vertical-align: middle;\n",
       "    }\n",
       "\n",
       "    .dataframe tbody tr th {\n",
       "        vertical-align: top;\n",
       "    }\n",
       "\n",
       "    .dataframe thead th {\n",
       "        text-align: right;\n",
       "    }\n",
       "</style>\n",
       "<table border=\"1\" class=\"dataframe\">\n",
       "  <thead>\n",
       "    <tr style=\"text-align: right;\">\n",
       "      <th></th>\n",
       "      <th>TV</th>\n",
       "      <th>radio</th>\n",
       "      <th>newspaper</th>\n",
       "      <th>sales</th>\n",
       "    </tr>\n",
       "  </thead>\n",
       "  <tbody>\n",
       "    <tr>\n",
       "      <th>count</th>\n",
       "      <td>200.000000</td>\n",
       "      <td>200.000000</td>\n",
       "      <td>200.000000</td>\n",
       "      <td>200.000000</td>\n",
       "    </tr>\n",
       "    <tr>\n",
       "      <th>mean</th>\n",
       "      <td>147.042500</td>\n",
       "      <td>23.264000</td>\n",
       "      <td>30.554000</td>\n",
       "      <td>14.022500</td>\n",
       "    </tr>\n",
       "    <tr>\n",
       "      <th>std</th>\n",
       "      <td>85.854236</td>\n",
       "      <td>14.846809</td>\n",
       "      <td>21.778621</td>\n",
       "      <td>5.217457</td>\n",
       "    </tr>\n",
       "    <tr>\n",
       "      <th>min</th>\n",
       "      <td>0.700000</td>\n",
       "      <td>0.000000</td>\n",
       "      <td>0.300000</td>\n",
       "      <td>1.600000</td>\n",
       "    </tr>\n",
       "    <tr>\n",
       "      <th>25%</th>\n",
       "      <td>74.375000</td>\n",
       "      <td>9.975000</td>\n",
       "      <td>12.750000</td>\n",
       "      <td>10.375000</td>\n",
       "    </tr>\n",
       "    <tr>\n",
       "      <th>50%</th>\n",
       "      <td>149.750000</td>\n",
       "      <td>22.900000</td>\n",
       "      <td>25.750000</td>\n",
       "      <td>12.900000</td>\n",
       "    </tr>\n",
       "    <tr>\n",
       "      <th>75%</th>\n",
       "      <td>218.825000</td>\n",
       "      <td>36.525000</td>\n",
       "      <td>45.100000</td>\n",
       "      <td>17.400000</td>\n",
       "    </tr>\n",
       "    <tr>\n",
       "      <th>max</th>\n",
       "      <td>296.400000</td>\n",
       "      <td>49.600000</td>\n",
       "      <td>114.000000</td>\n",
       "      <td>27.000000</td>\n",
       "    </tr>\n",
       "  </tbody>\n",
       "</table>\n",
       "</div>"
      ],
      "text/plain": [
       "               TV       radio   newspaper       sales\n",
       "count  200.000000  200.000000  200.000000  200.000000\n",
       "mean   147.042500   23.264000   30.554000   14.022500\n",
       "std     85.854236   14.846809   21.778621    5.217457\n",
       "min      0.700000    0.000000    0.300000    1.600000\n",
       "25%     74.375000    9.975000   12.750000   10.375000\n",
       "50%    149.750000   22.900000   25.750000   12.900000\n",
       "75%    218.825000   36.525000   45.100000   17.400000\n",
       "max    296.400000   49.600000  114.000000   27.000000"
      ]
     },
     "execution_count": 4,
     "metadata": {},
     "output_type": "execute_result"
    }
   ],
   "source": [
    "#describe your data using the pandas method for summary statistics\n",
    "df.describe()"
   ]
  },
  {
   "cell_type": "markdown",
   "metadata": {
    "id": "ivW0DvHiTWxL"
   },
   "source": [
    "## The Normal distribution\n",
    "\n",
    "---\n",
    "\n",
    "The Normal distribution is arguably the most commonly used distribution in all of statistics. **Normality** is an assumption that underlies many statistical tests and serves as a convenient model for the distribution of many (but not all!) variables.\n",
    "\n",
    "The Normal distribution is parameterized by two parameters: \n",
    "- the population mean\n",
    "- the population standard deviation. \n",
    "\n",
    "If a variable follows a Normal distribution exactly, its mean, median, and mode will all be equal."
   ]
  },
  {
   "cell_type": "code",
   "execution_count": null,
   "metadata": {
    "id": "MyivdjxrTLk_"
   },
   "outputs": [],
   "source": [
    "#We can approximate whether we have a normal distribution using .describe() by comparing the mean and the median\n"
   ]
  },
  {
   "cell_type": "code",
   "execution_count": 5,
   "metadata": {
    "colab": {
     "base_uri": "https://localhost:8080/",
     "height": 268
    },
    "executionInfo": {
     "elapsed": 462,
     "status": "ok",
     "timestamp": 1611430889597,
     "user": {
      "displayName": "Bryce Peake",
      "photoUrl": "https://lh3.googleusercontent.com/a-/AOh14GgJyCQ2V_qxcbHa-k02tRyC2PYCznFAN1SI3YBT5Qw=s64",
      "userId": "05866871011354666091"
     },
     "user_tz": 300
    },
    "id": "vRM0zQoQTlTX",
    "outputId": "7e2a1b65-b058-4bf0-902a-a4c2395cf8d9"
   },
   "outputs": [
    {
     "data": {
      "image/png": "[encoded data removed]",
      "text/plain": [
       "<Figure size 432x288 with 1 Axes>"
      ]
     },
     "metadata": {
      "needs_background": "light"
     },
     "output_type": "display_data"
    }
   ],
   "source": [
    "#We can also visualize it!\n",
    "plt.hist(df.sales, bins = 50);"
   ]
  },
  {
   "cell_type": "markdown",
   "metadata": {
    "id": "vBplkEomUFiX"
   },
   "source": [
    "Here we are starting to do some statistical computing. We might think this is very abnormally distributed, but it's because we don't have the right bins factor. \n",
    "\n",
    "[Read this post if you want to learn all of the different rules for binning](https://medium.com/analytics-vidhya/data-scientists-stop-randomly-binning-histograms-1069d7380c3a)\n",
    "\n",
    "Typically, though, you should start with scott's rule. Let's look at the pieces of statistical knowledge we need to get there!\n",
    "\n"
   ]
  },
  {
   "cell_type": "markdown",
   "metadata": {
    "id": "xtXhpJibVMOp"
   },
   "source": [
    "# Outliers and Standard Deviation\n",
    "\n",
    "An outlier in a data series is a signficant deviation from some reasonable value. Let's start with a 'small data' example. In this dataframe, the 'count' is the number of 'values' in the dataset -- this is essentially a visualization of a `value_count()` applied to sales. "
   ]
  },
  {
   "cell_type": "code",
   "execution_count": 7,
   "metadata": {
    "colab": {
     "base_uri": "https://localhost:8080/",
     "height": 281
    },
    "executionInfo": {
     "elapsed": 437,
     "status": "ok",
     "timestamp": 1611431184006,
     "user": {
      "displayName": "Bryce Peake",
      "photoUrl": "https://lh3.googleusercontent.com/a-/AOh14GgJyCQ2V_qxcbHa-k02tRyC2PYCznFAN1SI3YBT5Qw=s64",
      "userId": "05866871011354666091"
     },
     "user_tz": 300
    },
    "id": "GsHsUwYdTpUw",
    "outputId": "fee51643-0f7e-4b29-b255-ed2a47aca753"
   },
   "outputs": [
    {
     "data": {
      "image/png": "[encoded data removed]",
      "text/plain": [
       "<Figure size 432x288 with 1 Axes>"
      ]
     },
     "metadata": {
      "needs_background": "light"
     },
     "output_type": "display_data"
    }
   ],
   "source": [
    "count = [2, 3, 5, 2, 3, 12, 5, 3, 4]\n",
    "value = [1, 2, 3, 4, 5, 6, 7, 8, 9]\n",
    "\n",
    "dataframe = pd.DataFrame(list(zip(value, count)), columns = ['value', 'count'])\n",
    "plt.scatter(x = dataframe['value'], y = dataframe['count'])\n",
    "plt.title('Number of sales (y) worth specific values (x)');"
   ]
  },
  {
   "cell_type": "markdown",
   "metadata": {
    "id": "CffyKDuOyJae"
   },
   "source": [
    "It's pretty intuitive for us humans to call out which of these does not belong. But computers don't have intuition, so we need to help it out. \n",
    "\n",
    "To find the anomaly in a series of numbers, we need to first define what a reasonable value is. A good place to start looking is the mean!"
   ]
  },
  {
   "cell_type": "code",
   "execution_count": 8,
   "metadata": {
    "colab": {
     "base_uri": "https://localhost:8080/"
    },
    "executionInfo": {
     "elapsed": 408,
     "status": "ok",
     "timestamp": 1611431256812,
     "user": {
      "displayName": "Bryce Peake",
      "photoUrl": "https://lh3.googleusercontent.com/a-/AOh14GgJyCQ2V_qxcbHa-k02tRyC2PYCznFAN1SI3YBT5Qw=s64",
      "userId": "05866871011354666091"
     },
     "user_tz": 300
    },
    "id": "_8vIOY08wAOn",
    "outputId": "797e9127-4ccc-4146-c7eb-317a19160eab"
   },
   "outputs": [
    {
     "data": {
      "text/plain": [
       "4.333333333333333"
      ]
     },
     "execution_count": 8,
     "metadata": {},
     "output_type": "execute_result"
    }
   ],
   "source": [
    "dataframe['count'].mean()"
   ]
  },
  {
   "cell_type": "markdown",
   "metadata": {
    "id": "ng4uhCTdyfYF"
   },
   "source": [
    "... and then, we need to define the deviation. The standard deviation is an easy measure for this. Let's implement this by hand!\n",
    "\n",
    " First, we calculate variance - the average squared distance from the mean. \n",
    "\n",
    "<p><img height=\"45px\" src=\"https://www.gstatic.com/education/formulas2/-1/en/sample_variance.svg\" align=\"center\" hspace=\"10px\" vspace=\"0px\"></p>\n",
    "\n",
    "Then, to get to the standard deviation, we simply take the square root of the variance. \n",
    "\n",
    "<p><img height=\"90px\" src=\"https://media.cheggcdn.com/media%2Ffb2%2Ffb229b3b-7787-4b44-b401-93e6a39b5890%2FphpZEGuzV.png\" align=\"center\" hspace=\"10px\" vspace=\"0px\"></p>\n",
    "\n",
    "\n"
   ]
  },
  {
   "cell_type": "code",
   "execution_count": 9,
   "metadata": {
    "colab": {
     "base_uri": "https://localhost:8080/"
    },
    "executionInfo": {
     "elapsed": 435,
     "status": "ok",
     "timestamp": 1611432285381,
     "user": {
      "displayName": "Bryce Peake",
      "photoUrl": "https://lh3.googleusercontent.com/a-/AOh14GgJyCQ2V_qxcbHa-k02tRyC2PYCznFAN1SI3YBT5Qw=s64",
      "userId": "05866871011354666091"
     },
     "user_tz": 300
    },
    "id": "xoQ4T1x-zLo4",
    "outputId": "e0a40770-555d-4649-86db-d89a5835f137"
   },
   "outputs": [
    {
     "data": {
      "text/plain": [
       "3.082207001484488"
      ]
     },
     "execution_count": 9,
     "metadata": {},
     "output_type": "execute_result"
    }
   ],
   "source": [
    "#start with an empty list to store our distance calcuations\n",
    "distance_calc = []\n",
    "\n",
    "#We start with the top right of the equation: \n",
    "## squared value of xi (x at index i) minus the mean of x (x-bar)\n",
    "for cnt in dataframe['count']:\n",
    "  distance_calc.append((cnt - dataframe['count'].mean()) ** 2)\n",
    "\n",
    "#take the sum of that list (Sigma = sum of...), and divide by the length of the results. The is stored as s^2\n",
    "s2 = round(sum(distance_calc) / (len(distance_calc)-1), 2)\n",
    "\n",
    "#Take the square root of s2 to get to the standard deviation\n",
    "standard_deviation = np.sqrt(s2)\n",
    "\n",
    "standard_deviation"
   ]
  },
  {
   "cell_type": "markdown",
   "metadata": {
    "id": "1qJ2Dlv12wom"
   },
   "source": [
    "Now that we've defined a reasonable value and a deviation, we can define a range of acceptable, expected values. as something that is within 1 standard deviation: mean +- 1*std. Any value outside of that is considered an outlier. \n"
   ]
  },
  {
   "cell_type": "code",
   "execution_count": 10,
   "metadata": {
    "colab": {
     "base_uri": "https://localhost:8080/"
    },
    "executionInfo": {
     "elapsed": 380,
     "status": "ok",
     "timestamp": 1611432524082,
     "user": {
      "displayName": "Bryce Peake",
      "photoUrl": "https://lh3.googleusercontent.com/a-/AOh14GgJyCQ2V_qxcbHa-k02tRyC2PYCznFAN1SI3YBT5Qw=s64",
      "userId": "05866871011354666091"
     },
     "user_tz": 300
    },
    "id": "lEwt-A0n22rg",
    "outputId": "3182c346-4c2f-463e-e995-6d8af8237e3e"
   },
   "outputs": [
    {
     "name": "stdout",
     "output_type": "stream",
     "text": [
      "lowest expected value in a single deviation is 1.251126331848845\n",
      "highest expected value in a single deviation is 7.4155403348178215\n"
     ]
    }
   ],
   "source": [
    "lower_bound = dataframe['count'].mean() - standard_deviation\n",
    "upper_bound = dataframe['count'].mean() + standard_deviation\n",
    "\n",
    "print('lowest expected value in a single deviation is {}'.format(lower_bound))\n",
    "print('highest expected value in a single deviation is {}'.format(upper_bound))\n"
   ]
  },
  {
   "cell_type": "code",
   "execution_count": 27,
   "metadata": {
    "executionInfo": {
     "elapsed": 369,
     "status": "ok",
     "timestamp": 1611432618703,
     "user": {
      "displayName": "Bryce Peake",
      "photoUrl": "https://lh3.googleusercontent.com/a-/AOh14GgJyCQ2V_qxcbHa-k02tRyC2PYCznFAN1SI3YBT5Qw=s64",
      "userId": "05866871011354666091"
     },
     "user_tz": 300
    },
    "id": "XlRkESWr3d3d"
   },
   "outputs": [
    {
     "data": {
      "text/html": [
       "<div>\n",
       "<style scoped>\n",
       "    .dataframe tbody tr th:only-of-type {\n",
       "        vertical-align: middle;\n",
       "    }\n",
       "\n",
       "    .dataframe tbody tr th {\n",
       "        vertical-align: top;\n",
       "    }\n",
       "\n",
       "    .dataframe thead th {\n",
       "        text-align: right;\n",
       "    }\n",
       "</style>\n",
       "<table border=\"1\" class=\"dataframe\">\n",
       "  <thead>\n",
       "    <tr style=\"text-align: right;\">\n",
       "      <th></th>\n",
       "      <th>value</th>\n",
       "      <th>count</th>\n",
       "      <th>1st</th>\n",
       "      <th>outlier</th>\n",
       "    </tr>\n",
       "  </thead>\n",
       "  <tbody>\n",
       "    <tr>\n",
       "      <th>0</th>\n",
       "      <td>1</td>\n",
       "      <td>2</td>\n",
       "      <td>False</td>\n",
       "      <td>False</td>\n",
       "    </tr>\n",
       "    <tr>\n",
       "      <th>1</th>\n",
       "      <td>2</td>\n",
       "      <td>3</td>\n",
       "      <td>False</td>\n",
       "      <td>False</td>\n",
       "    </tr>\n",
       "    <tr>\n",
       "      <th>2</th>\n",
       "      <td>3</td>\n",
       "      <td>5</td>\n",
       "      <td>False</td>\n",
       "      <td>False</td>\n",
       "    </tr>\n",
       "    <tr>\n",
       "      <th>3</th>\n",
       "      <td>4</td>\n",
       "      <td>2</td>\n",
       "      <td>False</td>\n",
       "      <td>False</td>\n",
       "    </tr>\n",
       "    <tr>\n",
       "      <th>4</th>\n",
       "      <td>5</td>\n",
       "      <td>3</td>\n",
       "      <td>False</td>\n",
       "      <td>False</td>\n",
       "    </tr>\n",
       "    <tr>\n",
       "      <th>5</th>\n",
       "      <td>6</td>\n",
       "      <td>12</td>\n",
       "      <td>True</td>\n",
       "      <td>True</td>\n",
       "    </tr>\n",
       "    <tr>\n",
       "      <th>6</th>\n",
       "      <td>7</td>\n",
       "      <td>5</td>\n",
       "      <td>False</td>\n",
       "      <td>False</td>\n",
       "    </tr>\n",
       "    <tr>\n",
       "      <th>7</th>\n",
       "      <td>8</td>\n",
       "      <td>3</td>\n",
       "      <td>False</td>\n",
       "      <td>False</td>\n",
       "    </tr>\n",
       "    <tr>\n",
       "      <th>8</th>\n",
       "      <td>9</td>\n",
       "      <td>4</td>\n",
       "      <td>False</td>\n",
       "      <td>False</td>\n",
       "    </tr>\n",
       "  </tbody>\n",
       "</table>\n",
       "</div>"
      ],
      "text/plain": [
       "   value  count    1st  outlier\n",
       "0      1      2  False    False\n",
       "1      2      3  False    False\n",
       "2      3      5  False    False\n",
       "3      4      2  False    False\n",
       "4      5      3  False    False\n",
       "5      6     12   True     True\n",
       "6      7      5  False    False\n",
       "7      8      3  False    False\n",
       "8      9      4  False    False"
      ]
     },
     "execution_count": 27,
     "metadata": {},
     "output_type": "execute_result"
    }
   ],
   "source": [
    "#Create a feature that flags data that is outside of 1 standard deviation in dataframe\n",
    "def outlier(x):\n",
    "    if (x > upper_bound or x <lower_bound):\n",
    "        return True\n",
    "    else:\n",
    "        return False\n",
    "dataframe['outlier'] = dataframe['count'].apply(outlier)\n",
    "dataframe.head(20)"
   ]
  },
  {
   "cell_type": "markdown",
   "metadata": {
    "id": "exPYY5Bh3qW8"
   },
   "source": [
    "Using this approach, you should have found that value 6 (count 12) is outside the range of acceptable values. \n",
    "\n",
    "This is fairly imprecise though. What if we want to experiment with what the acceptable number of deviations is? We can instead return a Z-score. \n",
    "\n",
    "z-score, or **Standard Score**, is the number of standard deviations from the mean a value is. That means, it's obviously derivative from what we've just done! The Z score for a value is the value-mean, divided by the standard deviation - this returns how many standard deviations outside of the norm the value is.\n",
    "\n",
    "\n",
    "<p><img height=\"45px\" src=\"https://www.datavedas.com/wp-content/uploads/2018/01/1.1.2.1.2-Z-Scores-Z-Test-and-Probability-Distribution-3.jpg\" align=\"center\" hspace=\"10px\" vspace=\"0px\"></p>\n",
    "\n",
    "\n"
   ]
  },
  {
   "cell_type": "code",
   "execution_count": 33,
   "metadata": {
    "executionInfo": {
     "elapsed": 379,
     "status": "ok",
     "timestamp": 1611433073256,
     "user": {
      "displayName": "Bryce Peake",
      "photoUrl": "https://lh3.googleusercontent.com/a-/AOh14GgJyCQ2V_qxcbHa-k02tRyC2PYCznFAN1SI3YBT5Qw=s64",
      "userId": "05866871011354666091"
     },
     "user_tz": 300
    },
    "id": "C0APvYA73mk9"
   },
   "outputs": [],
   "source": [
    "#lets implement this as a function that you'll apply to each cell of the dataframe!\n",
    "def zScore(cell):\n",
    "  '''\n",
    "  Calculates the zscore, returning the zscore per instance. Accepts a single cell at a time. \n",
    "  '''\n",
    "  return (cell - dataframe['count'].mean()) / standard_deviation"
   ]
  },
  {
   "cell_type": "code",
   "execution_count": 34,
   "metadata": {
    "colab": {
     "base_uri": "https://localhost:8080/",
     "height": 328
    },
    "executionInfo": {
     "elapsed": 414,
     "status": "ok",
     "timestamp": 1611433135196,
     "user": {
      "displayName": "Bryce Peake",
      "photoUrl": "https://lh3.googleusercontent.com/a-/AOh14GgJyCQ2V_qxcbHa-k02tRyC2PYCznFAN1SI3YBT5Qw=s64",
      "userId": "05866871011354666091"
     },
     "user_tz": 300
    },
    "id": "WP39yYBb5Viz",
    "outputId": "419c1a08-6e63-4d4a-8efa-250a543bf605"
   },
   "outputs": [
    {
     "data": {
      "text/html": [
       "<div>\n",
       "<style scoped>\n",
       "    .dataframe tbody tr th:only-of-type {\n",
       "        vertical-align: middle;\n",
       "    }\n",
       "\n",
       "    .dataframe tbody tr th {\n",
       "        vertical-align: top;\n",
       "    }\n",
       "\n",
       "    .dataframe thead th {\n",
       "        text-align: right;\n",
       "    }\n",
       "</style>\n",
       "<table border=\"1\" class=\"dataframe\">\n",
       "  <thead>\n",
       "    <tr style=\"text-align: right;\">\n",
       "      <th></th>\n",
       "      <th>value</th>\n",
       "      <th>count</th>\n",
       "      <th>1st</th>\n",
       "      <th>outlier</th>\n",
       "      <th>zScore</th>\n",
       "    </tr>\n",
       "  </thead>\n",
       "  <tbody>\n",
       "    <tr>\n",
       "      <th>0</th>\n",
       "      <td>1</td>\n",
       "      <td>2</td>\n",
       "      <td>False</td>\n",
       "      <td>False</td>\n",
       "      <td>-0.757033</td>\n",
       "    </tr>\n",
       "    <tr>\n",
       "      <th>1</th>\n",
       "      <td>2</td>\n",
       "      <td>3</td>\n",
       "      <td>False</td>\n",
       "      <td>False</td>\n",
       "      <td>-0.432590</td>\n",
       "    </tr>\n",
       "    <tr>\n",
       "      <th>2</th>\n",
       "      <td>3</td>\n",
       "      <td>5</td>\n",
       "      <td>False</td>\n",
       "      <td>False</td>\n",
       "      <td>0.216295</td>\n",
       "    </tr>\n",
       "    <tr>\n",
       "      <th>3</th>\n",
       "      <td>4</td>\n",
       "      <td>2</td>\n",
       "      <td>False</td>\n",
       "      <td>False</td>\n",
       "      <td>-0.757033</td>\n",
       "    </tr>\n",
       "    <tr>\n",
       "      <th>4</th>\n",
       "      <td>5</td>\n",
       "      <td>3</td>\n",
       "      <td>False</td>\n",
       "      <td>False</td>\n",
       "      <td>-0.432590</td>\n",
       "    </tr>\n",
       "    <tr>\n",
       "      <th>5</th>\n",
       "      <td>6</td>\n",
       "      <td>12</td>\n",
       "      <td>True</td>\n",
       "      <td>True</td>\n",
       "      <td>2.487395</td>\n",
       "    </tr>\n",
       "    <tr>\n",
       "      <th>6</th>\n",
       "      <td>7</td>\n",
       "      <td>5</td>\n",
       "      <td>False</td>\n",
       "      <td>False</td>\n",
       "      <td>0.216295</td>\n",
       "    </tr>\n",
       "    <tr>\n",
       "      <th>7</th>\n",
       "      <td>8</td>\n",
       "      <td>3</td>\n",
       "      <td>False</td>\n",
       "      <td>False</td>\n",
       "      <td>-0.432590</td>\n",
       "    </tr>\n",
       "    <tr>\n",
       "      <th>8</th>\n",
       "      <td>9</td>\n",
       "      <td>4</td>\n",
       "      <td>False</td>\n",
       "      <td>False</td>\n",
       "      <td>-0.108148</td>\n",
       "    </tr>\n",
       "  </tbody>\n",
       "</table>\n",
       "</div>"
      ],
      "text/plain": [
       "   value  count    1st  outlier    zScore\n",
       "0      1      2  False    False -0.757033\n",
       "1      2      3  False    False -0.432590\n",
       "2      3      5  False    False  0.216295\n",
       "3      4      2  False    False -0.757033\n",
       "4      5      3  False    False -0.432590\n",
       "5      6     12   True     True  2.487395\n",
       "6      7      5  False    False  0.216295\n",
       "7      8      3  False    False -0.432590\n",
       "8      9      4  False    False -0.108148"
      ]
     },
     "execution_count": 34,
     "metadata": {},
     "output_type": "execute_result"
    }
   ],
   "source": [
    "#this is the first time you're learning about applying functions - check out this syntax, and let's talk about it's power. \n",
    "dataframe['zScore'] = dataframe['count'].apply(zScore)\n",
    "dataframe"
   ]
  },
  {
   "cell_type": "markdown",
   "metadata": {
    "id": "rBkxqXSO5ujp"
   },
   "source": [
    "Let's say we wanted to flag any instances outside of 1.5 standard deviations as an outlier, we could create a boolean feature. "
   ]
  },
  {
   "cell_type": "code",
   "execution_count": 35,
   "metadata": {
    "colab": {
     "base_uri": "https://localhost:8080/",
     "height": 328
    },
    "executionInfo": {
     "elapsed": 406,
     "status": "ok",
     "timestamp": 1611433286304,
     "user": {
      "displayName": "Bryce Peake",
      "photoUrl": "https://lh3.googleusercontent.com/a-/AOh14GgJyCQ2V_qxcbHa-k02tRyC2PYCznFAN1SI3YBT5Qw=s64",
      "userId": "05866871011354666091"
     },
     "user_tz": 300
    },
    "id": "5blWRFta526C",
    "outputId": "5db71081-343b-4a46-f8da-4ed308b14c09"
   },
   "outputs": [
    {
     "data": {
      "text/html": [
       "<div>\n",
       "<style scoped>\n",
       "    .dataframe tbody tr th:only-of-type {\n",
       "        vertical-align: middle;\n",
       "    }\n",
       "\n",
       "    .dataframe tbody tr th {\n",
       "        vertical-align: top;\n",
       "    }\n",
       "\n",
       "    .dataframe thead th {\n",
       "        text-align: right;\n",
       "    }\n",
       "</style>\n",
       "<table border=\"1\" class=\"dataframe\">\n",
       "  <thead>\n",
       "    <tr style=\"text-align: right;\">\n",
       "      <th></th>\n",
       "      <th>value</th>\n",
       "      <th>count</th>\n",
       "      <th>1st</th>\n",
       "      <th>outlier</th>\n",
       "      <th>zScore</th>\n",
       "    </tr>\n",
       "  </thead>\n",
       "  <tbody>\n",
       "    <tr>\n",
       "      <th>0</th>\n",
       "      <td>1</td>\n",
       "      <td>2</td>\n",
       "      <td>False</td>\n",
       "      <td>False</td>\n",
       "      <td>-0.757033</td>\n",
       "    </tr>\n",
       "    <tr>\n",
       "      <th>1</th>\n",
       "      <td>2</td>\n",
       "      <td>3</td>\n",
       "      <td>False</td>\n",
       "      <td>False</td>\n",
       "      <td>-0.432590</td>\n",
       "    </tr>\n",
       "    <tr>\n",
       "      <th>2</th>\n",
       "      <td>3</td>\n",
       "      <td>5</td>\n",
       "      <td>False</td>\n",
       "      <td>False</td>\n",
       "      <td>0.216295</td>\n",
       "    </tr>\n",
       "    <tr>\n",
       "      <th>3</th>\n",
       "      <td>4</td>\n",
       "      <td>2</td>\n",
       "      <td>False</td>\n",
       "      <td>False</td>\n",
       "      <td>-0.757033</td>\n",
       "    </tr>\n",
       "    <tr>\n",
       "      <th>4</th>\n",
       "      <td>5</td>\n",
       "      <td>3</td>\n",
       "      <td>False</td>\n",
       "      <td>False</td>\n",
       "      <td>-0.432590</td>\n",
       "    </tr>\n",
       "    <tr>\n",
       "      <th>5</th>\n",
       "      <td>6</td>\n",
       "      <td>12</td>\n",
       "      <td>True</td>\n",
       "      <td>True</td>\n",
       "      <td>2.487395</td>\n",
       "    </tr>\n",
       "    <tr>\n",
       "      <th>6</th>\n",
       "      <td>7</td>\n",
       "      <td>5</td>\n",
       "      <td>False</td>\n",
       "      <td>False</td>\n",
       "      <td>0.216295</td>\n",
       "    </tr>\n",
       "    <tr>\n",
       "      <th>7</th>\n",
       "      <td>8</td>\n",
       "      <td>3</td>\n",
       "      <td>False</td>\n",
       "      <td>False</td>\n",
       "      <td>-0.432590</td>\n",
       "    </tr>\n",
       "    <tr>\n",
       "      <th>8</th>\n",
       "      <td>9</td>\n",
       "      <td>4</td>\n",
       "      <td>False</td>\n",
       "      <td>False</td>\n",
       "      <td>-0.108148</td>\n",
       "    </tr>\n",
       "  </tbody>\n",
       "</table>\n",
       "</div>"
      ],
      "text/plain": [
       "   value  count    1st  outlier    zScore\n",
       "0      1      2  False    False -0.757033\n",
       "1      2      3  False    False -0.432590\n",
       "2      3      5  False    False  0.216295\n",
       "3      4      2  False    False -0.757033\n",
       "4      5      3  False    False -0.432590\n",
       "5      6     12   True     True  2.487395\n",
       "6      7      5  False    False  0.216295\n",
       "7      8      3  False    False -0.432590\n",
       "8      9      4  False    False -0.108148"
      ]
     },
     "execution_count": 35,
     "metadata": {},
     "output_type": "execute_result"
    }
   ],
   "source": [
    "#create a feature that says whether something is an outlier\n",
    "dataframe['outlier'] = (dataframe['zScore'] > 1) | (dataframe['zScore'] < -1)\n",
    "dataframe"
   ]
  },
  {
   "cell_type": "markdown",
   "metadata": {
    "id": "LxgZr52O6MRT"
   },
   "source": [
    "If the business asked you \"what percentage of our ideal dataframe is an outlier? Could you answer it now? "
   ]
  },
  {
   "cell_type": "code",
   "execution_count": 36,
   "metadata": {
    "colab": {
     "base_uri": "https://localhost:8080/"
    },
    "executionInfo": {
     "elapsed": 223,
     "status": "ok",
     "timestamp": 1611433386183,
     "user": {
      "displayName": "Bryce Peake",
      "photoUrl": "https://lh3.googleusercontent.com/a-/AOh14GgJyCQ2V_qxcbHa-k02tRyC2PYCznFAN1SI3YBT5Qw=s64",
      "userId": "05866871011354666091"
     },
     "user_tz": 300
    },
    "id": "6Q2ScE7E6Rh9",
    "outputId": "a9e687fe-ccd3-4c4a-e4f0-3b0b22ea324f"
   },
   "outputs": [
    {
     "data": {
      "text/plain": [
       "False    0.888889\n",
       "True     0.111111\n",
       "Name: outlier, dtype: float64"
      ]
     },
     "execution_count": 36,
     "metadata": {},
     "output_type": "execute_result"
    }
   ],
   "source": [
    "#Check out all of your options in the .value_counts() method\n",
    "dataframe['outlier'].value_counts(normalize = True)"
   ]
  },
  {
   "cell_type": "markdown",
   "metadata": {
    "id": "tbHGE4XFy7e5"
   },
   "source": [
    "This is a great exercise, and having this skill will make you an easy top-hire for any data scientist. New algorithms are constantly being created, and if you can implement and make significant money for the business, you'll be well ahead of teams that have to wait for someone else to implement an algorithm in a standard package that passes security review. \n",
    "\n",
    "Let's practice using the sales data!"
   ]
  },
  {
   "cell_type": "code",
   "execution_count": 71,
   "metadata": {},
   "outputs": [
    {
     "data": {
      "text/plain": [
       "count    200.000000\n",
       "mean      14.022500\n",
       "std        5.217457\n",
       "min        1.600000\n",
       "25%       10.375000\n",
       "50%       12.900000\n",
       "75%       17.400000\n",
       "max       27.000000\n",
       "Name: sales, dtype: float64"
      ]
     },
     "execution_count": 71,
     "metadata": {},
     "output_type": "execute_result"
    }
   ],
   "source": [
    "df['sales'].describe()"
   ]
  },
  {
   "cell_type": "code",
   "execution_count": 65,
   "metadata": {
    "executionInfo": {
     "elapsed": 384,
     "status": "ok",
     "timestamp": 1611433520103,
     "user": {
      "displayName": "Bryce Peake",
      "photoUrl": "https://lh3.googleusercontent.com/a-/AOh14GgJyCQ2V_qxcbHa-k02tRyC2PYCznFAN1SI3YBT5Qw=s64",
      "userId": "05866871011354666091"
     },
     "user_tz": 300
    },
    "id": "zt1J7eLM1YP7"
   },
   "outputs": [
    {
     "data": {
      "text/html": [
       "<div>\n",
       "<style scoped>\n",
       "    .dataframe tbody tr th:only-of-type {\n",
       "        vertical-align: middle;\n",
       "    }\n",
       "\n",
       "    .dataframe tbody tr th {\n",
       "        vertical-align: top;\n",
       "    }\n",
       "\n",
       "    .dataframe thead th {\n",
       "        text-align: right;\n",
       "    }\n",
       "</style>\n",
       "<table border=\"1\" class=\"dataframe\">\n",
       "  <thead>\n",
       "    <tr style=\"text-align: right;\">\n",
       "      <th></th>\n",
       "      <th>TV</th>\n",
       "      <th>radio</th>\n",
       "      <th>newspaper</th>\n",
       "      <th>sales</th>\n",
       "      <th>distances</th>\n",
       "    </tr>\n",
       "  </thead>\n",
       "  <tbody>\n",
       "    <tr>\n",
       "      <th>1</th>\n",
       "      <td>230.1</td>\n",
       "      <td>37.8</td>\n",
       "      <td>69.2</td>\n",
       "      <td>22.1</td>\n",
       "      <td>8.0775</td>\n",
       "    </tr>\n",
       "    <tr>\n",
       "      <th>2</th>\n",
       "      <td>44.5</td>\n",
       "      <td>39.3</td>\n",
       "      <td>45.1</td>\n",
       "      <td>10.4</td>\n",
       "      <td>-3.6225</td>\n",
       "    </tr>\n",
       "    <tr>\n",
       "      <th>3</th>\n",
       "      <td>17.2</td>\n",
       "      <td>45.9</td>\n",
       "      <td>69.3</td>\n",
       "      <td>9.3</td>\n",
       "      <td>-4.7225</td>\n",
       "    </tr>\n",
       "    <tr>\n",
       "      <th>4</th>\n",
       "      <td>151.5</td>\n",
       "      <td>41.3</td>\n",
       "      <td>58.5</td>\n",
       "      <td>18.5</td>\n",
       "      <td>4.4775</td>\n",
       "    </tr>\n",
       "    <tr>\n",
       "      <th>5</th>\n",
       "      <td>180.8</td>\n",
       "      <td>10.8</td>\n",
       "      <td>58.4</td>\n",
       "      <td>12.9</td>\n",
       "      <td>-1.1225</td>\n",
       "    </tr>\n",
       "  </tbody>\n",
       "</table>\n",
       "</div>"
      ],
      "text/plain": [
       "      TV  radio  newspaper  sales  distances\n",
       "1  230.1   37.8       69.2   22.1     8.0775\n",
       "2   44.5   39.3       45.1   10.4    -3.6225\n",
       "3   17.2   45.9       69.3    9.3    -4.7225\n",
       "4  151.5   41.3       58.5   18.5     4.4775\n",
       "5  180.8   10.8       58.4   12.9    -1.1225"
      ]
     },
     "execution_count": 65,
     "metadata": {},
     "output_type": "execute_result"
    }
   ],
   "source": [
    "#get a list of distances\n",
    "# empty distance\n",
    "distances = []\n",
    "def dist(x):\n",
    "    return x - df['sales'].mean()\n",
    "for i in df['sales']:\n",
    "    distances.append(dist(i))\n",
    "df['distances'] = distances\n",
    "df.head()"
   ]
  },
  {
   "cell_type": "code",
   "execution_count": 81,
   "metadata": {},
   "outputs": [
    {
     "name": "stdout",
     "output_type": "stream",
     "text": [
      "27.221853015075364\n",
      "5.217456565710477\n"
     ]
    }
   ],
   "source": [
    "#calculate the variance\n",
    "def variance(x):\n",
    "    v = 0\n",
    "    for i in x:\n",
    "        v += i**2\n",
    "    return v/(len(x)-1)\n",
    "sales_variance = variance(df['distances'])\n",
    "print(sales_variance)\n",
    "#calculate the standard deviation\n",
    "sales_stDev = np.sqrt(sales_variance)\n",
    "print(sales_stDev)\n",
    "#define the upper and lower bounds for 1 standard deviation\n",
    "upper_bound = df['sales'].mean() + sales_stDev\n",
    "lower_bound = df['sales'].mean() - sales_stDev\n",
    "#flag any values outside 1 standard deviation, name the feature stdFlag\n",
    "def flag(x):\n",
    "    if (x>upper_bound or x<lower_bound):\n",
    "        return True\n",
    "    else:\n",
    "        return False\n",
    "df['stdFlag'] = df['sales'].apply(lambda x: flag(x))"
   ]
  },
  {
   "cell_type": "code",
   "execution_count": 87,
   "metadata": {
    "executionInfo": {
     "elapsed": 374,
     "status": "ok",
     "timestamp": 1611433528057,
     "user": {
      "displayName": "Bryce Peake",
      "photoUrl": "https://lh3.googleusercontent.com/a-/AOh14GgJyCQ2V_qxcbHa-k02tRyC2PYCznFAN1SI3YBT5Qw=s64",
      "userId": "05866871011354666091"
     },
     "user_tz": 300
    },
    "id": "G30Hsmub7CpG"
   },
   "outputs": [],
   "source": [
    "#create a standard score function\n",
    "def standardScore(cell):\n",
    "  '''\n",
    "  Calculates the zscore, returning the zscore per instance. Accepts a single cell at a time. \n",
    "  '''\n",
    "  return (cell - df['sales'].mean()) / sales_stDev"
   ]
  },
  {
   "cell_type": "code",
   "execution_count": 89,
   "metadata": {
    "executionInfo": {
     "elapsed": 827,
     "status": "ok",
     "timestamp": 1611433555829,
     "user": {
      "displayName": "Bryce Peake",
      "photoUrl": "https://lh3.googleusercontent.com/a-/AOh14GgJyCQ2V_qxcbHa-k02tRyC2PYCznFAN1SI3YBT5Qw=s64",
      "userId": "05866871011354666091"
     },
     "user_tz": 300
    },
    "id": "5sBVpm6Q7Elp"
   },
   "outputs": [
    {
     "data": {
      "text/html": [
       "<div>\n",
       "<style scoped>\n",
       "    .dataframe tbody tr th:only-of-type {\n",
       "        vertical-align: middle;\n",
       "    }\n",
       "\n",
       "    .dataframe tbody tr th {\n",
       "        vertical-align: top;\n",
       "    }\n",
       "\n",
       "    .dataframe thead th {\n",
       "        text-align: right;\n",
       "    }\n",
       "</style>\n",
       "<table border=\"1\" class=\"dataframe\">\n",
       "  <thead>\n",
       "    <tr style=\"text-align: right;\">\n",
       "      <th></th>\n",
       "      <th>TV</th>\n",
       "      <th>radio</th>\n",
       "      <th>newspaper</th>\n",
       "      <th>sales</th>\n",
       "      <th>distances</th>\n",
       "      <th>stdFlag</th>\n",
       "      <th>standard_score</th>\n",
       "    </tr>\n",
       "  </thead>\n",
       "  <tbody>\n",
       "    <tr>\n",
       "      <th>1</th>\n",
       "      <td>230.1</td>\n",
       "      <td>37.8</td>\n",
       "      <td>69.2</td>\n",
       "      <td>22.1</td>\n",
       "      <td>8.0775</td>\n",
       "      <td>True</td>\n",
       "      <td>1.548168</td>\n",
       "    </tr>\n",
       "    <tr>\n",
       "      <th>2</th>\n",
       "      <td>44.5</td>\n",
       "      <td>39.3</td>\n",
       "      <td>45.1</td>\n",
       "      <td>10.4</td>\n",
       "      <td>-3.6225</td>\n",
       "      <td>False</td>\n",
       "      <td>-0.694304</td>\n",
       "    </tr>\n",
       "    <tr>\n",
       "      <th>3</th>\n",
       "      <td>17.2</td>\n",
       "      <td>45.9</td>\n",
       "      <td>69.3</td>\n",
       "      <td>9.3</td>\n",
       "      <td>-4.7225</td>\n",
       "      <td>False</td>\n",
       "      <td>-0.905135</td>\n",
       "    </tr>\n",
       "    <tr>\n",
       "      <th>4</th>\n",
       "      <td>151.5</td>\n",
       "      <td>41.3</td>\n",
       "      <td>58.5</td>\n",
       "      <td>18.5</td>\n",
       "      <td>4.4775</td>\n",
       "      <td>False</td>\n",
       "      <td>0.858177</td>\n",
       "    </tr>\n",
       "    <tr>\n",
       "      <th>5</th>\n",
       "      <td>180.8</td>\n",
       "      <td>10.8</td>\n",
       "      <td>58.4</td>\n",
       "      <td>12.9</td>\n",
       "      <td>-1.1225</td>\n",
       "      <td>False</td>\n",
       "      <td>-0.215143</td>\n",
       "    </tr>\n",
       "  </tbody>\n",
       "</table>\n",
       "</div>"
      ],
      "text/plain": [
       "      TV  radio  newspaper  sales  distances  stdFlag  standard_score\n",
       "1  230.1   37.8       69.2   22.1     8.0775     True        1.548168\n",
       "2   44.5   39.3       45.1   10.4    -3.6225    False       -0.694304\n",
       "3   17.2   45.9       69.3    9.3    -4.7225    False       -0.905135\n",
       "4  151.5   41.3       58.5   18.5     4.4775    False        0.858177\n",
       "5  180.8   10.8       58.4   12.9    -1.1225    False       -0.215143"
      ]
     },
     "execution_count": 89,
     "metadata": {},
     "output_type": "execute_result"
    }
   ],
   "source": [
    "#apply standard score function to sales\n",
    "df['standard_score'] = df['sales'].apply(standardScore)\n",
    "df.head()"
   ]
  },
  {
   "cell_type": "code",
   "execution_count": 97,
   "metadata": {
    "executionInfo": {
     "elapsed": 423,
     "status": "ok",
     "timestamp": 1611433566630,
     "user": {
      "displayName": "Bryce Peake",
      "photoUrl": "https://lh3.googleusercontent.com/a-/AOh14GgJyCQ2V_qxcbHa-k02tRyC2PYCznFAN1SI3YBT5Qw=s64",
      "userId": "05866871011354666091"
     },
     "user_tz": 300
    },
    "id": "B6KVNNjv7LQe"
   },
   "outputs": [],
   "source": [
    "#flag any sales that are outside of TWO standard deviations\n",
    "df['flag_2stDev'] = df['standard_score'].apply(lambda x: (x>2 or x<-2))"
   ]
  },
  {
   "cell_type": "markdown",
   "metadata": {
    "id": "VxhWhS239FRK"
   },
   "source": [
    "While useful as an exercise and skill, sometimes, we would just rather get through this work and onto actually developing insights out of the data. That's why we can use built in functions from pandas to help us with this work!"
   ]
  },
  {
   "cell_type": "code",
   "execution_count": 57,
   "metadata": {
    "colab": {
     "base_uri": "https://localhost:8080/"
    },
    "executionInfo": {
     "elapsed": 385,
     "status": "ok",
     "timestamp": 1611434108420,
     "user": {
      "displayName": "Bryce Peake",
      "photoUrl": "https://lh3.googleusercontent.com/a-/AOh14GgJyCQ2V_qxcbHa-k02tRyC2PYCznFAN1SI3YBT5Qw=s64",
      "userId": "05866871011354666091"
     },
     "user_tz": 300
    },
    "id": "MPaJ_Bzz9DGI",
    "outputId": "ef96606a-972a-46f4-c826-a4e710cf6540"
   },
   "outputs": [
    {
     "data": {
      "text/plain": [
       "5.217456565710477"
      ]
     },
     "execution_count": 57,
     "metadata": {
      "tags": []
     },
     "output_type": "execute_result"
    }
   ],
   "source": [
    "#here, let's get the standard deviation. Does it match your answer above? Beware of rounding :)\n",
    "df.sales.std()"
   ]
  },
  {
   "cell_type": "markdown",
   "metadata": {
    "id": "hMd-YpNF7UcZ"
   },
   "source": [
    "Now back to our histogram. The best way to bin a histogram so that you can evaluate whether the distribution is normal is by using scott rule. Scott rule is defined as a way to define the width of the bins in terms of values in the series.  \n",
    "\n",
    "<p><img height=\"45px\" src=\"https://docs.scipy.org/doc/numpy-1.14.0/_images/math/0d05809d032cc26458b6631d2c5faadafd99cc48.svg\" align=\"center\" hspace=\"10px\" vspace=\"0px\"></p>\n",
    "\n",
    " Where \n",
    " - R is`max(value) - min(value)`\n",
    " - n is the number of samples\n",
    " - σ is the standard deviation\n",
    "\n",
    "To get to bin count, you then muliply by 1/Range. "
   ]
  },
  {
   "cell_type": "code",
   "execution_count": 76,
   "metadata": {
    "colab": {
     "base_uri": "https://localhost:8080/",
     "height": 333
    },
    "executionInfo": {
     "elapsed": 606,
     "status": "ok",
     "timestamp": 1611434488987,
     "user": {
      "displayName": "Bryce Peake",
      "photoUrl": "https://lh3.googleusercontent.com/a-/AOh14GgJyCQ2V_qxcbHa-k02tRyC2PYCznFAN1SI3YBT5Qw=s64",
      "userId": "05866871011354666091"
     },
     "user_tz": 300
    },
    "id": "yTp4ZUL6-PvS",
    "outputId": "c5b494de-f6fa-4e3f-ebbb-e52187003c67"
   },
   "outputs": [
    {
     "data": {
      "text/plain": [
       "(array([ 2., 14., 29., 53., 35., 25., 19., 14.,  9.]),\n",
       " array([ 1.6       ,  4.42222222,  7.24444444, 10.06666667, 12.88888889,\n",
       "        15.71111111, 18.53333333, 21.35555556, 24.17777778, 27.        ]),\n",
       " <a list of 9 Patch objects>)"
      ]
     },
     "execution_count": 76,
     "metadata": {
      "tags": []
     },
     "output_type": "execute_result"
    },
    {
     "data": {
      "image/png": "[encoded data removed]",
      "text/plain": [
       "<Figure size 432x288 with 1 Axes>"
      ]
     },
     "metadata": {
      "needs_background": "light",
      "tags": []
     },
     "output_type": "display_data"
    }
   ],
   "source": [
    "plt.hist(df.sales, bins = 'scott')"
   ]
  },
  {
   "cell_type": "markdown",
   "metadata": {
    "id": "iqVknkAzBhyk"
   },
   "source": [
    "Now you understand the math! Why do you think this presents the most empirical view of whether the distribution is normal? How does this visualization capture what you just learned?"
   ]
  },
  {
   "cell_type": "markdown",
   "metadata": {
    "id": "fSieUz9xBrxB"
   },
   "source": [
    "Below is a table comparing some example sample statistics and population parameters:\n",
    "\n",
    "Metric  | Statistic  | Parameter \n",
    "------------- | --------------- | -------------\n",
    "mean   | $$\\bar{x} = \\frac{\\sum x}{n}$$ | $$ \\mu = \\frac{\\sum x}{N} $$ \n",
    "variance | $$ s^2 = \\frac{\\sum_i (x_i - \\bar{x})^2}{n-1} $$ | $$ \\sigma^2 = \\frac{\\sum_i (x_i - \\mu)^2}{N}  $$\n",
    "standard deviation   | $$ s = \\sqrt{\\frac{\\sum_i (x_i - \\bar{x})^2}{n-1}} $$ | $$ \\sigma = \\sqrt{\\frac{\\sum_i (x_i - \\mu)^2}{N} } $$\n",
    "correlation | $$ r = \\frac{\\sum(x_i - \\bar{x})(y_i - \\bar{y})}{(n-1)s_xs_y }$$ | $$r = \\frac{\\sum(x_i - \\mu_x)(y_i - \\mu_y)}{(n)\\sigma_x\\sigma_y }$$"
   ]
  },
  {
   "cell_type": "markdown",
   "metadata": {
    "id": "gwoYb1qTCBxR"
   },
   "source": [
    "# Introduction to Hypothesis Testing\n",
    "---\n",
    "\n",
    "**Objective**: Test a hypothesis within a sample case study.\n",
    "\n",
    "You'll remember that we've worked previously on descriptive statistics such as mean and variance. How would we tell if there is a difference between our groups? How would we know if this difference was real or if our finding is simply the result of chance?\n",
    "\n",
    "Hypothesis Testing is a family of statistical methods used to identify whether a sample of observed data can be used to accept or reject a predefined hypothesis. "
   ]
  },
  {
   "cell_type": "markdown",
   "metadata": {
    "id": "0_xgWVeACKfm"
   },
   "source": [
    "--- \n",
    "\n",
    "Imagine you’re checking whether an apple is good or bad, using a random selection of apples from a very large box of apples.\n",
    "In the below image, we see a clear effect of sample size on the measurements: the effect of one different apple is very large for small samples and the effect of 1 apple becomes smaller and smaller the larger our sample becomes.\n",
    "\n",
    "\n",
    "<p><img height=\"545px\" src=\"https://miro.medium.com/max/898/1*Oe4voFKEIDhPrVGO2z24Ag.jpeg\" align=\"center\" hspace=\"10px\" vspace=\"0px\"></p>\n",
    "\n",
    "Understanding the effect of sample size is the first basis towards an understanding of Hypothesis Testing. We could start arguing that 0.5 on 2 apples, would be a 1 apple difference: very likely to happen. But on 100 apples, 0.5 would represent a 50 apple difference: an extremely strong difference!?"
   ]
  },
  {
   "cell_type": "markdown",
   "metadata": {
    "id": "LvJwQce3CwC_"
   },
   "source": [
    "Generally speaking, we start with a **null hypothesis** and an **alternative hypothesis**, which is the opposite of the null. Then, you check whether the data support rejecting your null hypothesis or fail to reject the null hypothesis.\n",
    "\n",
    "> - The __null hypothesis__ is, in general, the boring stuff i.e. it assumes that nothing interesting happens/happened.\n",
    "- The __alternative hypothesis__ is, where the action is i.e. some observation/ phenomenon is real (i.e. not a fluke) and statistical analysis will give us more insights on that.\n",
    "\n",
    "\n",
    "For example:\n",
    "\n",
    "> - **Null hypothesis**: There is no relationship between gender and sales.\n",
    "- **Alternative hypothesis**: There is a relationship between gender and sales.\n",
    "\n",
    "Note that \"failing to reject\" the null hypothesis is not the same as \"accepting\" it. Your alternative hypothesis may indeed be true, but you don't necessarily have enough data to show that yet.\n",
    "\n",
    "This distinction is important for helping you avoid overstating your findings. You should only state what your data and analysis can truly represent."
   ]
  },
  {
   "cell_type": "markdown",
   "metadata": {
    "id": "Uysjd2NvC7iH"
   },
   "source": [
    "### Example\n",
    "\n",
    "* The **null hypothesis**, denoted $H_0$, is that there's no difference in two **means** ($\\mu_1 = \\mu_2$) of a sample\n",
    "* The **alternative hypothesis**, denoted $H_1$, is that that there's a difference between the means of a sample. \n",
    "\n",
    "When doing calculations, we want to be very clear what we're testing. So, we need to define what we mean by 'difference' in our hypothesis test. Some differences can be:\n",
    "  * low-tailed: $H_1: \\mu_1 > \\mu_2$\n",
    "  * high-tailed: $H_1: \\mu_1 < \\mu_2$\n",
    "  * two-tailed: $H_1: \\mu_1 \\neq \\mu_2$\n",
    "\n",
    "\n",
    "---\n",
    "Let's illustrate this with an example. \n",
    "* Hypothesis: There is a statistically significant difference the mean height of men and women. \n",
    "* Data: our data comprises a sample of men's heights and a sample of women's heights.\n",
    "* $H_0: \\mu_{men} = \\mu_{women}$\n",
    "* Alternative:\n",
    "  * low-tailed: $H_1: \\mu_{men} > \\mu_{women}$\n",
    "  * high-tailed: $H_1: \\mu_{men} < \\mu_{women}$\n",
    "  * two-tailed: $H_1: \\mu_{men} \\neq \\mu_{women}$\n",
    "\n",
    "Wait... what do you mean statistically significant?"
   ]
  },
  {
   "cell_type": "markdown",
   "metadata": {
    "id": "XJX4c-UJDsJ6"
   },
   "source": [
    "### The p-Value\n",
    "We are trying to answer a crucial question: “What is the probability that observing a test-statistic, this extreme, for this sample (considering its size and a suitable probabilistic dynamics governing it), is the product of pure chance?\"\n",
    "\n",
    "The simple description of the **p-value** is the probability that, **GIVEN THE NULL HYPOTHESIS IS TRUE**, we would observe the current set of data. \n",
    "\n",
    " The actual definition: \n",
    "\n",
    "> For a given statistical model, **GIVEN THE NULL HYPOTHESIS IS TRUE**, the _p-value_ is the probability of observing a statistical summary at least as extreme as the actual observed results.\n",
    "\n",
    "If your p-value is less than a chosen significance level $\\alpha$, then you may choose to reject the null hypothesis and accept there is reasonable evidence to support the alternative hypothesis.\n",
    "\n",
    "How we check that p-value depends on our research question and the relationship between our values, population, and sample! Let's walk through a few examples. "
   ]
  },
  {
   "cell_type": "code",
   "execution_count": 99,
   "metadata": {
    "executionInfo": {
     "elapsed": 380,
     "status": "ok",
     "timestamp": 1611436870997,
     "user": {
      "displayName": "Bryce Peake",
      "photoUrl": "https://lh3.googleusercontent.com/a-/AOh14GgJyCQ2V_qxcbHa-k02tRyC2PYCznFAN1SI3YBT5Qw=s64",
      "userId": "05866871011354666091"
     },
     "user_tz": 300
    },
    "id": "BENjpK4YDiAt"
   },
   "outputs": [],
   "source": [
    "#import helper functions\n",
    "import statsmodels.api as sm\n",
    "\n",
    "#set a random seed so we are all getting the same answers: \n",
    "np.random.seed = 42"
   ]
  },
  {
   "cell_type": "markdown",
   "metadata": {
    "id": "Tc4qUeBJKjYo"
   },
   "source": [
    "## Hypothesis Tests Guide\n",
    "-\n",
    "Alternative hypothesis | test\n",
    "-\n",
    "\n",
    "- Mean of a variable is different from a reference value | One Sample t-test\n",
    "- Means of two groups are different | Two Sample t-test\n",
    "- Means of >2 gropus are different | ANOVA\n",
    "- % of success in a binary variable is different from a refernece value | Proportions z-test\n",
    "- % of success in a binary variable is different between two groups | two-propritions z-test"
   ]
  },
  {
   "cell_type": "markdown",
   "metadata": {
    "id": "lQsyE2mGExep"
   },
   "source": [
    "### One Population Proportion\n",
    "__Research Question__\n",
    "In previous years, 52% of parents believed that electronics and social media was the cause of their teenager’s lack of sleep. Do more parents today believe that their teenager’s lack of sleep is caused due to electronics and social media?\n",
    "\n",
    "- __Population__: Parents with a teenager (age 13-18)\n",
    "- __Parameter of Interest__: p\n",
    "\n",
    "- __Null Hypothesis__: p = 0.52\n",
    "- __Alternative Hypthosis__: p > 0.52 (note that this is a one-sided test)\n",
    "\n",
    "- __Data__: 1018 people were surveyed. 56% of those who were surveyed believe that their teenager’s lack of sleep is caused due to electronics and social media."
   ]
  },
  {
   "cell_type": "code",
   "execution_count": 100,
   "metadata": {
    "executionInfo": {
     "elapsed": 449,
     "status": "ok",
     "timestamp": 1611436131497,
     "user": {
      "displayName": "Bryce Peake",
      "photoUrl": "https://lh3.googleusercontent.com/a-/AOh14GgJyCQ2V_qxcbHa-k02tRyC2PYCznFAN1SI3YBT5Qw=s64",
      "userId": "05866871011354666091"
     },
     "user_tz": 300
    },
    "id": "1FVd39NPE6Id"
   },
   "outputs": [],
   "source": [
    "n = 1018 #number of surveys\n",
    "pnull = .52 #previous years' percentage of parents. \n",
    "phat = .56 #new group of parents surveyed"
   ]
  },
  {
   "cell_type": "markdown",
   "metadata": {
    "id": "pInEWOU1FOIt"
   },
   "source": [
    "Was the increase in responses statistically significant? To test this, we use a one-sided proportions ztest. It is one-sided because we only want to know if the INCREASE is statistically significant - we already know there was an increase. \n",
    "\n",
    "__Use of `proportions_ztest()` from `statsmodels`__:\n",
    "Note the argument `alternative=\"larger\"` indicating a one-sided test. The function returns two values - the z-statistic and the corresponding p-value."
   ]
  },
  {
   "cell_type": "code",
   "execution_count": 101,
   "metadata": {
    "colab": {
     "base_uri": "https://localhost:8080/"
    },
    "executionInfo": {
     "elapsed": 810,
     "status": "ok",
     "timestamp": 1611436452536,
     "user": {
      "displayName": "Bryce Peake",
      "photoUrl": "https://lh3.googleusercontent.com/a-/AOh14GgJyCQ2V_qxcbHa-k02tRyC2PYCznFAN1SI3YBT5Qw=s64",
      "userId": "05866871011354666091"
     },
     "user_tz": 300
    },
    "id": "vV32-Jl3FALH",
    "outputId": "cf28f2d2-0350-4f97-bb8f-1164db180f9f"
   },
   "outputs": [
    {
     "name": "stdout",
     "output_type": "stream",
     "text": [
      "z-stat: 2.571067795759113\n",
      "p-value: 0.005069273865860533\n"
     ]
    }
   ],
   "source": [
    "h_test = sm.stats.proportions_ztest(phat * n, n, pnull, alternative='larger')\n",
    "print('z-stat: {}'.format(h_test[0]))\n",
    "print('p-value: {}'.format(h_test[1]))"
   ]
  },
  {
   "cell_type": "markdown",
   "metadata": {
    "id": "a9FwiYgAFg0u"
   },
   "source": [
    "**Conclusion of the hypothesis test**:  Since the calculated p-value of the z-test is <.05, there is a low probability that, assuming the null hypothesis, the results of this survey increase are randomly by chance. \n",
    "\n",
    "We can thus reject the Null hypothesis that the percentage of parents is the same as previous years' estimate, i.e. 52%.\n",
    "\n",
    "Although, we do not accept the alternate hypothesis, this informally means that there is a good chance of this proportion being more than 52%."
   ]
  },
  {
   "cell_type": "markdown",
   "metadata": {
    "id": "bIE6BQb7Gv4_"
   },
   "source": [
    "---"
   ]
  },
  {
   "cell_type": "markdown",
   "metadata": {
    "id": "d3TSxv59Gxzr"
   },
   "source": [
    "### Difference in Population Proportions\n",
    "__Research Question__\n",
    "Is there a significant difference between the population proportions of parents of African American children and parents of Hispanic children who report that their child has had some swimming lessons?\n",
    "\n",
    "- __Populations__: All parents of African American children age 6-18 and all parents of Hispanic children age 6-18\n",
    "- __Parameter of Interest__: p1 - p2, where p1 = African American and p2 = hispanic\n",
    "\n",
    "- __Null Hypothesis__: p1 - p2 = 0\n",
    "- __Alternative Hypthesis__: p1 - p2 $\\neq$ = 0\n",
    "\n",
    "- __Data__: 247 Parents of African American Children. 36.8% of parents report that their child has had some swimming lessons. 308 Parents of Hispanic Children. 38.9% of parents report that their child has had some swimming lessons."
   ]
  },
  {
   "cell_type": "code",
   "execution_count": 102,
   "metadata": {
    "executionInfo": {
     "elapsed": 390,
     "status": "ok",
     "timestamp": 1611436786413,
     "user": {
      "displayName": "Bryce Peake",
      "photoUrl": "https://lh3.googleusercontent.com/a-/AOh14GgJyCQ2V_qxcbHa-k02tRyC2PYCznFAN1SI3YBT5Qw=s64",
      "userId": "05866871011354666091"
     },
     "user_tz": 300
    },
    "id": "CwgZmsxiGw-w"
   },
   "outputs": [],
   "source": [
    "n1 = 247 #parents of African American Children\n",
    "p1 = .36 #percent reporting that their children had swimming lessons\n",
    "\n",
    "n2 = 308 #parents of hispanic children\n",
    "p2 = .38 #percentage reporting swimming lessons\n",
    "\n",
    "#simulate survey data that adheres to the report above\n",
    "## We do not care about individuals or orders, so this will allow us to cmopare samples\n",
    "population1 = np.random.binomial(1, p1, n1) \n",
    "population2 = np.random.binomial(1, p2, n2) "
   ]
  },
  {
   "cell_type": "markdown",
   "metadata": {
    "id": "4gJsJfevHLy1"
   },
   "source": [
    "__Use of `ttest_ind()` from `statsmodels`__\n",
    "\n",
    "Difference in population proportion needs t-test. Also, the population follows a binomial distribution here. We can just pass on the two population quantities with the appropriate binomial distribution parameters to the t-test function.\n",
    "\n",
    "The function returns three values: (a) test statisic, (b) p-value of the t-test, and (c) degrees of freedom used in the t-test."
   ]
  },
  {
   "cell_type": "code",
   "execution_count": 103,
   "metadata": {
    "colab": {
     "base_uri": "https://localhost:8080/"
    },
    "executionInfo": {
     "elapsed": 397,
     "status": "ok",
     "timestamp": 1611436787156,
     "user": {
      "displayName": "Bryce Peake",
      "photoUrl": "https://lh3.googleusercontent.com/a-/AOh14GgJyCQ2V_qxcbHa-k02tRyC2PYCznFAN1SI3YBT5Qw=s64",
      "userId": "05866871011354666091"
     },
     "user_tz": 300
    },
    "id": "BFodAI0eFTyP",
    "outputId": "a432abe4-cfac-4f0f-8ddc-d6c1c05931f5"
   },
   "outputs": [
    {
     "data": {
      "text/plain": [
       "0.9994842431001072"
      ]
     },
     "execution_count": 103,
     "metadata": {},
     "output_type": "execute_result"
    }
   ],
   "source": [
    "sm.stats.ttest_ind(population1, population2)[1]"
   ]
  },
  {
   "cell_type": "markdown",
   "metadata": {
    "id": "NGzrvvynHjBe"
   },
   "source": [
    "**Conclusion of the hypothesis test**: Since the p-value is quite high, we cannot reject the Null hypothesis in this case i.e. the difference in the population proportions are not statistically significant."
   ]
  },
  {
   "cell_type": "markdown",
   "metadata": {
    "id": "N9867ftnHuDc"
   },
   "source": [
    "---"
   ]
  },
  {
   "cell_type": "markdown",
   "metadata": {
    "id": "B8LpwOBsHvbM"
   },
   "source": [
    "### One Population Mean\n",
    "__Research Question__\n",
    "Let's say a cartwheeling competition was organized for some adults. \n",
    "The data looks like following,\n",
    "(80.57, 98.96, 85.28, 83.83, 69.94, 89.59, 91.09, 66.25, 91.21, 82.7 , 73.54, 81.99, 54.01, 82.89, 75.88, 98.32, 107.2 , 85.53, 79.08, 84.3 , 89.32, 86.35, 78.98, 92.26, 87.01)\n",
    "\n",
    "Is there a statistically significant chance that the average cartwheel distance (in inches) for adults more than 80 inches?\n",
    "\n",
    "- __Population__: All adults\n",
    "- __Parameter of Interest__: $\\mu$, population mean cartwheel distance.\n",
    "- __Null Hypothesis__: $\\mu$ = 80 \n",
    "- __Alternative Hypothesis__: $\\mu$ > 80\n",
    "- __Data__: \n",
    "    - 25 adult participants. \n",
    "    - $\\mu = 83.84$ \n",
    "    - $\\sigma = 10.72$"
   ]
  },
  {
   "cell_type": "code",
   "execution_count": 104,
   "metadata": {
    "executionInfo": {
     "elapsed": 396,
     "status": "ok",
     "timestamp": 1611436888000,
     "user": {
      "displayName": "Bryce Peake",
      "photoUrl": "https://lh3.googleusercontent.com/a-/AOh14GgJyCQ2V_qxcbHa-k02tRyC2PYCznFAN1SI3YBT5Qw=s64",
      "userId": "05866871011354666091"
     },
     "user_tz": 300
    },
    "id": "0B_Kb_wYHihe"
   },
   "outputs": [],
   "source": [
    "cwdata = np.array([80.57, 98.96, 85.28, 83.83, 69.94, 89.59, 91.09, 66.25, 91.21, 82.7 , 73.54, 81.99, 54.01, \n",
    "                 82.89, 75.88, 98.32, 107.2 , 85.53, 79.08, 84.3 , 89.32, 86.35, 78.98, 92.26, 87.01])"
   ]
  },
  {
   "cell_type": "code",
   "execution_count": 105,
   "metadata": {
    "colab": {
     "base_uri": "https://localhost:8080/"
    },
    "executionInfo": {
     "elapsed": 409,
     "status": "ok",
     "timestamp": 1611436905771,
     "user": {
      "displayName": "Bryce Peake",
      "photoUrl": "https://lh3.googleusercontent.com/a-/AOh14GgJyCQ2V_qxcbHa-k02tRyC2PYCznFAN1SI3YBT5Qw=s64",
      "userId": "05866871011354666091"
     },
     "user_tz": 300
    },
    "id": "Oxi68KPtHeAz",
    "outputId": "e17b15bd-5062-4330-e198-b7bf8d33f0cd"
   },
   "outputs": [
    {
     "data": {
      "text/plain": [
       "(25, 83.84320000000001, 10.716018932420752)"
      ]
     },
     "execution_count": 105,
     "metadata": {},
     "output_type": "execute_result"
    }
   ],
   "source": [
    "n = len(cwdata) #number of samples\n",
    "mean = cwdata.mean() #mean\n",
    "sd = cwdata.std() #standard deviation\n",
    "(n, mean, sd)"
   ]
  },
  {
   "cell_type": "code",
   "execution_count": 106,
   "metadata": {
    "colab": {
     "base_uri": "https://localhost:8080/"
    },
    "executionInfo": {
     "elapsed": 409,
     "status": "ok",
     "timestamp": 1611436998431,
     "user": {
      "displayName": "Bryce Peake",
      "photoUrl": "https://lh3.googleusercontent.com/a-/AOh14GgJyCQ2V_qxcbHa-k02tRyC2PYCznFAN1SI3YBT5Qw=s64",
      "userId": "05866871011354666091"
     },
     "user_tz": 300
    },
    "id": "iKu6Ihf3IRuZ",
    "outputId": "494dc6f3-849e-47d1-8fbf-1e2d823b622f"
   },
   "outputs": [
    {
     "data": {
      "text/plain": [
       "(1.756973189172546, 0.039461189601168366)"
      ]
     },
     "execution_count": 106,
     "metadata": {},
     "output_type": "execute_result"
    }
   ],
   "source": [
    "sm.stats.ztest(cwdata, value = 80, alternative = \"larger\")"
   ]
  },
  {
   "cell_type": "markdown",
   "metadata": {
    "id": "DgMcIHaNIFTf"
   },
   "source": [
    "__Conclusion of the Hypothesis Test__\n",
    "Since the p-value (0.0394) is lower than the standard confidence level 0.05, we can reject the Null hypothesis that the mean cartwheel distance for adults (a population quantity) is equal to 80 inches. There is strong evidence in support for the alternatine hypothesis that the mean cartwheel distance is, in fact, higher than 80 inches. Note, we used alternative=\"larger\" in the z-test.\n",
    "We can also plot the histogram of the data to check if it approximately follows a Normal distribution."
   ]
  },
  {
   "cell_type": "code",
   "execution_count": 107,
   "metadata": {
    "colab": {
     "base_uri": "https://localhost:8080/",
     "height": 265
    },
    "executionInfo": {
     "elapsed": 394,
     "status": "ok",
     "timestamp": 1611437036755,
     "user": {
      "displayName": "Bryce Peake",
      "photoUrl": "https://lh3.googleusercontent.com/a-/AOh14GgJyCQ2V_qxcbHa-k02tRyC2PYCznFAN1SI3YBT5Qw=s64",
      "userId": "05866871011354666091"
     },
     "user_tz": 300
    },
    "id": "GzBSB1GGH9Nx",
    "outputId": "1eaeb1d8-9107-4fc5-faf5-aa77e1b8f5a3"
   },
   "outputs": [
    {
     "data": {
      "image/png": "[encoded data removed]",
      "text/plain": [
       "<Figure size 432x288 with 1 Axes>"
      ]
     },
     "metadata": {
      "needs_background": "light"
     },
     "output_type": "display_data"
    }
   ],
   "source": [
    "#let's verify with a visualization!\n",
    "plt.hist(cwdata,bins='scott',edgecolor='k')\n",
    "plt.show()"
   ]
  },
  {
   "cell_type": "markdown",
   "metadata": {
    "id": "Du2aMjFJIhfA"
   },
   "source": [
    "What can you draw from this? "
   ]
  },
  {
   "cell_type": "markdown",
   "metadata": {
    "id": "stgk7hzdIhSH"
   },
   "source": [
    "---"
   ]
  },
  {
   "cell_type": "markdown",
   "metadata": {
    "id": "JVVd8npTIkdr"
   },
   "source": [
    "###Difference in Population Means\n",
    "\n",
    "Research Question Considering adults in the NHANES data, do males have a significantly higher mean Body Mass Index than females? Population: Adults in the NHANES data. Parameter of Interest:  𝜇1−𝜇2 , Body Mass Index.\n",
    "\n",
    "Null Hypothesis:  𝜇1=𝜇2 \n",
    "Alternative Hypothesis:  𝜇1≠𝜇2 \n",
    "Data:\n",
    "2976 Females\n",
    "2759 Male Adults"
   ]
  },
  {
   "cell_type": "code",
   "execution_count": 113,
   "metadata": {
    "colab": {
     "base_uri": "https://localhost:8080/",
     "height": 72,
     "resources": {
      "http://localhost:8080/nbextensions/google.colab/files.js": {
       "data": "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",
       "headers": [
        [
         "content-type",
         "application/javascript"
        ]
       ],
       "ok": true,
       "status": 200,
       "status_text": ""
      }
     }
    },
    "executionInfo": {
     "elapsed": 10387,
     "status": "ok",
     "timestamp": 1611437138654,
     "user": {
      "displayName": "Bryce Peake",
      "photoUrl": "https://lh3.googleusercontent.com/a-/AOh14GgJyCQ2V_qxcbHa-k02tRyC2PYCznFAN1SI3YBT5Qw=s64",
      "userId": "05866871011354666091"
     },
     "user_tz": 300
    },
    "id": "szJm6cJsIbSK",
    "outputId": "69a5d4f7-b04d-4c21-c83b-79fb01c674a4"
   },
   "outputs": [],
   "source": [
    "#import the BMI_NHANES.csv data\n",
    "health = pd.read_csv('./data/BMI_NHANES.csv')"
   ]
  },
  {
   "cell_type": "code",
   "execution_count": 114,
   "metadata": {
    "executionInfo": {
     "elapsed": 802,
     "status": "ok",
     "timestamp": 1611437139457,
     "user": {
      "displayName": "Bryce Peake",
      "photoUrl": "https://lh3.googleusercontent.com/a-/AOh14GgJyCQ2V_qxcbHa-k02tRyC2PYCznFAN1SI3YBT5Qw=s64",
      "userId": "05866871011354666091"
     },
     "user_tz": 300
    },
    "id": "6j1o9LUHIuQb"
   },
   "outputs": [
    {
     "data": {
      "text/html": [
       "<div>\n",
       "<style scoped>\n",
       "    .dataframe tbody tr th:only-of-type {\n",
       "        vertical-align: middle;\n",
       "    }\n",
       "\n",
       "    .dataframe tbody tr th {\n",
       "        vertical-align: top;\n",
       "    }\n",
       "\n",
       "    .dataframe thead th {\n",
       "        text-align: right;\n",
       "    }\n",
       "</style>\n",
       "<table border=\"1\" class=\"dataframe\">\n",
       "  <thead>\n",
       "    <tr style=\"text-align: right;\">\n",
       "      <th></th>\n",
       "      <th>SEQN</th>\n",
       "      <th>ALQ101</th>\n",
       "      <th>ALQ110</th>\n",
       "      <th>ALQ130</th>\n",
       "      <th>SMQ020</th>\n",
       "      <th>RIAGENDR</th>\n",
       "      <th>RIDAGEYR</th>\n",
       "      <th>RIDRETH1</th>\n",
       "      <th>DMDCITZN</th>\n",
       "      <th>DMDEDUC2</th>\n",
       "      <th>...</th>\n",
       "      <th>BPXSY2</th>\n",
       "      <th>BPXDI2</th>\n",
       "      <th>BMXWT</th>\n",
       "      <th>BMXHT</th>\n",
       "      <th>BMXBMI</th>\n",
       "      <th>BMXLEG</th>\n",
       "      <th>BMXARML</th>\n",
       "      <th>BMXARMC</th>\n",
       "      <th>BMXWAIST</th>\n",
       "      <th>HIQ210</th>\n",
       "    </tr>\n",
       "  </thead>\n",
       "  <tbody>\n",
       "    <tr>\n",
       "      <th>0</th>\n",
       "      <td>83732</td>\n",
       "      <td>1.0</td>\n",
       "      <td>NaN</td>\n",
       "      <td>1.0</td>\n",
       "      <td>1</td>\n",
       "      <td>1</td>\n",
       "      <td>62</td>\n",
       "      <td>3</td>\n",
       "      <td>1.0</td>\n",
       "      <td>5.0</td>\n",
       "      <td>...</td>\n",
       "      <td>124.0</td>\n",
       "      <td>64.0</td>\n",
       "      <td>94.8</td>\n",
       "      <td>184.5</td>\n",
       "      <td>27.8</td>\n",
       "      <td>43.3</td>\n",
       "      <td>43.6</td>\n",
       "      <td>35.9</td>\n",
       "      <td>101.1</td>\n",
       "      <td>2.0</td>\n",
       "    </tr>\n",
       "    <tr>\n",
       "      <th>1</th>\n",
       "      <td>83733</td>\n",
       "      <td>1.0</td>\n",
       "      <td>NaN</td>\n",
       "      <td>6.0</td>\n",
       "      <td>1</td>\n",
       "      <td>1</td>\n",
       "      <td>53</td>\n",
       "      <td>3</td>\n",
       "      <td>2.0</td>\n",
       "      <td>3.0</td>\n",
       "      <td>...</td>\n",
       "      <td>140.0</td>\n",
       "      <td>88.0</td>\n",
       "      <td>90.4</td>\n",
       "      <td>171.4</td>\n",
       "      <td>30.8</td>\n",
       "      <td>38.0</td>\n",
       "      <td>40.0</td>\n",
       "      <td>33.2</td>\n",
       "      <td>107.9</td>\n",
       "      <td>NaN</td>\n",
       "    </tr>\n",
       "    <tr>\n",
       "      <th>2</th>\n",
       "      <td>83734</td>\n",
       "      <td>1.0</td>\n",
       "      <td>NaN</td>\n",
       "      <td>NaN</td>\n",
       "      <td>1</td>\n",
       "      <td>1</td>\n",
       "      <td>78</td>\n",
       "      <td>3</td>\n",
       "      <td>1.0</td>\n",
       "      <td>3.0</td>\n",
       "      <td>...</td>\n",
       "      <td>132.0</td>\n",
       "      <td>44.0</td>\n",
       "      <td>83.4</td>\n",
       "      <td>170.1</td>\n",
       "      <td>28.8</td>\n",
       "      <td>35.6</td>\n",
       "      <td>37.0</td>\n",
       "      <td>31.0</td>\n",
       "      <td>116.5</td>\n",
       "      <td>2.0</td>\n",
       "    </tr>\n",
       "    <tr>\n",
       "      <th>3</th>\n",
       "      <td>83735</td>\n",
       "      <td>2.0</td>\n",
       "      <td>1.0</td>\n",
       "      <td>1.0</td>\n",
       "      <td>2</td>\n",
       "      <td>2</td>\n",
       "      <td>56</td>\n",
       "      <td>3</td>\n",
       "      <td>1.0</td>\n",
       "      <td>5.0</td>\n",
       "      <td>...</td>\n",
       "      <td>134.0</td>\n",
       "      <td>68.0</td>\n",
       "      <td>109.8</td>\n",
       "      <td>160.9</td>\n",
       "      <td>42.4</td>\n",
       "      <td>38.5</td>\n",
       "      <td>37.7</td>\n",
       "      <td>38.3</td>\n",
       "      <td>110.1</td>\n",
       "      <td>2.0</td>\n",
       "    </tr>\n",
       "    <tr>\n",
       "      <th>4</th>\n",
       "      <td>83736</td>\n",
       "      <td>2.0</td>\n",
       "      <td>1.0</td>\n",
       "      <td>1.0</td>\n",
       "      <td>2</td>\n",
       "      <td>2</td>\n",
       "      <td>42</td>\n",
       "      <td>4</td>\n",
       "      <td>1.0</td>\n",
       "      <td>4.0</td>\n",
       "      <td>...</td>\n",
       "      <td>114.0</td>\n",
       "      <td>54.0</td>\n",
       "      <td>55.2</td>\n",
       "      <td>164.9</td>\n",
       "      <td>20.3</td>\n",
       "      <td>37.4</td>\n",
       "      <td>36.0</td>\n",
       "      <td>27.2</td>\n",
       "      <td>80.4</td>\n",
       "      <td>2.0</td>\n",
       "    </tr>\n",
       "  </tbody>\n",
       "</table>\n",
       "<p>5 rows × 28 columns</p>\n",
       "</div>"
      ],
      "text/plain": [
       "    SEQN  ALQ101  ALQ110  ALQ130  SMQ020  RIAGENDR  RIDAGEYR  RIDRETH1  \\\n",
       "0  83732     1.0     NaN     1.0       1         1        62         3   \n",
       "1  83733     1.0     NaN     6.0       1         1        53         3   \n",
       "2  83734     1.0     NaN     NaN       1         1        78         3   \n",
       "3  83735     2.0     1.0     1.0       2         2        56         3   \n",
       "4  83736     2.0     1.0     1.0       2         2        42         4   \n",
       "\n",
       "   DMDCITZN  DMDEDUC2  ...  BPXSY2  BPXDI2  BMXWT  BMXHT  BMXBMI  BMXLEG  \\\n",
       "0       1.0       5.0  ...   124.0    64.0   94.8  184.5    27.8    43.3   \n",
       "1       2.0       3.0  ...   140.0    88.0   90.4  171.4    30.8    38.0   \n",
       "2       1.0       3.0  ...   132.0    44.0   83.4  170.1    28.8    35.6   \n",
       "3       1.0       5.0  ...   134.0    68.0  109.8  160.9    42.4    38.5   \n",
       "4       1.0       4.0  ...   114.0    54.0   55.2  164.9    20.3    37.4   \n",
       "\n",
       "   BMXARML  BMXARMC  BMXWAIST  HIQ210  \n",
       "0     43.6     35.9     101.1     2.0  \n",
       "1     40.0     33.2     107.9     NaN  \n",
       "2     37.0     31.0     116.5     2.0  \n",
       "3     37.7     38.3     110.1     2.0  \n",
       "4     36.0     27.2      80.4     2.0  \n",
       "\n",
       "[5 rows x 28 columns]"
      ]
     },
     "execution_count": 114,
     "metadata": {},
     "output_type": "execute_result"
    }
   ],
   "source": [
    "#read into pandas\n",
    "health.head()"
   ]
  },
  {
   "cell_type": "code",
   "execution_count": 118,
   "metadata": {
    "executionInfo": {
     "elapsed": 409,
     "status": "ok",
     "timestamp": 1611437163149,
     "user": {
      "displayName": "Bryce Peake",
      "photoUrl": "https://lh3.googleusercontent.com/a-/AOh14GgJyCQ2V_qxcbHa-k02tRyC2PYCznFAN1SI3YBT5Qw=s64",
      "userId": "05866871011354666091"
     },
     "user_tz": 300
    },
    "id": "muejZwahI11w"
   },
   "outputs": [
    {
     "data": {
      "text/html": [
       "<div>\n",
       "<style scoped>\n",
       "    .dataframe tbody tr th:only-of-type {\n",
       "        vertical-align: middle;\n",
       "    }\n",
       "\n",
       "    .dataframe tbody tr th {\n",
       "        vertical-align: top;\n",
       "    }\n",
       "\n",
       "    .dataframe thead th {\n",
       "        text-align: right;\n",
       "    }\n",
       "</style>\n",
       "<table border=\"1\" class=\"dataframe\">\n",
       "  <thead>\n",
       "    <tr style=\"text-align: right;\">\n",
       "      <th></th>\n",
       "      <th>SEQN</th>\n",
       "      <th>ALQ101</th>\n",
       "      <th>ALQ110</th>\n",
       "      <th>ALQ130</th>\n",
       "      <th>SMQ020</th>\n",
       "      <th>RIAGENDR</th>\n",
       "      <th>RIDAGEYR</th>\n",
       "      <th>RIDRETH1</th>\n",
       "      <th>DMDCITZN</th>\n",
       "      <th>DMDEDUC2</th>\n",
       "      <th>...</th>\n",
       "      <th>BPXSY2</th>\n",
       "      <th>BPXDI2</th>\n",
       "      <th>BMXWT</th>\n",
       "      <th>BMXHT</th>\n",
       "      <th>BMXBMI</th>\n",
       "      <th>BMXLEG</th>\n",
       "      <th>BMXARML</th>\n",
       "      <th>BMXARMC</th>\n",
       "      <th>BMXWAIST</th>\n",
       "      <th>HIQ210</th>\n",
       "    </tr>\n",
       "  </thead>\n",
       "  <tbody>\n",
       "    <tr>\n",
       "      <th>3</th>\n",
       "      <td>83735</td>\n",
       "      <td>2.0</td>\n",
       "      <td>1.0</td>\n",
       "      <td>1.0</td>\n",
       "      <td>2</td>\n",
       "      <td>2</td>\n",
       "      <td>56</td>\n",
       "      <td>3</td>\n",
       "      <td>1.0</td>\n",
       "      <td>5.0</td>\n",
       "      <td>...</td>\n",
       "      <td>134.0</td>\n",
       "      <td>68.0</td>\n",
       "      <td>109.8</td>\n",
       "      <td>160.9</td>\n",
       "      <td>42.4</td>\n",
       "      <td>38.5</td>\n",
       "      <td>37.7</td>\n",
       "      <td>38.3</td>\n",
       "      <td>110.1</td>\n",
       "      <td>2.0</td>\n",
       "    </tr>\n",
       "    <tr>\n",
       "      <th>4</th>\n",
       "      <td>83736</td>\n",
       "      <td>2.0</td>\n",
       "      <td>1.0</td>\n",
       "      <td>1.0</td>\n",
       "      <td>2</td>\n",
       "      <td>2</td>\n",
       "      <td>42</td>\n",
       "      <td>4</td>\n",
       "      <td>1.0</td>\n",
       "      <td>4.0</td>\n",
       "      <td>...</td>\n",
       "      <td>114.0</td>\n",
       "      <td>54.0</td>\n",
       "      <td>55.2</td>\n",
       "      <td>164.9</td>\n",
       "      <td>20.3</td>\n",
       "      <td>37.4</td>\n",
       "      <td>36.0</td>\n",
       "      <td>27.2</td>\n",
       "      <td>80.4</td>\n",
       "      <td>2.0</td>\n",
       "    </tr>\n",
       "    <tr>\n",
       "      <th>5</th>\n",
       "      <td>83737</td>\n",
       "      <td>2.0</td>\n",
       "      <td>2.0</td>\n",
       "      <td>NaN</td>\n",
       "      <td>2</td>\n",
       "      <td>2</td>\n",
       "      <td>72</td>\n",
       "      <td>1</td>\n",
       "      <td>2.0</td>\n",
       "      <td>2.0</td>\n",
       "      <td>...</td>\n",
       "      <td>122.0</td>\n",
       "      <td>58.0</td>\n",
       "      <td>64.4</td>\n",
       "      <td>150.0</td>\n",
       "      <td>28.6</td>\n",
       "      <td>34.4</td>\n",
       "      <td>33.5</td>\n",
       "      <td>31.4</td>\n",
       "      <td>92.9</td>\n",
       "      <td>NaN</td>\n",
       "    </tr>\n",
       "    <tr>\n",
       "      <th>7</th>\n",
       "      <td>83742</td>\n",
       "      <td>1.0</td>\n",
       "      <td>NaN</td>\n",
       "      <td>1.0</td>\n",
       "      <td>2</td>\n",
       "      <td>2</td>\n",
       "      <td>32</td>\n",
       "      <td>1</td>\n",
       "      <td>2.0</td>\n",
       "      <td>4.0</td>\n",
       "      <td>...</td>\n",
       "      <td>114.0</td>\n",
       "      <td>70.0</td>\n",
       "      <td>64.5</td>\n",
       "      <td>151.3</td>\n",
       "      <td>28.2</td>\n",
       "      <td>34.1</td>\n",
       "      <td>33.1</td>\n",
       "      <td>31.5</td>\n",
       "      <td>93.3</td>\n",
       "      <td>2.0</td>\n",
       "    </tr>\n",
       "    <tr>\n",
       "      <th>12</th>\n",
       "      <td>83752</td>\n",
       "      <td>1.0</td>\n",
       "      <td>NaN</td>\n",
       "      <td>2.0</td>\n",
       "      <td>1</td>\n",
       "      <td>2</td>\n",
       "      <td>30</td>\n",
       "      <td>2</td>\n",
       "      <td>1.0</td>\n",
       "      <td>4.0</td>\n",
       "      <td>...</td>\n",
       "      <td>104.0</td>\n",
       "      <td>50.0</td>\n",
       "      <td>71.2</td>\n",
       "      <td>163.6</td>\n",
       "      <td>26.6</td>\n",
       "      <td>37.3</td>\n",
       "      <td>35.7</td>\n",
       "      <td>31.0</td>\n",
       "      <td>90.7</td>\n",
       "      <td>2.0</td>\n",
       "    </tr>\n",
       "  </tbody>\n",
       "</table>\n",
       "<p>5 rows × 28 columns</p>\n",
       "</div>"
      ],
      "text/plain": [
       "     SEQN  ALQ101  ALQ110  ALQ130  SMQ020  RIAGENDR  RIDAGEYR  RIDRETH1  \\\n",
       "3   83735     2.0     1.0     1.0       2         2        56         3   \n",
       "4   83736     2.0     1.0     1.0       2         2        42         4   \n",
       "5   83737     2.0     2.0     NaN       2         2        72         1   \n",
       "7   83742     1.0     NaN     1.0       2         2        32         1   \n",
       "12  83752     1.0     NaN     2.0       1         2        30         2   \n",
       "\n",
       "    DMDCITZN  DMDEDUC2  ...  BPXSY2  BPXDI2  BMXWT  BMXHT  BMXBMI  BMXLEG  \\\n",
       "3        1.0       5.0  ...   134.0    68.0  109.8  160.9    42.4    38.5   \n",
       "4        1.0       4.0  ...   114.0    54.0   55.2  164.9    20.3    37.4   \n",
       "5        2.0       2.0  ...   122.0    58.0   64.4  150.0    28.6    34.4   \n",
       "7        2.0       4.0  ...   114.0    70.0   64.5  151.3    28.2    34.1   \n",
       "12       1.0       4.0  ...   104.0    50.0   71.2  163.6    26.6    37.3   \n",
       "\n",
       "    BMXARML  BMXARMC  BMXWAIST  HIQ210  \n",
       "3      37.7     38.3     110.1     2.0  \n",
       "4      36.0     27.2      80.4     2.0  \n",
       "5      33.5     31.4      92.9     NaN  \n",
       "7      33.1     31.5      93.3     2.0  \n",
       "12     35.7     31.0      90.7     2.0  \n",
       "\n",
       "[5 rows x 28 columns]"
      ]
     },
     "execution_count": 118,
     "metadata": {},
     "output_type": "execute_result"
    }
   ],
   "source": [
    "#filter the male and female dataframes into two separate objects. Females RIAGENDR = 2, males = 1\n",
    "females = health[health.RIAGENDR == 2]\n",
    "males = health[health.RIAGENDR == 1]\n",
    "females.head()"
   ]
  },
  {
   "cell_type": "code",
   "execution_count": 132,
   "metadata": {
    "executionInfo": {
     "elapsed": 721,
     "status": "ok",
     "timestamp": 1611437203950,
     "user": {
      "displayName": "Bryce Peake",
      "photoUrl": "https://lh3.googleusercontent.com/a-/AOh14GgJyCQ2V_qxcbHa-k02tRyC2PYCznFAN1SI3YBT5Qw=s64",
      "userId": "05866871011354666091"
     },
     "user_tz": 300
    },
    "id": "npUui-sUI8DK"
   },
   "outputs": [
    {
     "name": "stdout",
     "output_type": "stream",
     "text": [
      "[187, 29.939945652173996, 7.75331880954568]\n"
     ]
    }
   ],
   "source": [
    "#get the number of females- we want to make sure we drop the nulls\n",
    "n1 = females.dropna().shape[0]\n",
    "#calculate the mean of BMXBMI\n",
    "mu1 = females['BMXBMI'].mean()\n",
    "#calculate the standard deviation of BMXBMI\n",
    "sd1 = females['BMXBMI'].std()\n",
    "print([n1,mu1,sd1])"
   ]
  },
  {
   "cell_type": "code",
   "execution_count": 133,
   "metadata": {
    "id": "zOnKdpg_JF7q"
   },
   "outputs": [
    {
     "name": "stdout",
     "output_type": "stream",
     "text": [
      "[72, 28.778072111846985, 6.252567616801485]\n"
     ]
    }
   ],
   "source": [
    "#repeat the above cell calculations for men\n",
    "n2 = males.dropna().shape[0]\n",
    "#calculate the mean of BMXBMI\n",
    "mu2 = males['BMXBMI'].mean()\n",
    "#calculate the standard deviation of BMXBMI\n",
    "sd2 = males['BMXBMI'].std()\n",
    "print([n2,mu2,sd2])"
   ]
  },
  {
   "cell_type": "code",
   "execution_count": 135,
   "metadata": {
    "executionInfo": {
     "elapsed": 401,
     "status": "ok",
     "timestamp": 1611437280692,
     "user": {
      "displayName": "Bryce Peake",
      "photoUrl": "https://lh3.googleusercontent.com/a-/AOh14GgJyCQ2V_qxcbHa-k02tRyC2PYCznFAN1SI3YBT5Qw=s64",
      "userId": "05866871011354666091"
     },
     "user_tz": 300
    },
    "id": "-4RDWE6SJPQz"
   },
   "outputs": [
    {
     "name": "stdout",
     "output_type": "stream",
     "text": [
      "False\n"
     ]
    },
    {
     "data": {
      "text/plain": [
       "1.1618735403270115"
      ]
     },
     "execution_count": 135,
     "metadata": {},
     "output_type": "execute_result"
    }
   ],
   "source": [
    "#calcualte if the averages are the same using a comparitor\n",
    "print(mu1 == mu2)\n",
    "#show the difference in the means\n",
    "mu1 - mu2"
   ]
  },
  {
   "cell_type": "code",
   "execution_count": 130,
   "metadata": {
    "id": "FTi_VYVxJYv0"
   },
   "outputs": [
    {
     "data": {
      "text/plain": [
       "6.591544431126401e-10"
      ]
     },
     "execution_count": 130,
     "metadata": {},
     "output_type": "execute_result"
    }
   ],
   "source": [
    "#now we can see if these are statistically representative \n",
    "pval = sm.stats.ztest(females[\"BMXBMI\"].dropna(), males[\"BMXBMI\"].dropna(),alternative='two-sided')[1]\n",
    "pval"
   ]
  },
  {
   "cell_type": "markdown",
   "metadata": {
    "id": "KRgZojLfJdzd"
   },
   "source": [
    "**Conclusion of the hypothesis test**: Since the p-value (6.59e-10) is extremely small, we can reject the Null hypothesis that the mean BMI of males is same as that of females. Note, we used alternative=\"two-sided\" in the z-test because here we are checking for inequality.\n",
    "\n",
    "Create a histogram of the data to check if it approximately follows a Normal distribution."
   ]
  },
  {
   "cell_type": "code",
   "execution_count": 141,
   "metadata": {
    "executionInfo": {
     "elapsed": 378,
     "status": "ok",
     "timestamp": 1611437339573,
     "user": {
      "displayName": "Bryce Peake",
      "photoUrl": "https://lh3.googleusercontent.com/a-/AOh14GgJyCQ2V_qxcbHa-k02tRyC2PYCznFAN1SI3YBT5Qw=s64",
      "userId": "05866871011354666091"
     },
     "user_tz": 300
    },
    "id": "IWlf6_0wJi2X"
   },
   "outputs": [
    {
     "data": {
      "image/png": "[encoded data removed]",
      "text/plain": [
       "<Figure size 432x288 with 1 Axes>"
      ]
     },
     "metadata": {
      "needs_background": "light"
     },
     "output_type": "display_data"
    }
   ],
   "source": [
    "#matplotlib code\n",
    "plt.hist(females[\"BMXBMI\"].dropna(),edgecolor='k',color='pink',bins='scott')\n",
    "plt.hist(males[\"BMXBMI\"].dropna(),edgecolor='k',color='blue',bins='scott')\n",
    "plt.show()"
   ]
  },
  {
   "cell_type": "markdown",
   "metadata": {
    "id": "WEhSMyImK8HM"
   },
   "source": [
    "---\n",
    "#Review\n",
    "\n",
    "In this notebook, we covered \n",
    "- basic descriptive statistics and statistical measures of dispersion for understanding outliers\n",
    "- how to implement formulae in python, allowing us to transform math into insights\n",
    "- examined hypothesis tests to understand if we can be confident that our data in a sample reflects an empirical, statistically significant reality"
   ]
  }
 ],
 "metadata": {
  "colab": {
   "authorship_tag": "ABX9TyMgEh6VBs9KD2uigSXOjX7f",
   "collapsed_sections": [],
   "name": "3_statistics.ipynb",
   "provenance": [],
   "toc_visible": true
  },
  "kernelspec": {
   "display_name": "Python 3",
   "language": "python",
   "name": "python3"
  },
  "language_info": {
   "codemirror_mode": {
    "name": "ipython",
    "version": 3
   },
   "file_extension": ".py",
   "mimetype": "text/x-python",
   "name": "python",
   "nbconvert_exporter": "python",
   "pygments_lexer": "ipython3",
   "version": "3.7.6"
  },
  "varInspector": {
   "cols": {
    "lenName": 16,
    "lenType": 16,
    "lenVar": 40
   },
   "kernels_config": {
    "python": {
     "delete_cmd_postfix": "",
     "delete_cmd_prefix": "del ",
     "library": "var_list.py",
     "varRefreshCmd": "print(var_dic_list())"
    },
    "r": {
     "delete_cmd_postfix": ") ",
     "delete_cmd_prefix": "rm(",
     "library": "var_list.r",
     "varRefreshCmd": "cat(var_dic_list()) "
    }
   },
   "types_to_exclude": [
    "module",
    "function",
    "builtin_function_or_method",
    "instance",
    "_Feature"
   ],
   "window_display": false
  }
 },
 "nbformat": 4,
 "nbformat_minor": 1
}
