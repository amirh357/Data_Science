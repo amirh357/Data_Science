{
 "cells": [
  {
   "cell_type": "markdown",
   "metadata": {
    "id": "xExylgFUBYdI"
   },
   "source": [
    "# **ML in Python**\n",
    "\n",
    "### Bryce Macher, Washington DC\n",
    "\n",
    "---"
   ]
  },
  {
   "cell_type": "markdown",
   "metadata": {
    "id": "qNAMw-SuBmTx"
   },
   "source": [
    "# Learning Objectives\n",
    "\n",
    "**Machine Learning (general)**\n",
    "- Define the 5 primary questions Machine Learning has the ability to answer\n",
    "- Identify projects that would benefit from supervised vs. unsupervised Machine Learning\n",
    "\n",
    "**Supervised ML regression**\n",
    "- Utilize industry-standard techniques for building reliable machine learning models\n",
    "- Implement & demonstrate mathematical understanding of a Linear Regression Supervised ML model for predicting continuous values from scratch\n",
    "- Utilize sklearn to build a linear regression and evaluate its performance via validation\n",
    "- Examine the framework for machine learning experimentation, including model comparison"
   ]
  },
  {
   "cell_type": "markdown",
   "metadata": {
    "id": "Ra689y5NCpjU"
   },
   "source": [
    "# Machine Learning\n",
    "\n",
    "Where descriptive and summary statistics can be used to describe the past, Machine Learning can be used to both predict highly-likely future scenarios (predictive analytics) AND the impact of specific decisions (prescriptive analytics). \n",
    "\n",
    "While this sounds like AI and the future, it is constrained by the types of question a computer's hyper logical framework can answer - it is still not capable of intuition, as we discussed in the statistics unit. "
   ]
  },
  {
   "cell_type": "markdown",
   "metadata": {
    "id": "TWLfIY2VDUl3"
   },
   "source": [
    "## 5 Questions of ML\n",
    "ML can really only answer 5 types of questions. They are: \n",
    "\n",
    "1. How many? \n",
    "2. This or that? \n",
    "3. What is the internal structure?\n",
    "4. Is this weird? \n",
    "5. What should I do next? \n",
    "\n",
    "For data scientists, every project that utilizes classic machine learning can be boiled down to these. Remember, though, as you're learning, data scientsits are not only people who use ML to solve problems - we often call on a range of mathematical, statistical, and technical solutions to solve business problems in the most scientific way possible. "
   ]
  },
  {
   "cell_type": "markdown",
   "metadata": {
    "id": "Phy3wqXfD2eL"
   },
   "source": [
    "Each of these questions represents a different type of machine learning. There are three primary categories of ML: \n",
    "\n",
    "<p><img alt=\"Colaboratory logo\" src=\"https://miro.medium.com/max/1204/0*-068ud_-o3ajwq_z.jpg\" align=\"Center\" hspace=\"10px\" vspace=\"0px\"></p>\n",
    "\n",
    "Questions 1 & 2 are considered __supervised machine learning__. In supervised machine learning, we have a goal of predicting something that can be known. For example, we can use past stock performance to predict future stock performance. As we'll discuss, we might train a model using stock data from January 2019-June 2020. We will then try to predict what happened June 2020-December 2020, and can compare that prediction (i.e., supervise the performance) with what actually happened during that timespan. \n",
    "\n",
    "Question 3, 4, and 5 are __unsupervised ML__ questions. In unsupervised ML, we may not have a clear answer that we can supervise. An example might be \"Do customers behave in a way that makes them easy to segment?\" or \"What are the primary areas of conversation among our customers on social media?\" Here, we use a class of ML algorithms that can identify implicit structures in data using statistics, calculus, and linear algebra. \n",
    "\n",
    "__Reinforcement ML__ refers to a new class of methodologies that take errors from Questions 1 & 2, and allow the computer to learn the structure of those errors, with the hopes of balancing that structure of error to improve future predictions -- in many ways, RML is Unsupervised ML applied improving Supervised ML. \n",
    "\n",
    "\n",
    "\n",
    "\n"
   ]
  },
  {
   "cell_type": "markdown",
   "metadata": {
    "id": "J5O9KR8mGS1C"
   },
   "source": [
    "## Applied ML Examples\n",
    "\n",
    "__Supervised Q1__: Can you predict the number of sales based on our advertising spend in TV, News, and Radio? \n",
    "\n",
    "__Supervised Q2__: Based on past user behavior, can you tell us which users have the highest probability of churning? \n",
    "\n",
    "__Unsupervised Q3__: Based on their eating habits, is there any way to scientifically segment dietary habits in this village? \n",
    "\n",
    "__Unsupervised Q4__: Looking at our evolving spending habits, can we identify potential credit card fraud? \n",
    "\n",
    "__Unsupervised Q5__: What shows should our in-app viewers watch next to maximize the number of minutes spent on the app? "
   ]
  },
  {
   "cell_type": "markdown",
   "metadata": {
    "id": "S6TmWXQqGAC3"
   },
   "source": [
    "---\n",
    "\n",
    "Today, we will be focused on answering question 1. Once you learn how to answer your first question, you have two options -- you can go for breadth and learn about all 5 questions, or you can dive into the many methodologies for answering just question 1. Regardless, the lessons we learn here are applied to every ML algorithm you might encounter in your career as a data scientist!"
   ]
  },
  {
   "cell_type": "markdown",
   "metadata": {
    "id": "T556rxbMHpA0"
   },
   "source": [
    "# Linear Regression & Vocabulary\n",
    "\n",
    "__Algorithm__ and __ML Model__ are terms that are typically used interchangably when treated like buzzwords. But for data scientists, they have a very particular meaning. Similarly, we often want to ask questions about not just \"data\", but the relationship between __training data__ and __validation and testing data__. \n",
    "\n",
    "This section focuses on these key terms, and how we use them in data science. "
   ]
  },
  {
   "cell_type": "markdown",
   "metadata": {
    "id": "2c1rpKgobkVZ"
   },
   "source": [
    "__Business application__:\n",
    "Let's assume the business has asked us how well TV ads can predict sales. We're going to build our first ML model from scratch to tell them."
   ]
  },
  {
   "cell_type": "code",
   "execution_count": 30,
   "metadata": {
    "executionInfo": {
     "elapsed": 464,
     "status": "ok",
     "timestamp": 1611504934866,
     "user": {
      "displayName": "Bryce Peake",
      "photoUrl": "https://lh3.googleusercontent.com/a-/AOh14GgJyCQ2V_qxcbHa-k02tRyC2PYCznFAN1SI3YBT5Qw=s64",
      "userId": "05866871011354666091"
     },
     "user_tz": 300
    },
    "id": "yCp5MTPgCo66"
   },
   "outputs": [],
   "source": [
    "#these are the usual libraries\n",
    "import pandas as pd\n",
    "import numpy as np\n",
    "from matplotlib import pyplot as plt\n",
    "\n",
    "%matplotlib inline"
   ]
  },
  {
   "cell_type": "code",
   "execution_count": 31,
   "metadata": {
    "colab": {
     "base_uri": "https://localhost:8080/"
    },
    "executionInfo": {
     "elapsed": 281,
     "status": "ok",
     "timestamp": 1611509067700,
     "user": {
      "displayName": "Bryce Peake",
      "photoUrl": "https://lh3.googleusercontent.com/a-/AOh14GgJyCQ2V_qxcbHa-k02tRyC2PYCznFAN1SI3YBT5Qw=s64",
      "userId": "05866871011354666091"
     },
     "user_tz": 300
    },
    "id": "sGhyJgwpBhEB",
    "outputId": "b02d71cd-00d8-433d-f7a3-6519e65a89e8",
    "scrolled": true
   },
   "outputs": [
    {
     "name": "stdout",
     "output_type": "stream",
     "text": [
      "<class 'pandas.core.frame.DataFrame'>\n",
      "Int64Index: 200 entries, 1 to 200\n",
      "Data columns (total 4 columns):\n",
      " #   Column     Non-Null Count  Dtype  \n",
      "---  ------     --------------  -----  \n",
      " 0   TV         200 non-null    float64\n",
      " 1   radio      200 non-null    float64\n",
      " 2   newspaper  200 non-null    float64\n",
      " 3   sales      200 non-null    float64\n",
      "dtypes: float64(4)\n",
      "memory usage: 7.8 KB\n"
     ]
    }
   ],
   "source": [
    "#read your data into a dataframe using pandas' read_csv method. Note, the index_col should be set to 0 for this dataset\n",
    "df = pd.read_csv(\"./data/TV-Radio-Newspaper-Sales.txt\",index_col=0)\n",
    "df.info()"
   ]
  },
  {
   "cell_type": "code",
   "execution_count": 32,
   "metadata": {},
   "outputs": [
    {
     "data": {
      "text/html": [
       "<div>\n",
       "<style scoped>\n",
       "    .dataframe tbody tr th:only-of-type {\n",
       "        vertical-align: middle;\n",
       "    }\n",
       "\n",
       "    .dataframe tbody tr th {\n",
       "        vertical-align: top;\n",
       "    }\n",
       "\n",
       "    .dataframe thead th {\n",
       "        text-align: right;\n",
       "    }\n",
       "</style>\n",
       "<table border=\"1\" class=\"dataframe\">\n",
       "  <thead>\n",
       "    <tr style=\"text-align: right;\">\n",
       "      <th></th>\n",
       "      <th>TV</th>\n",
       "      <th>radio</th>\n",
       "      <th>newspaper</th>\n",
       "      <th>sales</th>\n",
       "    </tr>\n",
       "  </thead>\n",
       "  <tbody>\n",
       "    <tr>\n",
       "      <th>1</th>\n",
       "      <td>230.1</td>\n",
       "      <td>37.8</td>\n",
       "      <td>69.2</td>\n",
       "      <td>22.1</td>\n",
       "    </tr>\n",
       "    <tr>\n",
       "      <th>2</th>\n",
       "      <td>44.5</td>\n",
       "      <td>39.3</td>\n",
       "      <td>45.1</td>\n",
       "      <td>10.4</td>\n",
       "    </tr>\n",
       "    <tr>\n",
       "      <th>3</th>\n",
       "      <td>17.2</td>\n",
       "      <td>45.9</td>\n",
       "      <td>69.3</td>\n",
       "      <td>9.3</td>\n",
       "    </tr>\n",
       "    <tr>\n",
       "      <th>4</th>\n",
       "      <td>151.5</td>\n",
       "      <td>41.3</td>\n",
       "      <td>58.5</td>\n",
       "      <td>18.5</td>\n",
       "    </tr>\n",
       "    <tr>\n",
       "      <th>5</th>\n",
       "      <td>180.8</td>\n",
       "      <td>10.8</td>\n",
       "      <td>58.4</td>\n",
       "      <td>12.9</td>\n",
       "    </tr>\n",
       "  </tbody>\n",
       "</table>\n",
       "</div>"
      ],
      "text/plain": [
       "      TV  radio  newspaper  sales\n",
       "1  230.1   37.8       69.2   22.1\n",
       "2   44.5   39.3       45.1   10.4\n",
       "3   17.2   45.9       69.3    9.3\n",
       "4  151.5   41.3       58.5   18.5\n",
       "5  180.8   10.8       58.4   12.9"
      ]
     },
     "execution_count": 32,
     "metadata": {},
     "output_type": "execute_result"
    }
   ],
   "source": [
    "df.head()"
   ]
  },
  {
   "cell_type": "markdown",
   "metadata": {
    "id": "B-bW7n55IN6I"
   },
   "source": [
    "## Algorithm --> Model\n",
    "\n",
    "In this lesson, we will look at the linear regression as a solution to supervised ML problems. \n",
    "\n",
    "The algorithm for a linear regression is a mathematical formula, or recipe, that tells us how to make a specific prediction. You might know the basic version of this formula quite well from high school algebra. \n",
    "\n",
    "```Y = mX+b```\n",
    "\n",
    "We can read this as \n",
    "\n",
    "```For each continuous change in X, y is predictable by multiplying the rate of change (m) by the value of X, and adding this to the initial value (b).```\n",
    "\n",
    "For ML, we complicate a bit more, since we will rarely see only one independent variable (X) and also need to account for some type of irreducible error. \n",
    "\n",
    "<p><img src=\"https://encrypted-tbn0.gstatic.com/images?q=tbn:ANd9GcScayGTKCz4Sia1f031p3A8SBL_rRLiHnTJDA&usqp=CAU\" align=\"Center\" hspace=\"10px\" vspace=\"0px\"></p>\n",
    "\n",
    "where\n",
    "\n",
    "<p><img src=\"https://miro.medium.com/max/4800/0*gR-W7RFar9ijxwAa\" align=\"Center\" hspace=\"10px\" vspace=\"0px\"></p>\n",
    "\n",
    "This is the __Ordinary least squares (OLS)__ linear regression __algorithm__ that we will cover extensively in this lesson. The goal is to calculate values of  α and β in a way that minimizes the sum of the squared difference between Y-actual and y-predicted.\n",
    "\n",
    "This model makes 3 assumptions: \n",
    "- Dependent variable is not heteroskedastic (shotgun blast) and has linearality\n",
    "- There is no multi-collinearity or autocorrelation\n",
    "- Errors are normally distributed and homoskedastic, with equal variance around the regressor"
   ]
  },
  {
   "cell_type": "code",
   "execution_count": 33,
   "metadata": {
    "colab": {
     "base_uri": "https://localhost:8080/",
     "height": 296
    },
    "executionInfo": {
     "elapsed": 397,
     "status": "ok",
     "timestamp": 1611509244137,
     "user": {
      "displayName": "Bryce Peake",
      "photoUrl": "https://lh3.googleusercontent.com/a-/AOh14GgJyCQ2V_qxcbHa-k02tRyC2PYCznFAN1SI3YBT5Qw=s64",
      "userId": "05866871011354666091"
     },
     "user_tz": 300
    },
    "id": "889_AIz0bQG7",
    "outputId": "e0cd2658-f504-434c-f0fc-0865a763c5be"
   },
   "outputs": [
    {
     "name": "stdout",
     "output_type": "stream",
     "text": [
      "is there a linear relation?\n"
     ]
    },
    {
     "data": {
      "image/png": "[encoded data removed]",
      "text/plain": [
       "<Figure size 432x288 with 1 Axes>"
      ]
     },
     "metadata": {
      "needs_background": "light"
     },
     "output_type": "display_data"
    }
   ],
   "source": [
    "#let's check our assumptions from above, assuming we will predict sales. \n",
    "print('is there a linear relation?')\n",
    "df.plot(x = 'TV', y = 'sales', kind = 'scatter');"
   ]
  },
  {
   "cell_type": "markdown",
   "metadata": {
    "id": "ULHXbKHub7Cn"
   },
   "source": [
    "- Autocorrelation and multi-collinearity is a measure of the relationship among indepdent variables. \n",
    "\n",
    "- Time is said to be autocorrelated - each moment relies on the moment prior to exist, with everything happening now being only possible given that a second ago just happened. Time can never be an indepdent or dependent variable in business ML. \n",
    "\n",
    "- Multi-collinearity will be discussed below, when we get to multiple regression. \n",
    "\n",
    "- The third condition can only be tested *after* we build our model. \n",
    "\n",
    "So, let's get started implementing our model!\n",
    " \n",
    "---\n",
    "\n",
    "\n"
   ]
  },
  {
   "cell_type": "markdown",
   "metadata": {
    "id": "yP9IsvZHL-O6"
   },
   "source": [
    "Let's start with the inner most part of the formulae - calculating beta: \n",
    "\n",
    "<p><img src=\"https://miro.medium.com/max/4800/0*gR-W7RFar9ijxwAa\" align=\"Center\" hspace=\"10px\" vspace=\"0px\"></p>\n",
    "\n",
    "In the divisor line, we will multiply two differences - the difference between our X value in position 1 and the mean of matrix X, and the difference between the y value in position 1 and the mean of series y. Sigma indicates that we will add all of these values together. This is called the calculation of covariance. \n",
    "\n",
    "In the dividend, we take the difference between X value in position 1 and the mean of X and square it for each X value. We then add those together to calculate beta. This is the calculating of variance.  "
   ]
  },
  {
   "cell_type": "code",
   "execution_count": 34,
   "metadata": {
    "colab": {
     "base_uri": "https://localhost:8080/",
     "height": 204
    },
    "executionInfo": {
     "elapsed": 302,
     "status": "ok",
     "timestamp": 1611510568541,
     "user": {
      "displayName": "Bryce Peake",
      "photoUrl": "https://lh3.googleusercontent.com/a-/AOh14GgJyCQ2V_qxcbHa-k02tRyC2PYCznFAN1SI3YBT5Qw=s64",
      "userId": "05866871011354666091"
     },
     "user_tz": 300
    },
    "id": "l_lbVX2ML3ee",
    "outputId": "cc6eee9d-f7fb-46f6-a96b-1ab12f092e99"
   },
   "outputs": [
    {
     "data": {
      "text/html": [
       "<div>\n",
       "<style scoped>\n",
       "    .dataframe tbody tr th:only-of-type {\n",
       "        vertical-align: middle;\n",
       "    }\n",
       "\n",
       "    .dataframe tbody tr th {\n",
       "        vertical-align: top;\n",
       "    }\n",
       "\n",
       "    .dataframe thead th {\n",
       "        text-align: right;\n",
       "    }\n",
       "</style>\n",
       "<table border=\"1\" class=\"dataframe\">\n",
       "  <thead>\n",
       "    <tr style=\"text-align: right;\">\n",
       "      <th></th>\n",
       "      <th>TV</th>\n",
       "      <th>radio</th>\n",
       "      <th>newspaper</th>\n",
       "      <th>sales</th>\n",
       "      <th>cov_TV-sales</th>\n",
       "      <th>var_TV</th>\n",
       "    </tr>\n",
       "  </thead>\n",
       "  <tbody>\n",
       "    <tr>\n",
       "      <th>1</th>\n",
       "      <td>230.1</td>\n",
       "      <td>37.8</td>\n",
       "      <td>69.2</td>\n",
       "      <td>22.1</td>\n",
       "      <td>670.896956</td>\n",
       "      <td>6898.548306</td>\n",
       "    </tr>\n",
       "    <tr>\n",
       "      <th>2</th>\n",
       "      <td>44.5</td>\n",
       "      <td>39.3</td>\n",
       "      <td>45.1</td>\n",
       "      <td>10.4</td>\n",
       "      <td>371.460206</td>\n",
       "      <td>10514.964306</td>\n",
       "    </tr>\n",
       "    <tr>\n",
       "      <th>3</th>\n",
       "      <td>17.2</td>\n",
       "      <td>45.9</td>\n",
       "      <td>69.3</td>\n",
       "      <td>9.3</td>\n",
       "      <td>613.181206</td>\n",
       "      <td>16859.074806</td>\n",
       "    </tr>\n",
       "    <tr>\n",
       "      <th>4</th>\n",
       "      <td>151.5</td>\n",
       "      <td>41.3</td>\n",
       "      <td>58.5</td>\n",
       "      <td>18.5</td>\n",
       "      <td>19.958456</td>\n",
       "      <td>19.869306</td>\n",
       "    </tr>\n",
       "    <tr>\n",
       "      <th>5</th>\n",
       "      <td>180.8</td>\n",
       "      <td>10.8</td>\n",
       "      <td>58.4</td>\n",
       "      <td>12.9</td>\n",
       "      <td>-37.892794</td>\n",
       "      <td>1139.568806</td>\n",
       "    </tr>\n",
       "  </tbody>\n",
       "</table>\n",
       "</div>"
      ],
      "text/plain": [
       "      TV  radio  newspaper  sales  cov_TV-sales        var_TV\n",
       "1  230.1   37.8       69.2   22.1    670.896956   6898.548306\n",
       "2   44.5   39.3       45.1   10.4    371.460206  10514.964306\n",
       "3   17.2   45.9       69.3    9.3    613.181206  16859.074806\n",
       "4  151.5   41.3       58.5   18.5     19.958456     19.869306\n",
       "5  180.8   10.8       58.4   12.9    -37.892794   1139.568806"
      ]
     },
     "execution_count": 34,
     "metadata": {},
     "output_type": "execute_result"
    }
   ],
   "source": [
    "# get our means for X and y for use in the formula\n",
    "X_mean_1 = df.TV.mean()\n",
    "y_mean_1 = df.sales.mean()\n",
    "\n",
    "#calculate the terms for covariance and variance\n",
    "df['cov_TV-sales'] = (df['TV'] - X_mean_1) * (df['sales'] - y_mean_1)\n",
    "df['var_TV'] = (df['TV'] - X_mean_1)**2 #implement the variance of our equation\n",
    "\n",
    "# show our dataframe\n",
    "df.head()"
   ]
  },
  {
   "cell_type": "code",
   "execution_count": 35,
   "metadata": {
    "colab": {
     "base_uri": "https://localhost:8080/"
    },
    "executionInfo": {
     "elapsed": 273,
     "status": "ok",
     "timestamp": 1611510645852,
     "user": {
      "displayName": "Bryce Peake",
      "photoUrl": "https://lh3.googleusercontent.com/a-/AOh14GgJyCQ2V_qxcbHa-k02tRyC2PYCznFAN1SI3YBT5Qw=s64",
      "userId": "05866871011354666091"
     },
     "user_tz": 300
    },
    "id": "HKlc4Kd6OIpD",
    "outputId": "42be7c44-5b81-4ae9-98f3-e26ef8f8787d"
   },
   "outputs": [
    {
     "name": "stdout",
     "output_type": "stream",
     "text": [
      "beta: 0.047536640433019736\n",
      "alpha: 7.032593549127698\n"
     ]
    }
   ],
   "source": [
    "#calculate beta and alpha\n",
    "beta = df['cov_TV-sales'].sum() / df['var_TV'].sum() #based on the above, how do you do implement this. Don't forget that we need the sigma of each\n",
    "alpha = y_mean_1 - (beta * X_mean_1) #average of y minus ß times the average of X.\n",
    "\n",
    "#print your alpha and beta\n",
    "print('beta: {}'.format(beta))\n",
    "print('alpha: {}'.format(alpha))"
   ]
  },
  {
   "cell_type": "markdown",
   "metadata": {
    "id": "FekdJgVzRfO6"
   },
   "source": [
    "At this point, we've moved from the __Ordinary Least Squares algorithm__ to a __Linear Model__ that uses that algorithm to mathematically represent our data. This allows us to use the model to generate predictions about what might happen in the future -- at this point, note that we have no way of knowing if it's _good_."
   ]
  },
  {
   "cell_type": "code",
   "execution_count": 36,
   "metadata": {
    "colab": {
     "base_uri": "https://localhost:8080/",
     "height": 204
    },
    "executionInfo": {
     "elapsed": 533,
     "status": "ok",
     "timestamp": 1611510655021,
     "user": {
      "displayName": "Bryce Peake",
      "photoUrl": "https://lh3.googleusercontent.com/a-/AOh14GgJyCQ2V_qxcbHa-k02tRyC2PYCznFAN1SI3YBT5Qw=s64",
      "userId": "05866871011354666091"
     },
     "user_tz": 300
    },
    "id": "ve4441DmPD9S",
    "outputId": "c0089663-ad6a-4c14-ac18-3722658b2ae3"
   },
   "outputs": [
    {
     "data": {
      "text/html": [
       "<div>\n",
       "<style scoped>\n",
       "    .dataframe tbody tr th:only-of-type {\n",
       "        vertical-align: middle;\n",
       "    }\n",
       "\n",
       "    .dataframe tbody tr th {\n",
       "        vertical-align: top;\n",
       "    }\n",
       "\n",
       "    .dataframe thead th {\n",
       "        text-align: right;\n",
       "    }\n",
       "</style>\n",
       "<table border=\"1\" class=\"dataframe\">\n",
       "  <thead>\n",
       "    <tr style=\"text-align: right;\">\n",
       "      <th></th>\n",
       "      <th>TV</th>\n",
       "      <th>radio</th>\n",
       "      <th>newspaper</th>\n",
       "      <th>sales</th>\n",
       "      <th>cov_TV-sales</th>\n",
       "      <th>var_TV</th>\n",
       "      <th>pred_sales</th>\n",
       "    </tr>\n",
       "  </thead>\n",
       "  <tbody>\n",
       "    <tr>\n",
       "      <th>1</th>\n",
       "      <td>230.1</td>\n",
       "      <td>37.8</td>\n",
       "      <td>69.2</td>\n",
       "      <td>22.1</td>\n",
       "      <td>670.896956</td>\n",
       "      <td>6898.548306</td>\n",
       "      <td>17.970775</td>\n",
       "    </tr>\n",
       "    <tr>\n",
       "      <th>2</th>\n",
       "      <td>44.5</td>\n",
       "      <td>39.3</td>\n",
       "      <td>45.1</td>\n",
       "      <td>10.4</td>\n",
       "      <td>371.460206</td>\n",
       "      <td>10514.964306</td>\n",
       "      <td>9.147974</td>\n",
       "    </tr>\n",
       "    <tr>\n",
       "      <th>3</th>\n",
       "      <td>17.2</td>\n",
       "      <td>45.9</td>\n",
       "      <td>69.3</td>\n",
       "      <td>9.3</td>\n",
       "      <td>613.181206</td>\n",
       "      <td>16859.074806</td>\n",
       "      <td>7.850224</td>\n",
       "    </tr>\n",
       "    <tr>\n",
       "      <th>4</th>\n",
       "      <td>151.5</td>\n",
       "      <td>41.3</td>\n",
       "      <td>58.5</td>\n",
       "      <td>18.5</td>\n",
       "      <td>19.958456</td>\n",
       "      <td>19.869306</td>\n",
       "      <td>14.234395</td>\n",
       "    </tr>\n",
       "    <tr>\n",
       "      <th>5</th>\n",
       "      <td>180.8</td>\n",
       "      <td>10.8</td>\n",
       "      <td>58.4</td>\n",
       "      <td>12.9</td>\n",
       "      <td>-37.892794</td>\n",
       "      <td>1139.568806</td>\n",
       "      <td>15.627218</td>\n",
       "    </tr>\n",
       "  </tbody>\n",
       "</table>\n",
       "</div>"
      ],
      "text/plain": [
       "      TV  radio  newspaper  sales  cov_TV-sales        var_TV  pred_sales\n",
       "1  230.1   37.8       69.2   22.1    670.896956   6898.548306   17.970775\n",
       "2   44.5   39.3       45.1   10.4    371.460206  10514.964306    9.147974\n",
       "3   17.2   45.9       69.3    9.3    613.181206  16859.074806    7.850224\n",
       "4  151.5   41.3       58.5   18.5     19.958456     19.869306   14.234395\n",
       "5  180.8   10.8       58.4   12.9    -37.892794   1139.568806   15.627218"
      ]
     },
     "execution_count": 36,
     "metadata": {},
     "output_type": "execute_result"
    }
   ],
   "source": [
    "#now, let's generate our prediction for each value. \n",
    "df['pred_sales'] = alpha + beta * df.TV\n",
    "\n",
    "#and look at our dataframe\n",
    "df.head()"
   ]
  },
  {
   "cell_type": "code",
   "execution_count": 37,
   "metadata": {
    "colab": {
     "base_uri": "https://localhost:8080/",
     "height": 404
    },
    "executionInfo": {
     "elapsed": 604,
     "status": "ok",
     "timestamp": 1611510656991,
     "user": {
      "displayName": "Bryce Peake",
      "photoUrl": "https://lh3.googleusercontent.com/a-/AOh14GgJyCQ2V_qxcbHa-k02tRyC2PYCznFAN1SI3YBT5Qw=s64",
      "userId": "05866871011354666091"
     },
     "user_tz": 300
    },
    "id": "Ov-_6CYdPp-C",
    "outputId": "6ee0c89c-4996-49ef-f665-4dfb27e6c531"
   },
   "outputs": [
    {
     "data": {
      "image/png": "[encoded data removed]",
      "text/plain": [
       "<Figure size 864x432 with 1 Axes>"
      ]
     },
     "metadata": {
      "needs_background": "light"
     },
     "output_type": "display_data"
    }
   ],
   "source": [
    "#it's hard to see how we did just based on this, so let's do some plotting of our actual vs. predicted \n",
    "plt.figure(figsize = (12, 6)) #this sets the size of our graph\n",
    "plt.plot(df.TV, df.sales, 'ro') #this is our actuals, represented as rED o'S (hence ro)\n",
    "plt.plot(df.TV, df.pred_sales) #this is our linear regression\n",
    "plt.title('Actual vs. predicted')\n",
    "plt.xlabel('TV ads')\n",
    "plt.ylabel('sales');"
   ]
  },
  {
   "cell_type": "markdown",
   "metadata": {
    "id": "CP3YbzqvQnlz"
   },
   "source": [
    "## Evaluating models\n",
    "Above, we can see that our model is better for lower number of ads, but loses it's abilty to predict as the number of tv ads increases. \n",
    "\n",
    "We can quantify this problem using two metricss: error and R2. \n",
    "\n"
   ]
  },
  {
   "cell_type": "markdown",
   "metadata": {
    "id": "NktxRtKVSala"
   },
   "source": [
    "There are three types of error used in regressions: mean absolute error (MAE), mean-squared error (MSE), and root mean-squared error (RMSE). Note: N here represents the number of predictions you made. \n",
    "\n",
    "<p><img src=\"https://4.bp.blogspot.com/-wG7IbjTfE6k/XGUvqm7TCVI/AAAAAAAAAZU/vpH1kuKTIooKTcVlnm1EVRCXLVZM9cPNgCLcBGAs/s1600/formula-MAE-MSE-RMSE-RSquared.JPG\" align=\"Center\" hspace=\"10px\" vspace=\"0px\"></p>\n",
    "\n",
    "Let's implement the mean absolute error ourselves, and then turn to the sklearn library to calculate MSE"
   ]
  },
  {
   "cell_type": "code",
   "execution_count": 38,
   "metadata": {
    "colab": {
     "base_uri": "https://localhost:8080/"
    },
    "executionInfo": {
     "elapsed": 320,
     "status": "ok",
     "timestamp": 1611507281286,
     "user": {
      "displayName": "Bryce Peake",
      "photoUrl": "https://lh3.googleusercontent.com/a-/AOh14GgJyCQ2V_qxcbHa-k02tRyC2PYCznFAN1SI3YBT5Qw=s64",
      "userId": "05866871011354666091"
     },
     "user_tz": 300
    },
    "id": "UoEoREjdQeym",
    "outputId": "fdccf168-7a80-492d-ea71-6c082a283253"
   },
   "outputs": [
    {
     "name": "stdout",
     "output_type": "stream",
     "text": [
      "Mean Absolute Error is: 2.5498060389274864\n"
     ]
    },
    {
     "data": {
      "text/html": [
       "<div>\n",
       "<style scoped>\n",
       "    .dataframe tbody tr th:only-of-type {\n",
       "        vertical-align: middle;\n",
       "    }\n",
       "\n",
       "    .dataframe tbody tr th {\n",
       "        vertical-align: top;\n",
       "    }\n",
       "\n",
       "    .dataframe thead th {\n",
       "        text-align: right;\n",
       "    }\n",
       "</style>\n",
       "<table border=\"1\" class=\"dataframe\">\n",
       "  <thead>\n",
       "    <tr style=\"text-align: right;\">\n",
       "      <th></th>\n",
       "      <th>TV</th>\n",
       "      <th>radio</th>\n",
       "      <th>newspaper</th>\n",
       "      <th>sales</th>\n",
       "      <th>cov_TV-sales</th>\n",
       "      <th>var_TV</th>\n",
       "      <th>pred_sales</th>\n",
       "      <th>error_list</th>\n",
       "    </tr>\n",
       "  </thead>\n",
       "  <tbody>\n",
       "    <tr>\n",
       "      <th>1</th>\n",
       "      <td>230.1</td>\n",
       "      <td>37.8</td>\n",
       "      <td>69.2</td>\n",
       "      <td>22.1</td>\n",
       "      <td>670.896956</td>\n",
       "      <td>6898.548306</td>\n",
       "      <td>17.970775</td>\n",
       "      <td>4.129225</td>\n",
       "    </tr>\n",
       "    <tr>\n",
       "      <th>2</th>\n",
       "      <td>44.5</td>\n",
       "      <td>39.3</td>\n",
       "      <td>45.1</td>\n",
       "      <td>10.4</td>\n",
       "      <td>371.460206</td>\n",
       "      <td>10514.964306</td>\n",
       "      <td>9.147974</td>\n",
       "      <td>1.252026</td>\n",
       "    </tr>\n",
       "    <tr>\n",
       "      <th>3</th>\n",
       "      <td>17.2</td>\n",
       "      <td>45.9</td>\n",
       "      <td>69.3</td>\n",
       "      <td>9.3</td>\n",
       "      <td>613.181206</td>\n",
       "      <td>16859.074806</td>\n",
       "      <td>7.850224</td>\n",
       "      <td>1.449776</td>\n",
       "    </tr>\n",
       "    <tr>\n",
       "      <th>4</th>\n",
       "      <td>151.5</td>\n",
       "      <td>41.3</td>\n",
       "      <td>58.5</td>\n",
       "      <td>18.5</td>\n",
       "      <td>19.958456</td>\n",
       "      <td>19.869306</td>\n",
       "      <td>14.234395</td>\n",
       "      <td>4.265605</td>\n",
       "    </tr>\n",
       "    <tr>\n",
       "      <th>5</th>\n",
       "      <td>180.8</td>\n",
       "      <td>10.8</td>\n",
       "      <td>58.4</td>\n",
       "      <td>12.9</td>\n",
       "      <td>-37.892794</td>\n",
       "      <td>1139.568806</td>\n",
       "      <td>15.627218</td>\n",
       "      <td>2.727218</td>\n",
       "    </tr>\n",
       "  </tbody>\n",
       "</table>\n",
       "</div>"
      ],
      "text/plain": [
       "      TV  radio  newspaper  sales  cov_TV-sales        var_TV  pred_sales  \\\n",
       "1  230.1   37.8       69.2   22.1    670.896956   6898.548306   17.970775   \n",
       "2   44.5   39.3       45.1   10.4    371.460206  10514.964306    9.147974   \n",
       "3   17.2   45.9       69.3    9.3    613.181206  16859.074806    7.850224   \n",
       "4  151.5   41.3       58.5   18.5     19.958456     19.869306   14.234395   \n",
       "5  180.8   10.8       58.4   12.9    -37.892794   1139.568806   15.627218   \n",
       "\n",
       "   error_list  \n",
       "1    4.129225  \n",
       "2    1.252026  \n",
       "3    1.449776  \n",
       "4    4.265605  \n",
       "5    2.727218  "
      ]
     },
     "execution_count": 38,
     "metadata": {},
     "output_type": "execute_result"
    }
   ],
   "source": [
    "#IN code below, break the Mean Absolute Error equation into different parts\n",
    "y_hat = df.pred_sales.mean()\n",
    "y_bar = df.sales.mean()\n",
    "##A series of aboslute values (use np.abs()) of the difference between y in position 1 and our y-prediction in position 1\n",
    "df['error_list'] = np.abs(df.sales - df.pred_sales)\n",
    "##The sum of that series, divided by N number of predictions\n",
    "MAE = 1/df.shape[0] * df.error_list.sum()\n",
    "print('Mean Absolute Error is: {}'.format(MAE))\n",
    "df.head()"
   ]
  },
  {
   "cell_type": "code",
   "execution_count": 39,
   "metadata": {
    "colab": {
     "base_uri": "https://localhost:8080/"
    },
    "executionInfo": {
     "elapsed": 297,
     "status": "ok",
     "timestamp": 1611510673272,
     "user": {
      "displayName": "Bryce Peake",
      "photoUrl": "https://lh3.googleusercontent.com/a-/AOh14GgJyCQ2V_qxcbHa-k02tRyC2PYCznFAN1SI3YBT5Qw=s64",
      "userId": "05866871011354666091"
     },
     "user_tz": 300
    },
    "id": "rwqOSLoFTedF",
    "outputId": "8634d680-cfcc-42d7-d0d3-c21a1803576d"
   },
   "outputs": [
    {
     "data": {
      "text/plain": [
       "2.5498060389274864"
      ]
     },
     "execution_count": 39,
     "metadata": {},
     "output_type": "execute_result"
    }
   ],
   "source": [
    "#let's check it by implementing a package from sklearn to calculate metrics\n",
    "from sklearn.metrics import mean_absolute_error\n",
    "mean_absolute_error(df.sales, df.pred_sales)"
   ]
  },
  {
   "cell_type": "code",
   "execution_count": 40,
   "metadata": {
    "colab": {
     "base_uri": "https://localhost:8080/"
    },
    "executionInfo": {
     "elapsed": 226,
     "status": "ok",
     "timestamp": 1611510673570,
     "user": {
      "displayName": "Bryce Peake",
      "photoUrl": "https://lh3.googleusercontent.com/a-/AOh14GgJyCQ2V_qxcbHa-k02tRyC2PYCznFAN1SI3YBT5Qw=s64",
      "userId": "05866871011354666091"
     },
     "user_tz": 300
    },
    "id": "oVYZUQXFTqx_",
    "outputId": "b8db50b0-1d9c-4ad6-e94a-f46283b680a7"
   },
   "outputs": [
    {
     "name": "stdout",
     "output_type": "stream",
     "text": [
      "Mean-Squared Error is 10.512652915656757\n"
     ]
    }
   ],
   "source": [
    "#now, let's look at mse, and RMSE\n",
    "\n",
    "##import MSE from sklearn and use it\n",
    "from sklearn.metrics import mean_squared_error\n",
    "MSE = mean_squared_error(df.sales, df.pred_sales)\n",
    "\n",
    "#print the value\n",
    "print('Mean-Squared Error is {}'.format(MSE))"
   ]
  },
  {
   "cell_type": "markdown",
   "metadata": {
    "id": "hLoMQmOhU84F"
   },
   "source": [
    "Let's talk about the difference!\n",
    "\n",
    "Absolute vs. Squared!"
   ]
  },
  {
   "cell_type": "code",
   "execution_count": 41,
   "metadata": {
    "colab": {
     "base_uri": "https://localhost:8080/"
    },
    "executionInfo": {
     "elapsed": 248,
     "status": "ok",
     "timestamp": 1611510675720,
     "user": {
      "displayName": "Bryce Peake",
      "photoUrl": "https://lh3.googleusercontent.com/a-/AOh14GgJyCQ2V_qxcbHa-k02tRyC2PYCznFAN1SI3YBT5Qw=s64",
      "userId": "05866871011354666091"
     },
     "user_tz": 300
    },
    "id": "iY2TR1WIUvMT",
    "outputId": "59121306-3ac7-43d4-c401-94fbe31973fb"
   },
   "outputs": [
    {
     "name": "stdout",
     "output_type": "stream",
     "text": [
      "RMSE is 3.2423221486546887\n"
     ]
    }
   ],
   "source": [
    "#to get to root mean squared error, \n",
    "rmse = np.sqrt(mean_squared_error(df.sales, df.pred_sales))\n",
    "print('RMSE is {}'.format(rmse))\n",
    "\n",
    "##Recently, sklearn has introduced a root_mean_squared_error method like the above. You will likely see both approahces"
   ]
  },
  {
   "cell_type": "markdown",
   "metadata": {
    "id": "OmsABzVvYO9e"
   },
   "source": [
    "R2 is also called the __coefficient of determination__, and is a measure of the proportion of variance in y that is predictable from X (whether X is one indepdent variable or multiple). n. It quantifies how well observed outcomes are replicated by the model, based on the proportion of total variation of outcomes explained by the model. "
   ]
  },
  {
   "cell_type": "code",
   "execution_count": 42,
   "metadata": {
    "colab": {
     "base_uri": "https://localhost:8080/"
    },
    "executionInfo": {
     "elapsed": 265,
     "status": "ok",
     "timestamp": 1611508429084,
     "user": {
      "displayName": "Bryce Peake",
      "photoUrl": "https://lh3.googleusercontent.com/a-/AOh14GgJyCQ2V_qxcbHa-k02tRyC2PYCznFAN1SI3YBT5Qw=s64",
      "userId": "05866871011354666091"
     },
     "user_tz": 300
    },
    "id": "nxhjxk51YoMw",
    "outputId": "ce927d8f-8947-4045-f85f-2e7db9d613ff"
   },
   "outputs": [
    {
     "name": "stdout",
     "output_type": "stream",
     "text": [
      "the r2 is: 0.611875050850071\n"
     ]
    }
   ],
   "source": [
    "from sklearn.metrics import r2_score\n",
    "print('the r2 is: {}'.format(r2_score(df.sales, df.pred_sales)))"
   ]
  },
  {
   "cell_type": "markdown",
   "metadata": {
    "id": "gejI67PyVVtV"
   },
   "source": [
    "With these metrics, we can report to the business that, with an error of around 3.24 sales (RMSE), estimating sales using the number of TV ads is able to account for 61% of variance in sales.\n",
    "\n",
    "In a production environment, we would say that r2 is too low. But we also don't want it to be too high. This is because of a mathematical relationship we call the bias-variance trade-off (a topic of every data science interview ever). \n",
    "\n",
    "<p><img src=\"https://lh3.googleusercontent.com/proxy/I3WRBycWREUVBDcma6cEI4s_KOjoGYJTpkNZnxlV6jCNZsVjPurIvcviWHRgFQzhka5D0U6vNj8pVpX6VHb4cjR_lyPvxVrExtArBlxeUNVbwEtYTD6x7PJeA3km\" align=\"Center\" hspace=\"10px\" vspace=\"0px\"></p>\n",
    "\n",
    "As we account for more variance, our model becomes 'overfitted' for the data it's trained on. Once there is any break from the training pattern, error will skyrocket. Without enough variance, though, we will also see high error as we're unable to account for any patterns. Our goal as a data scientist is to find a situation-specific balance between bias and variance in order to reduce error. \n",
    "\n",
    "<p><img src=\"https://www.researchgate.net/publication/335604816/figure/fig2/AS:799391489220609@1567601191401/Bias-variance-trade-off-in-machine-learning-This-figure-illustrates-the-trade-off.png\" align=\"Center\" hspace=\"10px\" vspace=\"0px\"></p>\n",
    "\n",
    "\n",
    "A rule of thumb typically used is that r2 should be between 75% and 89%, otherwise risks being over- or under- fit. What the best metric, though, depends on the business case. \n",
    "\n",
    "---\n"
   ]
  },
  {
   "cell_type": "markdown",
   "metadata": {
    "id": "JQohJeSMZXWx"
   },
   "source": [
    "We've now learned how to test a model, which is the use ('implementation') of an alogrithm to represent our specific data. \n",
    "\n",
    "We have a problem though. We know that when our model knows all of **the** data, it performs this way. But how will our model perform predicting Y when it hasn't already seen the relationship between X and y? \n",
    "\n",
    "In other words, how will this model perform on data it's never seen before? "
   ]
  },
  {
   "cell_type": "markdown",
   "metadata": {
    "id": "3kEBhJxQViaW"
   },
   "source": [
    "## Train-test-split and validation\n",
    "\n",
    "To better represent how models will behave in production and use, we typically hide data from our model. This is called leave-one-out validation.\n",
    "\n",
    "<p><img src=\"https://encrypted-tbn0.gstatic.com/images?q=tbn:ANd9GcRVwc3rbRmNj_qVSCG-KcAkHrtlfduTM-Wuyw&usqp=CAU\" align=\"Center\" hspace=\"10px\" vspace=\"0px\"></p>\n",
    "\n",
    "\n",
    "\n",
    "\n",
    "`sklearn` comes with a nice package to do this!\n",
    "\n",
    "While we are only doing a simple OLS regression, we will still start to follow data science best practices by declaring our variables and passing those - rather than calculating directly on our dataframe. "
   ]
  },
  {
   "cell_type": "code",
   "execution_count": 43,
   "metadata": {
    "executionInfo": {
     "elapsed": 459,
     "status": "ok",
     "timestamp": 1611510680592,
     "user": {
      "displayName": "Bryce Peake",
      "photoUrl": "https://lh3.googleusercontent.com/a-/AOh14GgJyCQ2V_qxcbHa-k02tRyC2PYCznFAN1SI3YBT5Qw=s64",
      "userId": "05866871011354666091"
     },
     "user_tz": 300
    },
    "id": "WkaHB9rbVI6W"
   },
   "outputs": [],
   "source": [
    "#Declare X and y\n",
    "X = df[['TV']] #we use a capital X to denote a matrix, since sklearn requires this to accomodate both simple and multiple regression\n",
    "y = df.sales"
   ]
  },
  {
   "cell_type": "code",
   "execution_count": 44,
   "metadata": {
    "colab": {
     "base_uri": "https://localhost:8080/"
    },
    "executionInfo": {
     "elapsed": 260,
     "status": "ok",
     "timestamp": 1611510681335,
     "user": {
      "displayName": "Bryce Peake",
      "photoUrl": "https://lh3.googleusercontent.com/a-/AOh14GgJyCQ2V_qxcbHa-k02tRyC2PYCznFAN1SI3YBT5Qw=s64",
      "userId": "05866871011354666091"
     },
     "user_tz": 300
    },
    "id": "P7WXDBEBdZ8d",
    "outputId": "3fbbd460-9c06-4118-ce4b-3cd007cfaa7c"
   },
   "outputs": [
    {
     "name": "stdout",
     "output_type": "stream",
     "text": [
      "(200, 8)\n",
      "(140, 1)\n",
      "(60, 1)\n",
      "(140,)\n",
      "(60,)\n"
     ]
    }
   ],
   "source": [
    "from sklearn.model_selection import train_test_split\n",
    "\n",
    "#this package uses multiple item assignment, which allows to quickly assign output to single objects \n",
    "X_train, X_test, y_train, y_test = train_test_split(X, y, train_size = .7, test_size = .3 ,random_state = 42) \n",
    "\n",
    "print(df.shape)\n",
    "print(X_train.shape)\n",
    "print(X_test.shape)\n",
    "print(y_train.shape)\n",
    "print(y_test.shape)"
   ]
  },
  {
   "cell_type": "markdown",
   "metadata": {
    "id": "FiAbZ7Ysd9bO"
   },
   "source": [
    "Rather than go through the process of building our model from scratch again, let's leverage the sklearn's linear regression class to quickly make a model. \n",
    "\n",
    "Sklearn's models all follow the same formulae (with some exceptions), which makes it easy to learn how to implement any sklearn model after you've done a linear regression!\n",
    "\n",
    "There are 5 stages (and we've already done #5 previously!)\n",
    "\n",
    "\n",
    "1.   Import\n",
    "2.   Instantiate\n",
    "3. Fit\n",
    "4. Predict\n",
    "5. Score\n",
    "\n"
   ]
  },
  {
   "cell_type": "code",
   "execution_count": 45,
   "metadata": {
    "colab": {
     "base_uri": "https://localhost:8080/"
    },
    "executionInfo": {
     "elapsed": 245,
     "status": "ok",
     "timestamp": 1611511542210,
     "user": {
      "displayName": "Bryce Peake",
      "photoUrl": "https://lh3.googleusercontent.com/a-/AOh14GgJyCQ2V_qxcbHa-k02tRyC2PYCznFAN1SI3YBT5Qw=s64",
      "userId": "05866871011354666091"
     },
     "user_tz": 300
    },
    "id": "sB0lNK5wdtvU",
    "outputId": "479d757c-21ed-4fd9-e2c3-32f6113df0d6"
   },
   "outputs": [
    {
     "name": "stdout",
     "output_type": "stream",
     "text": [
      "This model has an error of 2.995161304907236\n",
      "This model captures variance around 0.6714477229302764\n"
     ]
    }
   ],
   "source": [
    "#import\n",
    "from sklearn.linear_model import LinearRegression\n",
    "\n",
    "#instantiate this class, creating a local version of the algorithm and storing it in the object lr\n",
    "sOLS_lr = LinearRegression()\n",
    "\n",
    "#lr inherits all of the methods of the LinearRegression, including an easy way to fit models using the fit method - this makes it a model\n",
    "sOLS_lr.fit(X_train, y_train)\n",
    "\n",
    "#Now, we can store predictions. We're going to call it the simple OLS y_pred\n",
    "sOLS_y_pred = sOLS_lr.predict(X_test).reshape(-1, 1)\n",
    "\n",
    "#and measure our model's performance by comparing y_pred to y_test\n",
    "print('This model has an error of {}'.format(np.sqrt(mean_squared_error(y_test, sOLS_y_pred))))\n",
    "print('This model captures variance around {}'.format(r2_score(y_test, sOLS_y_pred)))"
   ]
  },
  {
   "cell_type": "code",
   "execution_count": 46,
   "metadata": {
    "colab": {
     "base_uri": "https://localhost:8080/",
     "height": 295
    },
    "executionInfo": {
     "elapsed": 456,
     "status": "ok",
     "timestamp": 1611511381300,
     "user": {
      "displayName": "Bryce Peake",
      "photoUrl": "https://lh3.googleusercontent.com/a-/AOh14GgJyCQ2V_qxcbHa-k02tRyC2PYCznFAN1SI3YBT5Qw=s64",
      "userId": "05866871011354666091"
     },
     "user_tz": 300
    },
    "id": "Q20OJXU3ewOh",
    "outputId": "10f3f30e-1613-4830-a2c5-a7102f8f30a2"
   },
   "outputs": [
    {
     "data": {
      "image/png": "[encoded data removed]",
      "text/plain": [
       "<Figure size 432x288 with 1 Axes>"
      ]
     },
     "metadata": {
      "needs_background": "light"
     },
     "output_type": "display_data"
    }
   ],
   "source": [
    "#let's plot our test set to see how our model did. \n",
    "plt.plot(X_test, y_test, 'ro') #this is our actuals, represented as rED o'S (hence ro)\n",
    "plt.plot(X_test, sOLS_y_pred) #this is our linear regression\n",
    "plt.title('Actual vs. predicted')\n",
    "plt.xlabel('TV ads')\n",
    "plt.ylabel('sales');"
   ]
  },
  {
   "cell_type": "code",
   "execution_count": 47,
   "metadata": {
    "colab": {
     "base_uri": "https://localhost:8080/",
     "height": 295
    },
    "executionInfo": {
     "elapsed": 692,
     "status": "ok",
     "timestamp": 1611511552249,
     "user": {
      "displayName": "Bryce Peake",
      "photoUrl": "https://lh3.googleusercontent.com/a-/AOh14GgJyCQ2V_qxcbHa-k02tRyC2PYCznFAN1SI3YBT5Qw=s64",
      "userId": "05866871011354666091"
     },
     "user_tz": 300
    },
    "id": "nddxvZ1pf2TX",
    "outputId": "3b3c6ccd-a4c7-4939-e6c1-e197cd7a4b66"
   },
   "outputs": [
    {
     "data": {
      "image/png": "[encoded data removed]",
      "text/plain": [
       "<Figure size 432x288 with 1 Axes>"
      ]
     },
     "metadata": {
      "needs_background": "light"
     },
     "output_type": "display_data"
    }
   ],
   "source": [
    "#if we wanted to compare this to our improper model\n",
    "df['skl-pred_sales'] = sOLS_lr.predict(df[['TV']])\n",
    "\n",
    "plt.plot(df.TV, df['sales'], 'ro') #this is our actuals, represented as rED o'S (hence ro)\n",
    "plt.plot(df.TV, df['pred_sales'], 'g-') #this is our linear regression for model 1\n",
    "plt.plot(df.TV, df['skl-pred_sales'], 'bx') #this is our linear regression for model 1\n",
    "plt.title('Actual vs. predicted')\n",
    "plt.xlabel('TV ads')\n",
    "plt.ylabel('sales');"
   ]
  },
  {
   "cell_type": "markdown",
   "metadata": {
    "id": "oskwLtsEhtVi"
   },
   "source": [
    "We can see here that our models perform similarly, as the blue X's that are our sklearn model tightly overlap the green line that is our manually-built linear regression."
   ]
  },
  {
   "cell_type": "markdown",
   "metadata": {
    "id": "ioNonYMHh6cL"
   },
   "source": [
    "## Unstructured Practice\n",
    "\n",
    "After sharing this with your partners in ad sales, they want you to go back and develop the best model possible. Guide yourself through this practice project, adding more variables to your X value, using train test split, and leveraging sklearn's regressor class. \n",
    "\n",
    "When we start using more than one indpendent variable (X), we have to ensure we're not violatin a key assumption of a linear regession -- that our indepdent variables are truly independent. To test that, we can check a correlation heatmap to evaulate what variables are at risk of being collinear."
   ]
  },
  {
   "cell_type": "code",
   "execution_count": 48,
   "metadata": {
    "colab": {
     "base_uri": "https://localhost:8080/",
     "height": 297
    },
    "executionInfo": {
     "elapsed": 299,
     "status": "ok",
     "timestamp": 1611511225461,
     "user": {
      "displayName": "Bryce Peake",
      "photoUrl": "https://lh3.googleusercontent.com/a-/AOh14GgJyCQ2V_qxcbHa-k02tRyC2PYCznFAN1SI3YBT5Qw=s64",
      "userId": "05866871011354666091"
     },
     "user_tz": 300
    },
    "id": "MLD9M-aMi9A6",
    "outputId": "b03532ec-1b80-48fd-835d-30daa6e0cb8f"
   },
   "outputs": [
    {
     "data": {
      "text/html": [
       "<div>\n",
       "<style scoped>\n",
       "    .dataframe tbody tr th:only-of-type {\n",
       "        vertical-align: middle;\n",
       "    }\n",
       "\n",
       "    .dataframe tbody tr th {\n",
       "        vertical-align: top;\n",
       "    }\n",
       "\n",
       "    .dataframe thead th {\n",
       "        text-align: right;\n",
       "    }\n",
       "</style>\n",
       "<table border=\"1\" class=\"dataframe\">\n",
       "  <thead>\n",
       "    <tr style=\"text-align: right;\">\n",
       "      <th></th>\n",
       "      <th>TV</th>\n",
       "      <th>radio</th>\n",
       "      <th>newspaper</th>\n",
       "      <th>sales</th>\n",
       "      <th>cov_TV-sales</th>\n",
       "      <th>var_TV</th>\n",
       "      <th>pred_sales</th>\n",
       "      <th>error_list</th>\n",
       "      <th>skl-pred_sales</th>\n",
       "    </tr>\n",
       "  </thead>\n",
       "  <tbody>\n",
       "    <tr>\n",
       "      <th>TV</th>\n",
       "      <td>1.000000</td>\n",
       "      <td>0.054809</td>\n",
       "      <td>0.056648</td>\n",
       "      <td>0.782224</td>\n",
       "      <td>-0.129791</td>\n",
       "      <td>-0.078797</td>\n",
       "      <td>1.000000</td>\n",
       "      <td>0.480019</td>\n",
       "      <td>1.000000</td>\n",
       "    </tr>\n",
       "    <tr>\n",
       "      <th>radio</th>\n",
       "      <td>0.054809</td>\n",
       "      <td>1.000000</td>\n",
       "      <td>0.354104</td>\n",
       "      <td>0.576223</td>\n",
       "      <td>0.333135</td>\n",
       "      <td>0.096884</td>\n",
       "      <td>0.054809</td>\n",
       "      <td>0.108212</td>\n",
       "      <td>0.054809</td>\n",
       "    </tr>\n",
       "    <tr>\n",
       "      <th>newspaper</th>\n",
       "      <td>0.056648</td>\n",
       "      <td>0.354104</td>\n",
       "      <td>1.000000</td>\n",
       "      <td>0.228299</td>\n",
       "      <td>0.124422</td>\n",
       "      <td>0.081003</td>\n",
       "      <td>0.056648</td>\n",
       "      <td>0.084437</td>\n",
       "      <td>0.056648</td>\n",
       "    </tr>\n",
       "    <tr>\n",
       "      <th>sales</th>\n",
       "      <td>0.782224</td>\n",
       "      <td>0.576223</td>\n",
       "      <td>0.228299</td>\n",
       "      <td>1.000000</td>\n",
       "      <td>0.096153</td>\n",
       "      <td>-0.146003</td>\n",
       "      <td>0.782224</td>\n",
       "      <td>0.359552</td>\n",
       "      <td>0.782224</td>\n",
       "    </tr>\n",
       "    <tr>\n",
       "      <th>cov_TV-sales</th>\n",
       "      <td>-0.129791</td>\n",
       "      <td>0.333135</td>\n",
       "      <td>0.124422</td>\n",
       "      <td>0.096153</td>\n",
       "      <td>1.000000</td>\n",
       "      <td>0.744287</td>\n",
       "      <td>-0.129791</td>\n",
       "      <td>-0.044700</td>\n",
       "      <td>-0.129791</td>\n",
       "    </tr>\n",
       "    <tr>\n",
       "      <th>var_TV</th>\n",
       "      <td>-0.078797</td>\n",
       "      <td>0.096884</td>\n",
       "      <td>0.081003</td>\n",
       "      <td>-0.146003</td>\n",
       "      <td>0.744287</td>\n",
       "      <td>1.000000</td>\n",
       "      <td>-0.078797</td>\n",
       "      <td>0.067464</td>\n",
       "      <td>-0.078797</td>\n",
       "    </tr>\n",
       "    <tr>\n",
       "      <th>pred_sales</th>\n",
       "      <td>1.000000</td>\n",
       "      <td>0.054809</td>\n",
       "      <td>0.056648</td>\n",
       "      <td>0.782224</td>\n",
       "      <td>-0.129791</td>\n",
       "      <td>-0.078797</td>\n",
       "      <td>1.000000</td>\n",
       "      <td>0.480019</td>\n",
       "      <td>1.000000</td>\n",
       "    </tr>\n",
       "    <tr>\n",
       "      <th>error_list</th>\n",
       "      <td>0.480019</td>\n",
       "      <td>0.108212</td>\n",
       "      <td>0.084437</td>\n",
       "      <td>0.359552</td>\n",
       "      <td>-0.044700</td>\n",
       "      <td>0.067464</td>\n",
       "      <td>0.480019</td>\n",
       "      <td>1.000000</td>\n",
       "      <td>0.480019</td>\n",
       "    </tr>\n",
       "    <tr>\n",
       "      <th>skl-pred_sales</th>\n",
       "      <td>1.000000</td>\n",
       "      <td>0.054809</td>\n",
       "      <td>0.056648</td>\n",
       "      <td>0.782224</td>\n",
       "      <td>-0.129791</td>\n",
       "      <td>-0.078797</td>\n",
       "      <td>1.000000</td>\n",
       "      <td>0.480019</td>\n",
       "      <td>1.000000</td>\n",
       "    </tr>\n",
       "  </tbody>\n",
       "</table>\n",
       "</div>"
      ],
      "text/plain": [
       "                      TV     radio  newspaper     sales  cov_TV-sales  \\\n",
       "TV              1.000000  0.054809   0.056648  0.782224     -0.129791   \n",
       "radio           0.054809  1.000000   0.354104  0.576223      0.333135   \n",
       "newspaper       0.056648  0.354104   1.000000  0.228299      0.124422   \n",
       "sales           0.782224  0.576223   0.228299  1.000000      0.096153   \n",
       "cov_TV-sales   -0.129791  0.333135   0.124422  0.096153      1.000000   \n",
       "var_TV         -0.078797  0.096884   0.081003 -0.146003      0.744287   \n",
       "pred_sales      1.000000  0.054809   0.056648  0.782224     -0.129791   \n",
       "error_list      0.480019  0.108212   0.084437  0.359552     -0.044700   \n",
       "skl-pred_sales  1.000000  0.054809   0.056648  0.782224     -0.129791   \n",
       "\n",
       "                  var_TV  pred_sales  error_list  skl-pred_sales  \n",
       "TV             -0.078797    1.000000    0.480019        1.000000  \n",
       "radio           0.096884    0.054809    0.108212        0.054809  \n",
       "newspaper       0.081003    0.056648    0.084437        0.056648  \n",
       "sales          -0.146003    0.782224    0.359552        0.782224  \n",
       "cov_TV-sales    0.744287   -0.129791   -0.044700       -0.129791  \n",
       "var_TV          1.000000   -0.078797    0.067464       -0.078797  \n",
       "pred_sales     -0.078797    1.000000    0.480019        1.000000  \n",
       "error_list      0.067464    0.480019    1.000000        0.480019  \n",
       "skl-pred_sales -0.078797    1.000000    0.480019        1.000000  "
      ]
     },
     "execution_count": 48,
     "metadata": {},
     "output_type": "execute_result"
    }
   ],
   "source": [
    "#using pandas, we can get a correlation matrix. Remember, a correlation is between 1 and -1\n",
    "## 1 means that it is positively correlated and moves in synchrony positively (i.e., high risk of collinearity)\n",
    "## -1 means that is negatively correlated and moves in synchrony negatively (i.e., high risk fo collinearity)\n",
    "df.corr()"
   ]
  },
  {
   "cell_type": "code",
   "execution_count": 49,
   "metadata": {
    "colab": {
     "base_uri": "https://localhost:8080/",
     "height": 347
    },
    "executionInfo": {
     "elapsed": 668,
     "status": "ok",
     "timestamp": 1611511247797,
     "user": {
      "displayName": "Bryce Peake",
      "photoUrl": "https://lh3.googleusercontent.com/a-/AOh14GgJyCQ2V_qxcbHa-k02tRyC2PYCznFAN1SI3YBT5Qw=s64",
      "userId": "05866871011354666091"
     },
     "user_tz": 300
    },
    "id": "mYULS2--jdsN",
    "outputId": "b009f609-fd85-4673-f8e1-a7ceb6670b2f"
   },
   "outputs": [
    {
     "data": {
      "text/plain": [
       "<matplotlib.axes._subplots.AxesSubplot at 0x7fd58023d710>"
      ]
     },
     "execution_count": 49,
     "metadata": {},
     "output_type": "execute_result"
    },
    {
     "data": {
      "image/png": "[encoded data removed]",
      "text/plain": [
       "<Figure size 432x288 with 2 Axes>"
      ]
     },
     "metadata": {
      "needs_background": "light"
     },
     "output_type": "display_data"
    }
   ],
   "source": [
    "#we can use a package called seaborn to easily identify correlation\n",
    "import seaborn as sns\n",
    "sns.heatmap(df.corr())"
   ]
  },
  {
   "cell_type": "markdown",
   "metadata": {
    "id": "WaOBQc6UjnNx"
   },
   "source": [
    "Above, we are looking for the variable that is most highly correlated with sales. This will be our primary X. We then want any variables that have minimal correlation with our primary X. "
   ]
  },
  {
   "cell_type": "code",
   "execution_count": 50,
   "metadata": {
    "executionInfo": {
     "elapsed": 711,
     "status": "ok",
     "timestamp": 1611514421910,
     "user": {
      "displayName": "Bryce Peake",
      "photoUrl": "https://lh3.googleusercontent.com/a-/AOh14GgJyCQ2V_qxcbHa-k02tRyC2PYCznFAN1SI3YBT5Qw=s64",
      "userId": "05866871011354666091"
     },
     "user_tz": 300
    },
    "id": "mYISkKMUgYx0"
   },
   "outputs": [],
   "source": [
    "# Declare your X and y variables\n",
    "X = df[['TV','radio','newspaper']] #we use a capital X to denote a matrix, since sklearn requires this to accomodate both simple and multiple regression\n",
    "y = df.sales"
   ]
  },
  {
   "cell_type": "code",
   "execution_count": 51,
   "metadata": {
    "executionInfo": {
     "elapsed": 269,
     "status": "ok",
     "timestamp": 1611514443925,
     "user": {
      "displayName": "Bryce Peake",
      "photoUrl": "https://lh3.googleusercontent.com/a-/AOh14GgJyCQ2V_qxcbHa-k02tRyC2PYCznFAN1SI3YBT5Qw=s64",
      "userId": "05866871011354666091"
     },
     "user_tz": 300
    },
    "id": "PYtilK4FiSi3"
   },
   "outputs": [],
   "source": [
    "# Import train-test-split from the sklearn.model_selection library\n",
    "from sklearn.model_selection import train_test_split\n",
    "\n",
    "# Use it to create X_train, X_test, y_train, y_test\n",
    "X_train, X_test, y_train, y_test = train_test_split(X, y, train_size = .7, test_size = .3 ,random_state = 42) "
   ]
  },
  {
   "cell_type": "code",
   "execution_count": 52,
   "metadata": {
    "executionInfo": {
     "elapsed": 264,
     "status": "ok",
     "timestamp": 1611510966046,
     "user": {
      "displayName": "Bryce Peake",
      "photoUrl": "https://lh3.googleusercontent.com/a-/AOh14GgJyCQ2V_qxcbHa-k02tRyC2PYCznFAN1SI3YBT5Qw=s64",
      "userId": "05866871011354666091"
     },
     "user_tz": 300
    },
    "id": "yCDtXiyNiayP"
   },
   "outputs": [
    {
     "name": "stdout",
     "output_type": "stream",
     "text": [
      "(200, 9)\n",
      "(140, 3)\n",
      "(60, 3)\n",
      "(140,)\n",
      "(60,)\n"
     ]
    }
   ],
   "source": [
    "#Check the shapes of your input X and y objects\n",
    "\n",
    "print(df.shape)\n",
    "print(X_train.shape)\n",
    "print(X_test.shape)\n",
    "print(y_train.shape)\n",
    "print(y_test.shape)"
   ]
  },
  {
   "cell_type": "code",
   "execution_count": 53,
   "metadata": {
    "colab": {
     "base_uri": "https://localhost:8080/",
     "height": 130
    },
    "executionInfo": {
     "elapsed": 256,
     "status": "error",
     "timestamp": 1611514747992,
     "user": {
      "displayName": "Bryce Peake",
      "photoUrl": "https://lh3.googleusercontent.com/a-/AOh14GgJyCQ2V_qxcbHa-k02tRyC2PYCznFAN1SI3YBT5Qw=s64",
      "userId": "05866871011354666091"
     },
     "user_tz": 300
    },
    "id": "g0B3OBolieX3",
    "outputId": "6942ff25-fd2c-4579-878c-b6fd002c956a"
   },
   "outputs": [
    {
     "name": "stdout",
     "output_type": "stream",
     "text": [
      "RMSE: 1.9485372043446385\n",
      "R2: 0.927872109087797\n"
     ]
    }
   ],
   "source": [
    "#Import\n",
    "from sklearn.linear_model import LinearRegression\n",
    "\n",
    "#instantiate\n",
    "mOLS_lr = LinearRegression()\n",
    "\n",
    "#fit\n",
    "mOLS_lr.fit(X_train, y_train)\n",
    "\n",
    "#predict\n",
    "mOLS_y_pred = mOLS_lr.predict(X_test).reshape(-1, 1)\n",
    "mOLS_y_pred\n",
    "#score\n",
    "print('RMSE: {}'.format(np.sqrt(mean_squared_error(y_test, mOLS_y_pred))))\n",
    "print('R2: {}'.format(np.sqrt(r2_score(y_test, mOLS_y_pred))))"
   ]
  },
  {
   "cell_type": "code",
   "execution_count": 54,
   "metadata": {
    "colab": {
     "base_uri": "https://localhost:8080/"
    },
    "executionInfo": {
     "elapsed": 237,
     "status": "ok",
     "timestamp": 1611514592830,
     "user": {
      "displayName": "Bryce Peake",
      "photoUrl": "https://lh3.googleusercontent.com/a-/AOh14GgJyCQ2V_qxcbHa-k02tRyC2PYCznFAN1SI3YBT5Qw=s64",
      "userId": "05866871011354666091"
     },
     "user_tz": 300
    },
    "id": "mnqrGf4Xvb9h",
    "outputId": "28d70147-2b01-4fe5-a240-842746ec0d0f"
   },
   "outputs": [
    {
     "data": {
      "text/plain": [
       "[('TV', 0.0440592809574652),\n",
       " ('radio', 0.1992874968989395),\n",
       " ('newspaper', 0.0068824522222754635)]"
      ]
     },
     "execution_count": 54,
     "metadata": {},
     "output_type": "execute_result"
    }
   ],
   "source": [
    "#Let's look at the coefficients and see how each variable impacts the prediction\n",
    "list(zip(X.columns, mOLS_lr.coef_))"
   ]
  },
  {
   "cell_type": "markdown",
   "metadata": {
    "id": "u2KqZcIywXoy"
   },
   "source": [
    "To read the above, we would say that `\"holding all things constant, a 1 unit increase in radio causes a .19 increase in sales.\"` \n",
    "\n",
    "Based on that, while it may appear that radio is the most important, this requires a different type of statistical test. You can read more about it here: `https://towardsdatascience.com/key-driver-analysis-in-python-788beb9b8a7d`"
   ]
  },
  {
   "cell_type": "code",
   "execution_count": 55,
   "metadata": {
    "executionInfo": {
     "elapsed": 576,
     "status": "ok",
     "timestamp": 1611514603255,
     "user": {
      "displayName": "Bryce Peake",
      "photoUrl": "https://lh3.googleusercontent.com/a-/AOh14GgJyCQ2V_qxcbHa-k02tRyC2PYCznFAN1SI3YBT5Qw=s64",
      "userId": "05866871011354666091"
     },
     "user_tz": 300
    },
    "id": "MZ-N9mMbijDJ"
   },
   "outputs": [],
   "source": [
    "#Create a visualization that shows how your model with multiple variables compares to your \n"
   ]
  },
  {
   "cell_type": "markdown",
   "metadata": {
    "id": "j3mlqR_rkyKC"
   },
   "source": [
    "# Comparing Models\n",
    "\n",
    "After we build multiple models, we may want to test if there's any real discernable difference statistically. One way to compare how well different models perform is by measuring the error and R2. But this only tells us so much about a model, especially if the training data distribution is not normal.\n",
    "\n",
    "Another approach is the non-Parametric version of a t-Test: The Wilcoxon signed-rank test. Using k-fold cross-validation we can create, for each model, k accuracy scores. This will result in two samples, one for each model. Then, we can use the Wilcoxon signed-rank test to test if the two samples differ significantly from each other. If they do, then one is more accurate than the other.\n",
    "\n",
    "Cross validation builds off of train-test split in order to more accurately learn the right beta-coefficients for our linear regression. \n",
    "\n",
    "<p><img src=\"https://scikit-learn.org/stable/_images/grid_search_cross_validation.png\" align=\"Center\" hspace=\"10px\" vspace=\"0px\"></p>\n",
    "\n",
    "A Wilcoxon signed-rank test will then return a p-value that helps us decide if our models are significantly different, allowing us to pick a model both on its hard performance on data and comparison between the two. \n",
    "\n",
    "![Wilcox.png](data:image/png;base64,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)\n",
    "\n",
    "The output is a p-value. If the value is lower than .05, we can reject the null hypothesis that there are no significant differences between the model. \n",
    "\n"
   ]
  },
  {
   "cell_type": "code",
   "execution_count": 56,
   "metadata": {
    "executionInfo": {
     "elapsed": 260,
     "status": "ok",
     "timestamp": 1611512327913,
     "user": {
      "displayName": "Bryce Peake",
      "photoUrl": "https://lh3.googleusercontent.com/a-/AOh14GgJyCQ2V_qxcbHa-k02tRyC2PYCznFAN1SI3YBT5Qw=s64",
      "userId": "05866871011354666091"
     },
     "user_tz": 300
    },
    "id": "-wLzdIq0mgpV"
   },
   "outputs": [],
   "source": [
    "#Set up our X and y for each respective model\n",
    "X_1 = df[['TV']] #X from sOLS_lr\n",
    "X_2 = df[['TV', 'newspaper', 'radio']] #replace with whichever features you used in your mOLS_lr above!\n",
    "y = df.sales\n",
    "\n",
    "# Import train-test-split from the sklearn.model_selection library\n",
    "from sklearn.model_selection import train_test_split\n",
    "\n",
    "# Use it to create X_train, X_test, y_train, y_test\n",
    "X_train, X_test, y_train, y_test = train_test_split(X_1, y, train_size = .7, test_size = .3 ,random_state = 42) \n"
   ]
  },
  {
   "cell_type": "code",
   "execution_count": 62,
   "metadata": {
    "executionInfo": {
     "elapsed": 410,
     "status": "ok",
     "timestamp": 1611512331541,
     "user": {
      "displayName": "Bryce Peake",
      "photoUrl": "https://lh3.googleusercontent.com/a-/AOh14GgJyCQ2V_qxcbHa-k02tRyC2PYCznFAN1SI3YBT5Qw=s64",
      "userId": "05866871011354666091"
     },
     "user_tz": 300
    },
    "id": "RwnsrzyEkx9Y"
   },
   "outputs": [],
   "source": [
    "from sklearn.model_selection import KFold, cross_val_score\n",
    "\n",
    "#Set up the splits for the cross val score\n",
    "kf = KFold(n_splits = 10, shuffle = True, random_state = 25) #important to keep the same split, hence the random_state!\n",
    "\n",
    "#extract the results from each model on the same split\n",
    "results_test_1 = cross_val_score(sOLS_lr, X_1, y, cv = kf, scoring = 'neg_mean_squared_error')\n",
    "results_test_2 = cross_val_score(mOLS_lr, X_2, y, cv = kf, scoring = 'neg_mean_squared_error')"
   ]
  },
  {
   "cell_type": "code",
   "execution_count": 59,
   "metadata": {
    "executionInfo": {
     "elapsed": 297,
     "status": "ok",
     "timestamp": 1611513370728,
     "user": {
      "displayName": "Bryce Peake",
      "photoUrl": "https://lh3.googleusercontent.com/a-/AOh14GgJyCQ2V_qxcbHa-k02tRyC2PYCznFAN1SI3YBT5Qw=s64",
      "userId": "05866871011354666091"
     },
     "user_tz": 300
    },
    "id": "DD07QYawra0-"
   },
   "outputs": [],
   "source": [
    "import numpy as np\n"
   ]
  },
  {
   "cell_type": "code",
   "execution_count": 60,
   "metadata": {
    "colab": {
     "base_uri": "https://localhost:8080/"
    },
    "executionInfo": {
     "elapsed": 260,
     "status": "ok",
     "timestamp": 1611513410740,
     "user": {
      "displayName": "Bryce Peake",
      "photoUrl": "https://lh3.googleusercontent.com/a-/AOh14GgJyCQ2V_qxcbHa-k02tRyC2PYCznFAN1SI3YBT5Qw=s64",
      "userId": "05866871011354666091"
     },
     "user_tz": 300
    },
    "id": "zWmsGR2KnvXd",
    "outputId": "6045b154-4dbe-408f-a6ca-1ffd589ee180"
   },
   "outputs": [
    {
     "name": "stdout",
     "output_type": "stream",
     "text": [
      "[-14.93244051 -11.36944906  -8.33915996  -9.23586262 -11.43553742\n",
      "  -8.10852687 -13.69651156  -6.99174008 -12.27120157 -12.15222941]\n",
      "average RMSE: 3.294429526471048\n",
      "\n",
      "\n",
      "[-4.31044218 -2.24728807 -1.99180844 -2.33684754 -2.37067841 -1.61834921\n",
      " -2.18803352 -8.40038661 -2.63166034 -2.68760799]\n",
      "average RMSE: 1.7545113937389885\n"
     ]
    }
   ],
   "source": [
    "#examine the average error from both models\n",
    "print(results_test_1)\n",
    "print('average RMSE: {}'.format(np.sqrt(np.abs(results_test_1.mean()))))\n",
    "print('\\n')\n",
    "print(results_test_2)\n",
    "print('average RMSE: {}'.format(np.sqrt(np.abs(results_test_2.mean()))))"
   ]
  },
  {
   "cell_type": "markdown",
   "metadata": {
    "id": "IgCt0YQWo3wh"
   },
   "source": [
    "We will now use the wilcoxon rank to test the null hypothesis. The _Wilcoxon signed-rank test_ is a non-parametric statistical hypothesis test used to compare two related samples, matched samples, or repeated measurements (as in this case) on a single sample to assess whether their population mean ranks differ (i.e. it is a paired difference test). It is non-parametric becuase we assume that the population does not have a normal distribution. \n",
    "\n",
    "\n",
    "\n",
    "In this situation.\n",
    "\n",
    "\n",
    "- $H_a$: There is a difference in how these models calculate sales (indicates need for 2-sided) - the median difference != 0\n",
    "- $H_0$: There is no discernable difference in these models - the median difference = 0. "
   ]
  },
  {
   "cell_type": "code",
   "execution_count": 61,
   "metadata": {
    "colab": {
     "base_uri": "https://localhost:8080/"
    },
    "executionInfo": {
     "elapsed": 267,
     "status": "ok",
     "timestamp": 1611513852030,
     "user": {
      "displayName": "Bryce Peake",
      "photoUrl": "https://lh3.googleusercontent.com/a-/AOh14GgJyCQ2V_qxcbHa-k02tRyC2PYCznFAN1SI3YBT5Qw=s64",
      "userId": "05866871011354666091"
     },
     "user_tz": 300
    },
    "id": "Pe97X3kWkwyq",
    "outputId": "22e1649a-b5c0-4662-8e7c-cc469527c5b0"
   },
   "outputs": [
    {
     "name": "stdout",
     "output_type": "stream",
     "text": [
      "p-value is: 0.0069104298078147995\n"
     ]
    }
   ],
   "source": [
    "# Comparing Models\n",
    "from scipy.stats import wilcoxon #documentation: https://docs.scipy.org/doc/scipy/reference/generated/scipy.stats.wilcoxon.html\n",
    "stat, p = wilcoxon(results_test_1, results_test_2, zero_method = 'zsplit')\n",
    "print('p-value is: {}'.format(p))"
   ]
  },
  {
   "cell_type": "markdown",
   "metadata": {
    "id": "OXcKV94ipdQ0"
   },
   "source": [
    "We would reject the null hypothesis at a confidence level of < 1%, concluding that there is a difference in how well these models predict sales. \n",
    "\n",
    "Comparing the RMSE and R2 between the models, we would select the model with the lowest RMSE and an R2 accepted within a set standard (between .75 and .89 in this case). \n",
    "\n",
    "Given that model two has a lower RMSE, but does not meet our variance standard, we would need to decide the level of risk and weigh whether or not to accept this model into production. \n",
    "\n",
    "In conclusion, we can go back to ad sales and say \"We have built a model that is able to predict sales with an error of around 2.4 units per prediction unit. Our calculations suggest that it is only able to account for ~60% of the change in sales when TV, radio, and newspaper ad count changes.\" "
   ]
  },
  {
   "cell_type": "markdown",
   "metadata": {
    "id": "RxKluUaDuhP_"
   },
   "source": [
    "# Your turn - a single exercise!\n",
    "\n",
    "The business has asked you to to analyze some housing data, in order to guide future renovations. \"We'd like a tool that allows us to input the features of a house and its environment, and get it's value in return.\" \n",
    "\n",
    "I capture the data for you below. Be sure to go through the process: \n",
    "\n",
    "1. Test the assumptions of an OLS\n",
    "2. Identify the best features, with at least 2 models\n",
    "3. Measure the performance of those models, and visualize\n",
    "4. Compare your models and choose the best one\n",
    "5. Answer the final question"
   ]
  },
  {
   "cell_type": "code",
   "execution_count": 64,
   "metadata": {
    "colab": {
     "base_uri": "https://localhost:8080/",
     "height": 204
    },
    "executionInfo": {
     "elapsed": 270,
     "status": "ok",
     "timestamp": 1611515361474,
     "user": {
      "displayName": "Bryce Peake",
      "photoUrl": "https://lh3.googleusercontent.com/a-/AOh14GgJyCQ2V_qxcbHa-k02tRyC2PYCznFAN1SI3YBT5Qw=s64",
      "userId": "05866871011354666091"
     },
     "user_tz": 300
    },
    "id": "fS8DJfI1yPU2",
    "outputId": "b8979ddc-00fd-4fcd-9466-2c46af5526f3"
   },
   "outputs": [
    {
     "data": {
      "text/html": [
       "<div>\n",
       "<style scoped>\n",
       "    .dataframe tbody tr th:only-of-type {\n",
       "        vertical-align: middle;\n",
       "    }\n",
       "\n",
       "    .dataframe tbody tr th {\n",
       "        vertical-align: top;\n",
       "    }\n",
       "\n",
       "    .dataframe thead th {\n",
       "        text-align: right;\n",
       "    }\n",
       "</style>\n",
       "<table border=\"1\" class=\"dataframe\">\n",
       "  <thead>\n",
       "    <tr style=\"text-align: right;\">\n",
       "      <th></th>\n",
       "      <th>CRIM</th>\n",
       "      <th>ZN</th>\n",
       "      <th>INDUS</th>\n",
       "      <th>CHAS</th>\n",
       "      <th>NOX</th>\n",
       "      <th>RM</th>\n",
       "      <th>AGE</th>\n",
       "      <th>DIS</th>\n",
       "      <th>RAD</th>\n",
       "      <th>TAX</th>\n",
       "      <th>PTRATIO</th>\n",
       "      <th>B</th>\n",
       "      <th>LSTAT</th>\n",
       "      <th>MEDV</th>\n",
       "    </tr>\n",
       "  </thead>\n",
       "  <tbody>\n",
       "    <tr>\n",
       "      <th>0</th>\n",
       "      <td>0.00632</td>\n",
       "      <td>18.0</td>\n",
       "      <td>2.31</td>\n",
       "      <td>0.0</td>\n",
       "      <td>0.538</td>\n",
       "      <td>6.575</td>\n",
       "      <td>65.2</td>\n",
       "      <td>4.0900</td>\n",
       "      <td>1.0</td>\n",
       "      <td>296.0</td>\n",
       "      <td>15.3</td>\n",
       "      <td>396.90</td>\n",
       "      <td>4.98</td>\n",
       "      <td>24.0</td>\n",
       "    </tr>\n",
       "    <tr>\n",
       "      <th>1</th>\n",
       "      <td>0.02731</td>\n",
       "      <td>0.0</td>\n",
       "      <td>7.07</td>\n",
       "      <td>0.0</td>\n",
       "      <td>0.469</td>\n",
       "      <td>6.421</td>\n",
       "      <td>78.9</td>\n",
       "      <td>4.9671</td>\n",
       "      <td>2.0</td>\n",
       "      <td>242.0</td>\n",
       "      <td>17.8</td>\n",
       "      <td>396.90</td>\n",
       "      <td>9.14</td>\n",
       "      <td>21.6</td>\n",
       "    </tr>\n",
       "    <tr>\n",
       "      <th>2</th>\n",
       "      <td>0.02729</td>\n",
       "      <td>0.0</td>\n",
       "      <td>7.07</td>\n",
       "      <td>0.0</td>\n",
       "      <td>0.469</td>\n",
       "      <td>7.185</td>\n",
       "      <td>61.1</td>\n",
       "      <td>4.9671</td>\n",
       "      <td>2.0</td>\n",
       "      <td>242.0</td>\n",
       "      <td>17.8</td>\n",
       "      <td>392.83</td>\n",
       "      <td>4.03</td>\n",
       "      <td>34.7</td>\n",
       "    </tr>\n",
       "    <tr>\n",
       "      <th>3</th>\n",
       "      <td>0.03237</td>\n",
       "      <td>0.0</td>\n",
       "      <td>2.18</td>\n",
       "      <td>0.0</td>\n",
       "      <td>0.458</td>\n",
       "      <td>6.998</td>\n",
       "      <td>45.8</td>\n",
       "      <td>6.0622</td>\n",
       "      <td>3.0</td>\n",
       "      <td>222.0</td>\n",
       "      <td>18.7</td>\n",
       "      <td>394.63</td>\n",
       "      <td>2.94</td>\n",
       "      <td>33.4</td>\n",
       "    </tr>\n",
       "    <tr>\n",
       "      <th>4</th>\n",
       "      <td>0.06905</td>\n",
       "      <td>0.0</td>\n",
       "      <td>2.18</td>\n",
       "      <td>0.0</td>\n",
       "      <td>0.458</td>\n",
       "      <td>7.147</td>\n",
       "      <td>54.2</td>\n",
       "      <td>6.0622</td>\n",
       "      <td>3.0</td>\n",
       "      <td>222.0</td>\n",
       "      <td>18.7</td>\n",
       "      <td>396.90</td>\n",
       "      <td>5.33</td>\n",
       "      <td>36.2</td>\n",
       "    </tr>\n",
       "  </tbody>\n",
       "</table>\n",
       "</div>"
      ],
      "text/plain": [
       "      CRIM    ZN  INDUS  CHAS    NOX     RM   AGE     DIS  RAD    TAX  \\\n",
       "0  0.00632  18.0   2.31   0.0  0.538  6.575  65.2  4.0900  1.0  296.0   \n",
       "1  0.02731   0.0   7.07   0.0  0.469  6.421  78.9  4.9671  2.0  242.0   \n",
       "2  0.02729   0.0   7.07   0.0  0.469  7.185  61.1  4.9671  2.0  242.0   \n",
       "3  0.03237   0.0   2.18   0.0  0.458  6.998  45.8  6.0622  3.0  222.0   \n",
       "4  0.06905   0.0   2.18   0.0  0.458  7.147  54.2  6.0622  3.0  222.0   \n",
       "\n",
       "   PTRATIO       B  LSTAT  MEDV  \n",
       "0     15.3  396.90   4.98  24.0  \n",
       "1     17.8  396.90   9.14  21.6  \n",
       "2     17.8  392.83   4.03  34.7  \n",
       "3     18.7  394.63   2.94  33.4  \n",
       "4     18.7  396.90   5.33  36.2  "
      ]
     },
     "execution_count": 64,
     "metadata": {},
     "output_type": "execute_result"
    }
   ],
   "source": [
    "#Data is here. For dictionary of the columns, see: https://www.cs.toronto.edu/~delve/data/boston/bostonDetail.html\n",
    "from sklearn.datasets import load_boston\n",
    "data = load_boston()\n",
    "housing = pd.DataFrame(data.data, columns = data.feature_names)\n",
    "housing['MEDV'] = data.target #Median value of owner-occupied homes in $1000's\n",
    "housing.head() "
   ]
  },
  {
   "cell_type": "code",
   "execution_count": 86,
   "metadata": {},
   "outputs": [
    {
     "data": {
      "text/plain": [
       "(506, 14)"
      ]
     },
     "execution_count": 86,
     "metadata": {},
     "output_type": "execute_result"
    }
   ],
   "source": [
    "housing.shape"
   ]
  },
  {
   "cell_type": "code",
   "execution_count": 106,
   "metadata": {
    "id": "46YrwwQZyPR5",
    "scrolled": true
   },
   "outputs": [
    {
     "data": {
      "text/html": [
       "<div>\n",
       "<style scoped>\n",
       "    .dataframe tbody tr th:only-of-type {\n",
       "        vertical-align: middle;\n",
       "    }\n",
       "\n",
       "    .dataframe tbody tr th {\n",
       "        vertical-align: top;\n",
       "    }\n",
       "\n",
       "    .dataframe thead th {\n",
       "        text-align: right;\n",
       "    }\n",
       "</style>\n",
       "<table border=\"1\" class=\"dataframe\">\n",
       "  <thead>\n",
       "    <tr style=\"text-align: right;\">\n",
       "      <th></th>\n",
       "      <th>CRIM</th>\n",
       "      <th>ZN</th>\n",
       "      <th>INDUS</th>\n",
       "      <th>CHAS</th>\n",
       "      <th>NOX</th>\n",
       "      <th>RM</th>\n",
       "      <th>AGE</th>\n",
       "      <th>DIS</th>\n",
       "      <th>RAD</th>\n",
       "      <th>TAX</th>\n",
       "      <th>PTRATIO</th>\n",
       "      <th>B</th>\n",
       "      <th>LSTAT</th>\n",
       "      <th>MEDV</th>\n",
       "    </tr>\n",
       "  </thead>\n",
       "  <tbody>\n",
       "    <tr>\n",
       "      <th>CRIM</th>\n",
       "      <td>1.000000</td>\n",
       "      <td>-0.200469</td>\n",
       "      <td>0.406583</td>\n",
       "      <td>-0.055892</td>\n",
       "      <td>0.420972</td>\n",
       "      <td>-0.219247</td>\n",
       "      <td>0.352734</td>\n",
       "      <td>-0.379670</td>\n",
       "      <td>0.625505</td>\n",
       "      <td>0.582764</td>\n",
       "      <td>0.289946</td>\n",
       "      <td>-0.385064</td>\n",
       "      <td>0.455621</td>\n",
       "      <td>-0.388305</td>\n",
       "    </tr>\n",
       "    <tr>\n",
       "      <th>ZN</th>\n",
       "      <td>-0.200469</td>\n",
       "      <td>1.000000</td>\n",
       "      <td>-0.533828</td>\n",
       "      <td>-0.042697</td>\n",
       "      <td>-0.516604</td>\n",
       "      <td>0.311991</td>\n",
       "      <td>-0.569537</td>\n",
       "      <td>0.664408</td>\n",
       "      <td>-0.311948</td>\n",
       "      <td>-0.314563</td>\n",
       "      <td>-0.391679</td>\n",
       "      <td>0.175520</td>\n",
       "      <td>-0.412995</td>\n",
       "      <td>0.360445</td>\n",
       "    </tr>\n",
       "    <tr>\n",
       "      <th>INDUS</th>\n",
       "      <td>0.406583</td>\n",
       "      <td>-0.533828</td>\n",
       "      <td>1.000000</td>\n",
       "      <td>0.062938</td>\n",
       "      <td>0.763651</td>\n",
       "      <td>-0.391676</td>\n",
       "      <td>0.644779</td>\n",
       "      <td>-0.708027</td>\n",
       "      <td>0.595129</td>\n",
       "      <td>0.720760</td>\n",
       "      <td>0.383248</td>\n",
       "      <td>-0.356977</td>\n",
       "      <td>0.603800</td>\n",
       "      <td>-0.483725</td>\n",
       "    </tr>\n",
       "    <tr>\n",
       "      <th>CHAS</th>\n",
       "      <td>-0.055892</td>\n",
       "      <td>-0.042697</td>\n",
       "      <td>0.062938</td>\n",
       "      <td>1.000000</td>\n",
       "      <td>0.091203</td>\n",
       "      <td>0.091251</td>\n",
       "      <td>0.086518</td>\n",
       "      <td>-0.099176</td>\n",
       "      <td>-0.007368</td>\n",
       "      <td>-0.035587</td>\n",
       "      <td>-0.121515</td>\n",
       "      <td>0.048788</td>\n",
       "      <td>-0.053929</td>\n",
       "      <td>0.175260</td>\n",
       "    </tr>\n",
       "    <tr>\n",
       "      <th>NOX</th>\n",
       "      <td>0.420972</td>\n",
       "      <td>-0.516604</td>\n",
       "      <td>0.763651</td>\n",
       "      <td>0.091203</td>\n",
       "      <td>1.000000</td>\n",
       "      <td>-0.302188</td>\n",
       "      <td>0.731470</td>\n",
       "      <td>-0.769230</td>\n",
       "      <td>0.611441</td>\n",
       "      <td>0.668023</td>\n",
       "      <td>0.188933</td>\n",
       "      <td>-0.380051</td>\n",
       "      <td>0.590879</td>\n",
       "      <td>-0.427321</td>\n",
       "    </tr>\n",
       "    <tr>\n",
       "      <th>RM</th>\n",
       "      <td>-0.219247</td>\n",
       "      <td>0.311991</td>\n",
       "      <td>-0.391676</td>\n",
       "      <td>0.091251</td>\n",
       "      <td>-0.302188</td>\n",
       "      <td>1.000000</td>\n",
       "      <td>-0.240265</td>\n",
       "      <td>0.205246</td>\n",
       "      <td>-0.209847</td>\n",
       "      <td>-0.292048</td>\n",
       "      <td>-0.355501</td>\n",
       "      <td>0.128069</td>\n",
       "      <td>-0.613808</td>\n",
       "      <td>0.695360</td>\n",
       "    </tr>\n",
       "    <tr>\n",
       "      <th>AGE</th>\n",
       "      <td>0.352734</td>\n",
       "      <td>-0.569537</td>\n",
       "      <td>0.644779</td>\n",
       "      <td>0.086518</td>\n",
       "      <td>0.731470</td>\n",
       "      <td>-0.240265</td>\n",
       "      <td>1.000000</td>\n",
       "      <td>-0.747881</td>\n",
       "      <td>0.456022</td>\n",
       "      <td>0.506456</td>\n",
       "      <td>0.261515</td>\n",
       "      <td>-0.273534</td>\n",
       "      <td>0.602339</td>\n",
       "      <td>-0.376955</td>\n",
       "    </tr>\n",
       "    <tr>\n",
       "      <th>DIS</th>\n",
       "      <td>-0.379670</td>\n",
       "      <td>0.664408</td>\n",
       "      <td>-0.708027</td>\n",
       "      <td>-0.099176</td>\n",
       "      <td>-0.769230</td>\n",
       "      <td>0.205246</td>\n",
       "      <td>-0.747881</td>\n",
       "      <td>1.000000</td>\n",
       "      <td>-0.494588</td>\n",
       "      <td>-0.534432</td>\n",
       "      <td>-0.232471</td>\n",
       "      <td>0.291512</td>\n",
       "      <td>-0.496996</td>\n",
       "      <td>0.249929</td>\n",
       "    </tr>\n",
       "    <tr>\n",
       "      <th>RAD</th>\n",
       "      <td>0.625505</td>\n",
       "      <td>-0.311948</td>\n",
       "      <td>0.595129</td>\n",
       "      <td>-0.007368</td>\n",
       "      <td>0.611441</td>\n",
       "      <td>-0.209847</td>\n",
       "      <td>0.456022</td>\n",
       "      <td>-0.494588</td>\n",
       "      <td>1.000000</td>\n",
       "      <td>0.910228</td>\n",
       "      <td>0.464741</td>\n",
       "      <td>-0.444413</td>\n",
       "      <td>0.488676</td>\n",
       "      <td>-0.381626</td>\n",
       "    </tr>\n",
       "    <tr>\n",
       "      <th>TAX</th>\n",
       "      <td>0.582764</td>\n",
       "      <td>-0.314563</td>\n",
       "      <td>0.720760</td>\n",
       "      <td>-0.035587</td>\n",
       "      <td>0.668023</td>\n",
       "      <td>-0.292048</td>\n",
       "      <td>0.506456</td>\n",
       "      <td>-0.534432</td>\n",
       "      <td>0.910228</td>\n",
       "      <td>1.000000</td>\n",
       "      <td>0.460853</td>\n",
       "      <td>-0.441808</td>\n",
       "      <td>0.543993</td>\n",
       "      <td>-0.468536</td>\n",
       "    </tr>\n",
       "    <tr>\n",
       "      <th>PTRATIO</th>\n",
       "      <td>0.289946</td>\n",
       "      <td>-0.391679</td>\n",
       "      <td>0.383248</td>\n",
       "      <td>-0.121515</td>\n",
       "      <td>0.188933</td>\n",
       "      <td>-0.355501</td>\n",
       "      <td>0.261515</td>\n",
       "      <td>-0.232471</td>\n",
       "      <td>0.464741</td>\n",
       "      <td>0.460853</td>\n",
       "      <td>1.000000</td>\n",
       "      <td>-0.177383</td>\n",
       "      <td>0.374044</td>\n",
       "      <td>-0.507787</td>\n",
       "    </tr>\n",
       "    <tr>\n",
       "      <th>B</th>\n",
       "      <td>-0.385064</td>\n",
       "      <td>0.175520</td>\n",
       "      <td>-0.356977</td>\n",
       "      <td>0.048788</td>\n",
       "      <td>-0.380051</td>\n",
       "      <td>0.128069</td>\n",
       "      <td>-0.273534</td>\n",
       "      <td>0.291512</td>\n",
       "      <td>-0.444413</td>\n",
       "      <td>-0.441808</td>\n",
       "      <td>-0.177383</td>\n",
       "      <td>1.000000</td>\n",
       "      <td>-0.366087</td>\n",
       "      <td>0.333461</td>\n",
       "    </tr>\n",
       "    <tr>\n",
       "      <th>LSTAT</th>\n",
       "      <td>0.455621</td>\n",
       "      <td>-0.412995</td>\n",
       "      <td>0.603800</td>\n",
       "      <td>-0.053929</td>\n",
       "      <td>0.590879</td>\n",
       "      <td>-0.613808</td>\n",
       "      <td>0.602339</td>\n",
       "      <td>-0.496996</td>\n",
       "      <td>0.488676</td>\n",
       "      <td>0.543993</td>\n",
       "      <td>0.374044</td>\n",
       "      <td>-0.366087</td>\n",
       "      <td>1.000000</td>\n",
       "      <td>-0.737663</td>\n",
       "    </tr>\n",
       "    <tr>\n",
       "      <th>MEDV</th>\n",
       "      <td>-0.388305</td>\n",
       "      <td>0.360445</td>\n",
       "      <td>-0.483725</td>\n",
       "      <td>0.175260</td>\n",
       "      <td>-0.427321</td>\n",
       "      <td>0.695360</td>\n",
       "      <td>-0.376955</td>\n",
       "      <td>0.249929</td>\n",
       "      <td>-0.381626</td>\n",
       "      <td>-0.468536</td>\n",
       "      <td>-0.507787</td>\n",
       "      <td>0.333461</td>\n",
       "      <td>-0.737663</td>\n",
       "      <td>1.000000</td>\n",
       "    </tr>\n",
       "  </tbody>\n",
       "</table>\n",
       "</div>"
      ],
      "text/plain": [
       "             CRIM        ZN     INDUS      CHAS       NOX        RM       AGE  \\\n",
       "CRIM     1.000000 -0.200469  0.406583 -0.055892  0.420972 -0.219247  0.352734   \n",
       "ZN      -0.200469  1.000000 -0.533828 -0.042697 -0.516604  0.311991 -0.569537   \n",
       "INDUS    0.406583 -0.533828  1.000000  0.062938  0.763651 -0.391676  0.644779   \n",
       "CHAS    -0.055892 -0.042697  0.062938  1.000000  0.091203  0.091251  0.086518   \n",
       "NOX      0.420972 -0.516604  0.763651  0.091203  1.000000 -0.302188  0.731470   \n",
       "RM      -0.219247  0.311991 -0.391676  0.091251 -0.302188  1.000000 -0.240265   \n",
       "AGE      0.352734 -0.569537  0.644779  0.086518  0.731470 -0.240265  1.000000   \n",
       "DIS     -0.379670  0.664408 -0.708027 -0.099176 -0.769230  0.205246 -0.747881   \n",
       "RAD      0.625505 -0.311948  0.595129 -0.007368  0.611441 -0.209847  0.456022   \n",
       "TAX      0.582764 -0.314563  0.720760 -0.035587  0.668023 -0.292048  0.506456   \n",
       "PTRATIO  0.289946 -0.391679  0.383248 -0.121515  0.188933 -0.355501  0.261515   \n",
       "B       -0.385064  0.175520 -0.356977  0.048788 -0.380051  0.128069 -0.273534   \n",
       "LSTAT    0.455621 -0.412995  0.603800 -0.053929  0.590879 -0.613808  0.602339   \n",
       "MEDV    -0.388305  0.360445 -0.483725  0.175260 -0.427321  0.695360 -0.376955   \n",
       "\n",
       "              DIS       RAD       TAX   PTRATIO         B     LSTAT      MEDV  \n",
       "CRIM    -0.379670  0.625505  0.582764  0.289946 -0.385064  0.455621 -0.388305  \n",
       "ZN       0.664408 -0.311948 -0.314563 -0.391679  0.175520 -0.412995  0.360445  \n",
       "INDUS   -0.708027  0.595129  0.720760  0.383248 -0.356977  0.603800 -0.483725  \n",
       "CHAS    -0.099176 -0.007368 -0.035587 -0.121515  0.048788 -0.053929  0.175260  \n",
       "NOX     -0.769230  0.611441  0.668023  0.188933 -0.380051  0.590879 -0.427321  \n",
       "RM       0.205246 -0.209847 -0.292048 -0.355501  0.128069 -0.613808  0.695360  \n",
       "AGE     -0.747881  0.456022  0.506456  0.261515 -0.273534  0.602339 -0.376955  \n",
       "DIS      1.000000 -0.494588 -0.534432 -0.232471  0.291512 -0.496996  0.249929  \n",
       "RAD     -0.494588  1.000000  0.910228  0.464741 -0.444413  0.488676 -0.381626  \n",
       "TAX     -0.534432  0.910228  1.000000  0.460853 -0.441808  0.543993 -0.468536  \n",
       "PTRATIO -0.232471  0.464741  0.460853  1.000000 -0.177383  0.374044 -0.507787  \n",
       "B        0.291512 -0.444413 -0.441808 -0.177383  1.000000 -0.366087  0.333461  \n",
       "LSTAT   -0.496996  0.488676  0.543993  0.374044 -0.366087  1.000000 -0.737663  \n",
       "MEDV     0.249929 -0.381626 -0.468536 -0.507787  0.333461 -0.737663  1.000000  "
      ]
     },
     "execution_count": 106,
     "metadata": {},
     "output_type": "execute_result"
    }
   ],
   "source": [
    "#some cells to get you started with EDA. Add more below\n",
    "# get correlation matrix\n",
    "housing.corr()\n",
    "# looking at the correlation matrix, LSTAT has the highest correlation with MEDV (-0.74)\n",
    "# so, we should be able to create sOLS_lr using LSTAT\n",
    "# also, for multiple OLS, we should consider LSTAT (-0.74), RM(0.69),PTRATIO(-0.51),INDUS(-0.48), and TAX(-0.47)"
   ]
  },
  {
   "cell_type": "code",
   "execution_count": 105,
   "metadata": {},
   "outputs": [
    {
     "data": {
      "text/plain": [
       "<matplotlib.axes._subplots.AxesSubplot at 0x7fd5e13cb1d0>"
      ]
     },
     "execution_count": 105,
     "metadata": {},
     "output_type": "execute_result"
    },
    {
     "data": {
      "image/png": "[encoded data removed]",
      "text/plain": [
       "<Figure size 432x288 with 2 Axes>"
      ]
     },
     "metadata": {
      "needs_background": "light"
     },
     "output_type": "display_data"
    }
   ],
   "source": [
    "#we can use a package called seaborn to easily identify correlation\n",
    "import seaborn as sns\n",
    "sns.heatmap(housing.corr(),annot=True)"
   ]
  },
  {
   "cell_type": "code",
   "execution_count": 116,
   "metadata": {
    "id": "gyX8QfibyPPG"
   },
   "outputs": [
    {
     "name": "stdout",
     "output_type": "stream",
     "text": [
      "RMSE value for the simple linear regression model is 5.789606996393182\n",
      "R2 value for the simple linear regression model using LSTAT is 0.30957491370349577\n"
     ]
    }
   ],
   "source": [
    "#create a linear regression called lr. \n",
    "#Set up our X and y for each respective model\n",
    "# simple OLS\n",
    "X1 = housing[['LSTAT']] \n",
    "y = housing.MEDV\n",
    "from sklearn.model_selection import train_test_split\n",
    "X1_train, X1_test, y1_train, y1_test = train_test_split(X1, y, train_size = .8, test_size = .2 ,random_state = 42) \n",
    "# import\n",
    "from sklearn.linear_model import LinearRegression\n",
    "# instantiate\n",
    "sOLS_lr = LinearRegression()\n",
    "# fit\n",
    "sOLS_lr.fit(X1_train,y1_train)\n",
    "sOLS_pred = sOLS_lr.predict(X1_test).reshape(-1,1)\n",
    "# evaluate\n",
    "from sklearn.metrics import r2_score,mean_squared_error\n",
    "print('RMSE value for the simple linear regression model is {}'.format(np.sqrt(mean_squared_error(sOLS_pred,y1_test))))\n",
    "print('R2 value for the simple linear regression model using LSTAT is {}'.format(r2_score(sOLS_pred,y1_test)))"
   ]
  },
  {
   "cell_type": "code",
   "execution_count": 93,
   "metadata": {},
   "outputs": [
    {
     "data": {
      "image/png": "[encoded data removed]",
      "text/plain": [
       "<Figure size 432x288 with 1 Axes>"
      ]
     },
     "metadata": {
      "needs_background": "light"
     },
     "output_type": "display_data"
    }
   ],
   "source": [
    "plt.plot(X1_test, y1_test, 'ro') #this is our actuals, represented as rED o'S (hence ro)\n",
    "plt.plot(X1_test, sOLS_pred) #this is our linear regression\n",
    "plt.title('Actual vs. predicted')\n",
    "plt.xlabel('LSTAT')\n",
    "plt.ylabel('MEDV in $1000s');"
   ]
  },
  {
   "cell_type": "code",
   "execution_count": 119,
   "metadata": {},
   "outputs": [
    {
     "name": "stdout",
     "output_type": "stream",
     "text": [
      "RMSE value for the multiple linear regression model is 5.589569804715174\n",
      "R2 value for the multiple linear regression model is 0.42141820694180177\n",
      "[('LSTAT', -0.6324985627075874), ('RM', 5.465098773075864)]\n"
     ]
    }
   ],
   "source": [
    "# multiple regression analysis using LSTAT and CHAS\n",
    "# multiple OLS\n",
    "#X2 = housing[['LSTAT','INDUS','RM','PTRATIO','INDUS','TAX']] \n",
    "X2 = housing[['LSTAT','RM']] \n",
    "from sklearn.model_selection import train_test_split\n",
    "X2_train, X2_test, y2_train, y2_test = train_test_split(X2, y, train_size = .8, test_size = .2 ,random_state = 42) \n",
    "# import\n",
    "from sklearn.linear_model import LinearRegression\n",
    "# instantiate\n",
    "mOLS_lr = LinearRegression()\n",
    "# fit\n",
    "mOLS_lr.fit(X2_train,y2_train)\n",
    "mOLS_pred = mOLS_lr.predict(X2_test).reshape(-1,1)\n",
    "# evaluate\n",
    "from sklearn.metrics import r2_score,mean_squared_error\n",
    "print('RMSE value for the multiple linear regression model is {}'.format(np.sqrt(mean_squared_error(mOLS_pred,y2_test))))\n",
    "print('R2 value for the multiple linear regression model is {}'.format(r2_score(mOLS_pred,y2_test)))\n",
    "# coefficients\n",
    "print(list(zip(X2.columns,mOLS_lr.coef_)))"
   ]
  },
  {
   "cell_type": "code",
   "execution_count": 120,
   "metadata": {},
   "outputs": [
    {
     "name": "stdout",
     "output_type": "stream",
     "text": [
      "3.0\n",
      "0.012515318690073973\n",
      "[-27.53418829 -39.3165885  -45.18959535 -39.5644993  -39.59637565\n",
      " -35.67749876 -44.21685186 -40.44369163 -34.16991217 -42.10125745]\n"
     ]
    }
   ],
   "source": [
    "# cross validation comparing sOLS and mOLS\n",
    "from sklearn.model_selection import KFold, cross_val_score\n",
    "kf = KFold(n_splits=10,shuffle=True,random_state=42)\n",
    "result1 = cross_val_score(sOLS_lr,X1,y,cv=kf,scoring='neg_mean_squared_error')\n",
    "result2 = cross_val_score(mOLS_lr,X2,y,cv=kf,scoring='neg_mean_squared_error')\n",
    "from scipy.stats import wilcoxon\n",
    "stat,p = wilcoxon(result1,result2,zero_method = 'zsplit')\n",
    "print(stat)\n",
    "print(p)\n",
    "print(result1)"
   ]
  },
  {
   "cell_type": "markdown",
   "metadata": {
    "id": "uQ9b5kd6y4Ta"
   },
   "source": [
    "__Final Question__:\n",
    "\n",
    "We have a house with the following stats: \n",
    "\n",
    "- Crim: .02731\n",
    "- Indus: 12\n",
    "- Chas: 1\n",
    "- Rooms: 4\n",
    "- Age: 34\n",
    "- PT ratio: 12\n",
    "- DIS: 3\n",
    "\n",
    "What is the expected median value of the house?"
   ]
  },
  {
   "cell_type": "code",
   "execution_count": null,
   "metadata": {
    "id": "ccctJPAWyKey"
   },
   "outputs": [],
   "source": [
    "#pseudo-code\n",
    "lr.predict([[<values above, and any you have to impute/fill>]])"
   ]
  },
  {
   "cell_type": "markdown",
   "metadata": {
    "id": "7O9H4HA2t72s"
   },
   "source": [
    "# Review\n",
    "In this lesson we\n",
    "- Covered the questions answerd by ML\n",
    "- Highlighted the difference between supervised, unsupervised, and re-enforcement learning\n",
    "- Learned the appropriate framework for training ML models, and testing their performance on out-of-sample data\n",
    "- Implemented a simple OLS linear regression by hand, and discussed the importance of math\n",
    "- Introduced multiple OLS with sklearn, discussing how to best leverage packages\n",
    "- Visualized the relation between actual numbers and predicted numbers\n",
    "- Calculated the error and variance of models to understand how 'good' they are\n",
    "- Compared two models to ensure that they were in fact different. "
   ]
  }
 ],
 "metadata": {
  "colab": {
   "authorship_tag": "ABX9TyPVAZ8RZaf+2tPGj04TMJ1o",
   "collapsed_sections": [],
   "name": "4_machineLearningIntro.ipynb",
   "provenance": []
  },
  "kernelspec": {
   "display_name": "Python 3",
   "language": "python",
   "name": "python3"
  },
  "language_info": {
   "codemirror_mode": {
    "name": "ipython",
    "version": 3
   },
   "file_extension": ".py",
   "mimetype": "text/x-python",
   "name": "python",
   "nbconvert_exporter": "python",
   "pygments_lexer": "ipython3",
   "version": "3.7.6"
  },
  "varInspector": {
   "cols": {
    "lenName": 16,
    "lenType": 16,
    "lenVar": 40
   },
   "kernels_config": {
    "python": {
     "delete_cmd_postfix": "",
     "delete_cmd_prefix": "del ",
     "library": "var_list.py",
     "varRefreshCmd": "print(var_dic_list())"
    },
    "r": {
     "delete_cmd_postfix": ") ",
     "delete_cmd_prefix": "rm(",
     "library": "var_list.r",
     "varRefreshCmd": "cat(var_dic_list()) "
    }
   },
   "types_to_exclude": [
    "module",
    "function",
    "builtin_function_or_method",
    "instance",
    "_Feature"
   ],
   "window_display": false
  }
 },
 "nbformat": 4,
 "nbformat_minor": 4
}
