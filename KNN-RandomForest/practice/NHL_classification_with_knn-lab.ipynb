{
 "cells": [
  {
   "cell_type": "markdown",
   "metadata": {},
   "source": [
    "<img src=\"http://imgur.com/1ZcRyrc.png\" style=\"float: left; margin: 20px; height: 55px\">\n",
    "\n",
    "# Classification and KNN with NHL data\n",
    "\n",
    "_Authors: Joseph Nelson (DC)_\n",
    "\n",
    "---\n",
    "\n",
    "Below you will practice KNN classification on a dataset of NHL statistics.\n",
    "\n",
    "You will be predicting the `Rank` of a team from predictor variables of your choice."
   ]
  },
  {
   "cell_type": "code",
   "execution_count": 37,
   "metadata": {},
   "outputs": [],
   "source": [
    "import matplotlib.pyplot as plt\n",
    "import numpy as np\n",
    "import pandas as pd\n",
    "import seaborn as sns\n",
    "\n",
    "%matplotlib inline\n",
    "%config InlineBackend.figure_format = 'retina'"
   ]
  },
  {
   "cell_type": "code",
   "execution_count": 38,
   "metadata": {},
   "outputs": [],
   "source": [
    "# web location:\n",
    "local_csv = '../data/NHL_Data_GA.csv'\n"
   ]
  },
  {
   "cell_type": "markdown",
   "metadata": {},
   "source": [
    "### 1. Load the NHL data"
   ]
  },
  {
   "cell_type": "code",
   "execution_count": 39,
   "metadata": {},
   "outputs": [
    {
     "name": "stdout",
     "output_type": "stream",
     "text": [
      "\n",
      ": boolean\n",
      "    use_inf_as_null had been deprecated and will be removed in a future\n",
      "    version. Use `use_inf_as_na` instead.\n",
      "\n"
     ]
    },
    {
     "name": "stderr",
     "output_type": "stream",
     "text": [
      "/usr/local/Cellar/jupyterlab/1.2.4/libexec/lib/python3.7/site-packages/pandas/_config/config.py:620: FutureWarning: \n",
      ": boolean\n",
      "    use_inf_as_null had been deprecated and will be removed in a future\n",
      "    version. Use `use_inf_as_na` instead.\n",
      "\n",
      "  warnings.warn(d.msg, FutureWarning)\n"
     ]
    },
    {
     "data": {
      "text/html": [
       "<div>\n",
       "<style scoped>\n",
       "    .dataframe tbody tr th:only-of-type {\n",
       "        vertical-align: middle;\n",
       "    }\n",
       "\n",
       "    .dataframe tbody tr th {\n",
       "        vertical-align: top;\n",
       "    }\n",
       "\n",
       "    .dataframe thead th {\n",
       "        text-align: right;\n",
       "    }\n",
       "</style>\n",
       "<table border=\"1\" class=\"dataframe\">\n",
       "  <thead>\n",
       "    <tr style=\"text-align: right;\">\n",
       "      <th></th>\n",
       "      <th>PTS</th>\n",
       "      <th>Rank</th>\n",
       "      <th>GF</th>\n",
       "      <th>GA</th>\n",
       "      <th>GF60</th>\n",
       "      <th>GA60</th>\n",
       "      <th>GF%</th>\n",
       "      <th>SF</th>\n",
       "      <th>SA</th>\n",
       "      <th>SF60</th>\n",
       "      <th>...</th>\n",
       "      <th>FF%</th>\n",
       "      <th>CF</th>\n",
       "      <th>CA</th>\n",
       "      <th>CF60</th>\n",
       "      <th>CA60</th>\n",
       "      <th>CF%</th>\n",
       "      <th>Sh%</th>\n",
       "      <th>Sv%</th>\n",
       "      <th>PDO</th>\n",
       "      <th>PIM</th>\n",
       "    </tr>\n",
       "  </thead>\n",
       "  <tbody>\n",
       "    <tr>\n",
       "      <th>count</th>\n",
       "      <td>90.000000</td>\n",
       "      <td>90.000000</td>\n",
       "      <td>90.000000</td>\n",
       "      <td>90.000000</td>\n",
       "      <td>90.000000</td>\n",
       "      <td>90.000000</td>\n",
       "      <td>90.000000</td>\n",
       "      <td>90.000000</td>\n",
       "      <td>90.000000</td>\n",
       "      <td>90.000000</td>\n",
       "      <td>...</td>\n",
       "      <td>90.000000</td>\n",
       "      <td>90.000000</td>\n",
       "      <td>90.000000</td>\n",
       "      <td>90.000000</td>\n",
       "      <td>90.000000</td>\n",
       "      <td>90.000000</td>\n",
       "      <td>90.000000</td>\n",
       "      <td>90.000000</td>\n",
       "      <td>90.000000</td>\n",
       "      <td>90.000000</td>\n",
       "    </tr>\n",
       "    <tr>\n",
       "      <th>mean</th>\n",
       "      <td>91.977778</td>\n",
       "      <td>2.022222</td>\n",
       "      <td>83.288889</td>\n",
       "      <td>83.288889</td>\n",
       "      <td>2.442222</td>\n",
       "      <td>2.444000</td>\n",
       "      <td>49.981111</td>\n",
       "      <td>1068.333333</td>\n",
       "      <td>1068.333333</td>\n",
       "      <td>31.252222</td>\n",
       "      <td>...</td>\n",
       "      <td>49.966667</td>\n",
       "      <td>1973.466667</td>\n",
       "      <td>1973.466667</td>\n",
       "      <td>57.735556</td>\n",
       "      <td>57.798889</td>\n",
       "      <td>49.972222</td>\n",
       "      <td>7.814556</td>\n",
       "      <td>92.182556</td>\n",
       "      <td>999.988889</td>\n",
       "      <td>990.966667</td>\n",
       "    </tr>\n",
       "    <tr>\n",
       "      <th>std</th>\n",
       "      <td>12.524114</td>\n",
       "      <td>0.820767</td>\n",
       "      <td>10.376339</td>\n",
       "      <td>9.694484</td>\n",
       "      <td>0.325331</td>\n",
       "      <td>0.313522</td>\n",
       "      <td>4.644554</td>\n",
       "      <td>95.929047</td>\n",
       "      <td>75.514118</td>\n",
       "      <td>2.237637</td>\n",
       "      <td>...</td>\n",
       "      <td>2.797913</td>\n",
       "      <td>176.468299</td>\n",
       "      <td>154.148928</td>\n",
       "      <td>4.124476</td>\n",
       "      <td>4.291106</td>\n",
       "      <td>2.844313</td>\n",
       "      <td>0.866942</td>\n",
       "      <td>0.928621</td>\n",
       "      <td>12.292772</td>\n",
       "      <td>178.049321</td>\n",
       "    </tr>\n",
       "    <tr>\n",
       "      <th>min</th>\n",
       "      <td>62.000000</td>\n",
       "      <td>1.000000</td>\n",
       "      <td>57.000000</td>\n",
       "      <td>64.000000</td>\n",
       "      <td>1.700000</td>\n",
       "      <td>1.730000</td>\n",
       "      <td>38.000000</td>\n",
       "      <td>815.000000</td>\n",
       "      <td>868.000000</td>\n",
       "      <td>25.800000</td>\n",
       "      <td>...</td>\n",
       "      <td>43.100000</td>\n",
       "      <td>1565.000000</td>\n",
       "      <td>1572.000000</td>\n",
       "      <td>49.500000</td>\n",
       "      <td>46.700000</td>\n",
       "      <td>43.700000</td>\n",
       "      <td>5.900000</td>\n",
       "      <td>89.830000</td>\n",
       "      <td>978.000000</td>\n",
       "      <td>689.000000</td>\n",
       "    </tr>\n",
       "    <tr>\n",
       "      <th>25%</th>\n",
       "      <td>82.250000</td>\n",
       "      <td>1.000000</td>\n",
       "      <td>76.000000</td>\n",
       "      <td>75.500000</td>\n",
       "      <td>2.232500</td>\n",
       "      <td>2.202500</td>\n",
       "      <td>46.825000</td>\n",
       "      <td>1011.500000</td>\n",
       "      <td>1022.250000</td>\n",
       "      <td>29.550000</td>\n",
       "      <td>...</td>\n",
       "      <td>47.775000</td>\n",
       "      <td>1855.250000</td>\n",
       "      <td>1877.000000</td>\n",
       "      <td>54.275000</td>\n",
       "      <td>54.600000</td>\n",
       "      <td>47.925000</td>\n",
       "      <td>7.235000</td>\n",
       "      <td>91.555000</td>\n",
       "      <td>992.000000</td>\n",
       "      <td>881.250000</td>\n",
       "    </tr>\n",
       "    <tr>\n",
       "      <th>50%</th>\n",
       "      <td>92.500000</td>\n",
       "      <td>2.000000</td>\n",
       "      <td>84.000000</td>\n",
       "      <td>84.000000</td>\n",
       "      <td>2.400000</td>\n",
       "      <td>2.495000</td>\n",
       "      <td>49.700000</td>\n",
       "      <td>1072.000000</td>\n",
       "      <td>1072.000000</td>\n",
       "      <td>31.400000</td>\n",
       "      <td>...</td>\n",
       "      <td>50.050000</td>\n",
       "      <td>1981.500000</td>\n",
       "      <td>1961.000000</td>\n",
       "      <td>58.050000</td>\n",
       "      <td>58.350000</td>\n",
       "      <td>50.400000</td>\n",
       "      <td>7.730000</td>\n",
       "      <td>92.250000</td>\n",
       "      <td>1000.500000</td>\n",
       "      <td>960.000000</td>\n",
       "    </tr>\n",
       "    <tr>\n",
       "      <th>75%</th>\n",
       "      <td>102.000000</td>\n",
       "      <td>3.000000</td>\n",
       "      <td>90.000000</td>\n",
       "      <td>89.000000</td>\n",
       "      <td>2.600000</td>\n",
       "      <td>2.670000</td>\n",
       "      <td>53.625000</td>\n",
       "      <td>1143.000000</td>\n",
       "      <td>1125.750000</td>\n",
       "      <td>32.775000</td>\n",
       "      <td>...</td>\n",
       "      <td>51.775000</td>\n",
       "      <td>2112.750000</td>\n",
       "      <td>2077.250000</td>\n",
       "      <td>60.850000</td>\n",
       "      <td>60.400000</td>\n",
       "      <td>52.000000</td>\n",
       "      <td>8.270000</td>\n",
       "      <td>92.870000</td>\n",
       "      <td>1007.750000</td>\n",
       "      <td>1101.500000</td>\n",
       "    </tr>\n",
       "    <tr>\n",
       "      <th>max</th>\n",
       "      <td>121.000000</td>\n",
       "      <td>3.000000</td>\n",
       "      <td>115.000000</td>\n",
       "      <td>107.000000</td>\n",
       "      <td>3.450000</td>\n",
       "      <td>3.240000</td>\n",
       "      <td>61.200000</td>\n",
       "      <td>1311.000000</td>\n",
       "      <td>1245.000000</td>\n",
       "      <td>35.600000</td>\n",
       "      <td>...</td>\n",
       "      <td>58.100000</td>\n",
       "      <td>2341.000000</td>\n",
       "      <td>2332.000000</td>\n",
       "      <td>64.900000</td>\n",
       "      <td>67.500000</td>\n",
       "      <td>57.100000</td>\n",
       "      <td>10.340000</td>\n",
       "      <td>93.940000</td>\n",
       "      <td>1034.000000</td>\n",
       "      <td>1515.000000</td>\n",
       "    </tr>\n",
       "  </tbody>\n",
       "</table>\n",
       "<p>8 rows × 26 columns</p>\n",
       "</div>"
      ],
      "text/plain": [
       "              PTS       Rank          GF          GA       GF60       GA60  \\\n",
       "count   90.000000  90.000000   90.000000   90.000000  90.000000  90.000000   \n",
       "mean    91.977778   2.022222   83.288889   83.288889   2.442222   2.444000   \n",
       "std     12.524114   0.820767   10.376339    9.694484   0.325331   0.313522   \n",
       "min     62.000000   1.000000   57.000000   64.000000   1.700000   1.730000   \n",
       "25%     82.250000   1.000000   76.000000   75.500000   2.232500   2.202500   \n",
       "50%     92.500000   2.000000   84.000000   84.000000   2.400000   2.495000   \n",
       "75%    102.000000   3.000000   90.000000   89.000000   2.600000   2.670000   \n",
       "max    121.000000   3.000000  115.000000  107.000000   3.450000   3.240000   \n",
       "\n",
       "             GF%           SF           SA       SF60  ...        FF%  \\\n",
       "count  90.000000    90.000000    90.000000  90.000000  ...  90.000000   \n",
       "mean   49.981111  1068.333333  1068.333333  31.252222  ...  49.966667   \n",
       "std     4.644554    95.929047    75.514118   2.237637  ...   2.797913   \n",
       "min    38.000000   815.000000   868.000000  25.800000  ...  43.100000   \n",
       "25%    46.825000  1011.500000  1022.250000  29.550000  ...  47.775000   \n",
       "50%    49.700000  1072.000000  1072.000000  31.400000  ...  50.050000   \n",
       "75%    53.625000  1143.000000  1125.750000  32.775000  ...  51.775000   \n",
       "max    61.200000  1311.000000  1245.000000  35.600000  ...  58.100000   \n",
       "\n",
       "                CF           CA       CF60       CA60        CF%        Sh%  \\\n",
       "count    90.000000    90.000000  90.000000  90.000000  90.000000  90.000000   \n",
       "mean   1973.466667  1973.466667  57.735556  57.798889  49.972222   7.814556   \n",
       "std     176.468299   154.148928   4.124476   4.291106   2.844313   0.866942   \n",
       "min    1565.000000  1572.000000  49.500000  46.700000  43.700000   5.900000   \n",
       "25%    1855.250000  1877.000000  54.275000  54.600000  47.925000   7.235000   \n",
       "50%    1981.500000  1961.000000  58.050000  58.350000  50.400000   7.730000   \n",
       "75%    2112.750000  2077.250000  60.850000  60.400000  52.000000   8.270000   \n",
       "max    2341.000000  2332.000000  64.900000  67.500000  57.100000  10.340000   \n",
       "\n",
       "             Sv%          PDO          PIM  \n",
       "count  90.000000    90.000000    90.000000  \n",
       "mean   92.182556   999.988889   990.966667  \n",
       "std     0.928621    12.292772   178.049321  \n",
       "min    89.830000   978.000000   689.000000  \n",
       "25%    91.555000   992.000000   881.250000  \n",
       "50%    92.250000  1000.500000   960.000000  \n",
       "75%    92.870000  1007.750000  1101.500000  \n",
       "max    93.940000  1034.000000  1515.000000  \n",
       "\n",
       "[8 rows x 26 columns]"
      ]
     },
     "execution_count": 39,
     "metadata": {},
     "output_type": "execute_result"
    }
   ],
   "source": [
    "# A:\n",
    "pd.reset_option('all')\n",
    "nhl = pd.read_csv(local_csv ,index_col=0)\n",
    "nhl.describe()\n"
   ]
  },
  {
   "cell_type": "code",
   "execution_count": 86,
   "metadata": {},
   "outputs": [
    {
     "data": {
      "text/html": [
       "<div>\n",
       "<style scoped>\n",
       "    .dataframe tbody tr th:only-of-type {\n",
       "        vertical-align: middle;\n",
       "    }\n",
       "\n",
       "    .dataframe tbody tr th {\n",
       "        vertical-align: top;\n",
       "    }\n",
       "\n",
       "    .dataframe thead th {\n",
       "        text-align: right;\n",
       "    }\n",
       "</style>\n",
       "<table border=\"1\" class=\"dataframe\">\n",
       "  <thead>\n",
       "    <tr style=\"text-align: right;\">\n",
       "      <th></th>\n",
       "      <th>PTS</th>\n",
       "      <th>Rank</th>\n",
       "      <th>TOI</th>\n",
       "      <th>GF</th>\n",
       "      <th>GA</th>\n",
       "      <th>GF60</th>\n",
       "      <th>GA60</th>\n",
       "      <th>GF%</th>\n",
       "      <th>SF</th>\n",
       "      <th>SA</th>\n",
       "      <th>...</th>\n",
       "      <th>FF%</th>\n",
       "      <th>CF</th>\n",
       "      <th>CA</th>\n",
       "      <th>CF60</th>\n",
       "      <th>CA60</th>\n",
       "      <th>CF%</th>\n",
       "      <th>Sh%</th>\n",
       "      <th>Sv%</th>\n",
       "      <th>PDO</th>\n",
       "      <th>PIM</th>\n",
       "    </tr>\n",
       "    <tr>\n",
       "      <th>Team</th>\n",
       "      <th></th>\n",
       "      <th></th>\n",
       "      <th></th>\n",
       "      <th></th>\n",
       "      <th></th>\n",
       "      <th></th>\n",
       "      <th></th>\n",
       "      <th></th>\n",
       "      <th></th>\n",
       "      <th></th>\n",
       "      <th></th>\n",
       "      <th></th>\n",
       "      <th></th>\n",
       "      <th></th>\n",
       "      <th></th>\n",
       "      <th></th>\n",
       "      <th></th>\n",
       "      <th></th>\n",
       "      <th></th>\n",
       "      <th></th>\n",
       "      <th></th>\n",
       "    </tr>\n",
       "  </thead>\n",
       "  <tbody>\n",
       "    <tr>\n",
       "      <th>Washington10</th>\n",
       "      <td>121</td>\n",
       "      <td>1</td>\n",
       "      <td>2001:52:00</td>\n",
       "      <td>115</td>\n",
       "      <td>73</td>\n",
       "      <td>3.45</td>\n",
       "      <td>2.19</td>\n",
       "      <td>61.2</td>\n",
       "      <td>1112</td>\n",
       "      <td>1047</td>\n",
       "      <td>...</td>\n",
       "      <td>51.3</td>\n",
       "      <td>2138</td>\n",
       "      <td>1935</td>\n",
       "      <td>64.1</td>\n",
       "      <td>58.0</td>\n",
       "      <td>52.5</td>\n",
       "      <td>10.34</td>\n",
       "      <td>93.03</td>\n",
       "      <td>1034</td>\n",
       "      <td>1269</td>\n",
       "    </tr>\n",
       "    <tr>\n",
       "      <th>Vancouver11</th>\n",
       "      <td>117</td>\n",
       "      <td>1</td>\n",
       "      <td>2056:14:00</td>\n",
       "      <td>94</td>\n",
       "      <td>72</td>\n",
       "      <td>2.74</td>\n",
       "      <td>2.10</td>\n",
       "      <td>56.6</td>\n",
       "      <td>1143</td>\n",
       "      <td>1053</td>\n",
       "      <td>...</td>\n",
       "      <td>53.1</td>\n",
       "      <td>2144</td>\n",
       "      <td>1870</td>\n",
       "      <td>62.6</td>\n",
       "      <td>54.6</td>\n",
       "      <td>53.4</td>\n",
       "      <td>8.22</td>\n",
       "      <td>93.16</td>\n",
       "      <td>1014</td>\n",
       "      <td>985</td>\n",
       "    </tr>\n",
       "    <tr>\n",
       "      <th>San Jose10</th>\n",
       "      <td>113</td>\n",
       "      <td>1</td>\n",
       "      <td>1929:54:00</td>\n",
       "      <td>90</td>\n",
       "      <td>68</td>\n",
       "      <td>2.80</td>\n",
       "      <td>2.11</td>\n",
       "      <td>57.0</td>\n",
       "      <td>1065</td>\n",
       "      <td>1039</td>\n",
       "      <td>...</td>\n",
       "      <td>50.9</td>\n",
       "      <td>1985</td>\n",
       "      <td>1876</td>\n",
       "      <td>61.7</td>\n",
       "      <td>58.3</td>\n",
       "      <td>51.4</td>\n",
       "      <td>8.45</td>\n",
       "      <td>93.46</td>\n",
       "      <td>1019</td>\n",
       "      <td>1195</td>\n",
       "    </tr>\n",
       "    <tr>\n",
       "      <th>Chicago10</th>\n",
       "      <td>112</td>\n",
       "      <td>1</td>\n",
       "      <td>2020:23:00</td>\n",
       "      <td>104</td>\n",
       "      <td>83</td>\n",
       "      <td>3.09</td>\n",
       "      <td>2.46</td>\n",
       "      <td>55.6</td>\n",
       "      <td>1186</td>\n",
       "      <td>868</td>\n",
       "      <td>...</td>\n",
       "      <td>58.1</td>\n",
       "      <td>2093</td>\n",
       "      <td>1572</td>\n",
       "      <td>62.2</td>\n",
       "      <td>46.7</td>\n",
       "      <td>57.1</td>\n",
       "      <td>8.77</td>\n",
       "      <td>90.44</td>\n",
       "      <td>992</td>\n",
       "      <td>966</td>\n",
       "    </tr>\n",
       "    <tr>\n",
       "      <th>Vancouver12</th>\n",
       "      <td>111</td>\n",
       "      <td>1</td>\n",
       "      <td>2052:02:00</td>\n",
       "      <td>86</td>\n",
       "      <td>74</td>\n",
       "      <td>2.51</td>\n",
       "      <td>2.16</td>\n",
       "      <td>53.8</td>\n",
       "      <td>1078</td>\n",
       "      <td>1115</td>\n",
       "      <td>...</td>\n",
       "      <td>51.0</td>\n",
       "      <td>2085</td>\n",
       "      <td>1880</td>\n",
       "      <td>61.0</td>\n",
       "      <td>55.0</td>\n",
       "      <td>52.6</td>\n",
       "      <td>7.98</td>\n",
       "      <td>93.36</td>\n",
       "      <td>1013</td>\n",
       "      <td>1049</td>\n",
       "    </tr>\n",
       "  </tbody>\n",
       "</table>\n",
       "<p>5 rows × 27 columns</p>\n",
       "</div>"
      ],
      "text/plain": [
       "              PTS  Rank         TOI   GF  GA  GF60  GA60   GF%    SF    SA  \\\n",
       "Team                                                                         \n",
       "Washington10  121     1  2001:52:00  115  73  3.45  2.19  61.2  1112  1047   \n",
       "Vancouver11   117     1  2056:14:00   94  72  2.74  2.10  56.6  1143  1053   \n",
       "San Jose10    113     1  1929:54:00   90  68  2.80  2.11  57.0  1065  1039   \n",
       "Chicago10     112     1  2020:23:00  104  83  3.09  2.46  55.6  1186   868   \n",
       "Vancouver12   111     1  2052:02:00   86  74  2.51  2.16  53.8  1078  1115   \n",
       "\n",
       "              ...   FF%    CF    CA  CF60  CA60   CF%    Sh%    Sv%   PDO  \\\n",
       "Team          ...                                                           \n",
       "Washington10  ...  51.3  2138  1935  64.1  58.0  52.5  10.34  93.03  1034   \n",
       "Vancouver11   ...  53.1  2144  1870  62.6  54.6  53.4   8.22  93.16  1014   \n",
       "San Jose10    ...  50.9  1985  1876  61.7  58.3  51.4   8.45  93.46  1019   \n",
       "Chicago10     ...  58.1  2093  1572  62.2  46.7  57.1   8.77  90.44   992   \n",
       "Vancouver12   ...  51.0  2085  1880  61.0  55.0  52.6   7.98  93.36  1013   \n",
       "\n",
       "               PIM  \n",
       "Team                \n",
       "Washington10  1269  \n",
       "Vancouver11    985  \n",
       "San Jose10    1195  \n",
       "Chicago10      966  \n",
       "Vancouver12   1049  \n",
       "\n",
       "[5 rows x 27 columns]"
      ]
     },
     "execution_count": 86,
     "metadata": {},
     "output_type": "execute_result"
    }
   ],
   "source": [
    "nhl.head()"
   ]
  },
  {
   "cell_type": "markdown",
   "metadata": {},
   "source": [
    "### 2. Perform any required data cleaning. Do some EDA."
   ]
  },
  {
   "cell_type": "code",
   "execution_count": 40,
   "metadata": {},
   "outputs": [
    {
     "data": {
      "text/plain": [
       "PTS     0\n",
       "Rank    0\n",
       "TOI     0\n",
       "GF      0\n",
       "GA      0\n",
       "GF60    0\n",
       "GA60    0\n",
       "GF%     0\n",
       "SF      0\n",
       "SA      0\n",
       "SF60    0\n",
       "SA60    0\n",
       "SF%     0\n",
       "FF      0\n",
       "FA      0\n",
       "FF60    0\n",
       "FA60    0\n",
       "FF%     0\n",
       "CF      0\n",
       "CA      0\n",
       "CF60    0\n",
       "CA60    0\n",
       "CF%     0\n",
       "Sh%     0\n",
       "Sv%     0\n",
       "PDO     0\n",
       "PIM     0\n",
       "dtype: int64"
      ]
     },
     "execution_count": 40,
     "metadata": {},
     "output_type": "execute_result"
    }
   ],
   "source": [
    "# A:\n",
    "nhl.isnull().sum()\n"
   ]
  },
  {
   "cell_type": "markdown",
   "metadata": {},
   "source": [
    "### 3. Set up the `Rank` variable as your target. How many classes are there?"
   ]
  },
  {
   "cell_type": "code",
   "execution_count": 41,
   "metadata": {},
   "outputs": [
    {
     "data": {
      "text/plain": [
       "3"
      ]
     },
     "execution_count": 41,
     "metadata": {},
     "output_type": "execute_result"
    }
   ],
   "source": [
    "# A:\n",
    "nhl['Rank'].nunique()"
   ]
  },
  {
   "cell_type": "code",
   "execution_count": 42,
   "metadata": {},
   "outputs": [
    {
     "data": {
      "text/plain": [
       "array([1, 2, 3])"
      ]
     },
     "execution_count": 42,
     "metadata": {},
     "output_type": "execute_result"
    }
   ],
   "source": [
    "nhl['Rank'].unique()"
   ]
  },
  {
   "cell_type": "code",
   "execution_count": 44,
   "metadata": {},
   "outputs": [
    {
     "data": {
      "text/plain": [
       "Team\n",
       "Washington10    1\n",
       "Vancouver11     1\n",
       "San Jose10      1\n",
       "Chicago10       1\n",
       "Vancouver12     1\n",
       "               ..\n",
       "Florida11       3\n",
       "Columbus11      3\n",
       "Colorado12      3\n",
       "Edmonton10      3\n",
       "Edmonton11      3\n",
       "Name: Rank, Length: 90, dtype: int64"
      ]
     },
     "execution_count": 44,
     "metadata": {},
     "output_type": "execute_result"
    }
   ],
   "source": [
    "y = nhl['Rank']\n",
    "y"
   ]
  },
  {
   "cell_type": "markdown",
   "metadata": {},
   "source": [
    "### 4. What is the baseline accuracy?"
   ]
  },
  {
   "cell_type": "code",
   "execution_count": 88,
   "metadata": {},
   "outputs": [
    {
     "data": {
      "text/plain": [
       "2.022222222222222"
      ]
     },
     "execution_count": 88,
     "metadata": {},
     "output_type": "execute_result"
    }
   ],
   "source": [
    "# A:\n",
    "# y.value_counts()/y.sum()\n",
    "nhl.Rank.mean()"
   ]
  },
  {
   "cell_type": "markdown",
   "metadata": {},
   "source": [
    "### 5. Choose 4 features to be your predictor variables and set up your design matrix."
   ]
  },
  {
   "cell_type": "code",
   "execution_count": 47,
   "metadata": {},
   "outputs": [
    {
     "data": {
      "text/plain": [
       "Index(['PTS', 'Rank', 'TOI', 'GF', 'GA', 'GF60', 'GA60', 'GF%', 'SF', 'SA',\n",
       "       'SF60', 'SA60', 'SF%', 'FF', 'FA', 'FF60', 'FA60', 'FF%', 'CF', 'CA',\n",
       "       'CF60', 'CA60', 'CF%', 'Sh%', 'Sv%', 'PDO', 'PIM'],\n",
       "      dtype='object')"
      ]
     },
     "execution_count": 47,
     "metadata": {},
     "output_type": "execute_result"
    }
   ],
   "source": [
    "# A:\n",
    "nhl.columns"
   ]
  },
  {
   "cell_type": "code",
   "execution_count": 48,
   "metadata": {},
   "outputs": [
    {
     "data": {
      "text/html": [
       "<div>\n",
       "<style scoped>\n",
       "    .dataframe tbody tr th:only-of-type {\n",
       "        vertical-align: middle;\n",
       "    }\n",
       "\n",
       "    .dataframe tbody tr th {\n",
       "        vertical-align: top;\n",
       "    }\n",
       "\n",
       "    .dataframe thead th {\n",
       "        text-align: right;\n",
       "    }\n",
       "</style>\n",
       "<table border=\"1\" class=\"dataframe\">\n",
       "  <thead>\n",
       "    <tr style=\"text-align: right;\">\n",
       "      <th></th>\n",
       "      <th>SA60</th>\n",
       "      <th>SF%</th>\n",
       "      <th>FF</th>\n",
       "      <th>FA</th>\n",
       "    </tr>\n",
       "    <tr>\n",
       "      <th>Team</th>\n",
       "      <th></th>\n",
       "      <th></th>\n",
       "      <th></th>\n",
       "      <th></th>\n",
       "    </tr>\n",
       "  </thead>\n",
       "  <tbody>\n",
       "    <tr>\n",
       "      <th>Washington10</th>\n",
       "      <td>31.4</td>\n",
       "      <td>51.5</td>\n",
       "      <td>1526</td>\n",
       "      <td>1449</td>\n",
       "    </tr>\n",
       "    <tr>\n",
       "      <th>Vancouver11</th>\n",
       "      <td>30.7</td>\n",
       "      <td>52.0</td>\n",
       "      <td>1602</td>\n",
       "      <td>1414</td>\n",
       "    </tr>\n",
       "    <tr>\n",
       "      <th>San Jose10</th>\n",
       "      <td>32.3</td>\n",
       "      <td>50.6</td>\n",
       "      <td>1493</td>\n",
       "      <td>1442</td>\n",
       "    </tr>\n",
       "    <tr>\n",
       "      <th>Chicago10</th>\n",
       "      <td>25.8</td>\n",
       "      <td>57.7</td>\n",
       "      <td>1599</td>\n",
       "      <td>1151</td>\n",
       "    </tr>\n",
       "    <tr>\n",
       "      <th>Vancouver12</th>\n",
       "      <td>32.6</td>\n",
       "      <td>49.2</td>\n",
       "      <td>1504</td>\n",
       "      <td>1442</td>\n",
       "    </tr>\n",
       "    <tr>\n",
       "      <th>...</th>\n",
       "      <td>...</td>\n",
       "      <td>...</td>\n",
       "      <td>...</td>\n",
       "      <td>...</td>\n",
       "    </tr>\n",
       "    <tr>\n",
       "      <th>Florida11</th>\n",
       "      <td>33.4</td>\n",
       "      <td>49.0</td>\n",
       "      <td>1574</td>\n",
       "      <td>1616</td>\n",
       "    </tr>\n",
       "    <tr>\n",
       "      <th>Columbus11</th>\n",
       "      <td>31.1</td>\n",
       "      <td>50.5</td>\n",
       "      <td>1480</td>\n",
       "      <td>1416</td>\n",
       "    </tr>\n",
       "    <tr>\n",
       "      <th>Colorado12</th>\n",
       "      <td>32.4</td>\n",
       "      <td>50.1</td>\n",
       "      <td>1557</td>\n",
       "      <td>1583</td>\n",
       "    </tr>\n",
       "    <tr>\n",
       "      <th>Edmonton10</th>\n",
       "      <td>34.1</td>\n",
       "      <td>46.6</td>\n",
       "      <td>1350</td>\n",
       "      <td>1614</td>\n",
       "    </tr>\n",
       "    <tr>\n",
       "      <th>Edmonton11</th>\n",
       "      <td>33.4</td>\n",
       "      <td>43.7</td>\n",
       "      <td>1146</td>\n",
       "      <td>1468</td>\n",
       "    </tr>\n",
       "  </tbody>\n",
       "</table>\n",
       "<p>90 rows × 4 columns</p>\n",
       "</div>"
      ],
      "text/plain": [
       "              SA60   SF%    FF    FA\n",
       "Team                                \n",
       "Washington10  31.4  51.5  1526  1449\n",
       "Vancouver11   30.7  52.0  1602  1414\n",
       "San Jose10    32.3  50.6  1493  1442\n",
       "Chicago10     25.8  57.7  1599  1151\n",
       "Vancouver12   32.6  49.2  1504  1442\n",
       "...            ...   ...   ...   ...\n",
       "Florida11     33.4  49.0  1574  1616\n",
       "Columbus11    31.1  50.5  1480  1416\n",
       "Colorado12    32.4  50.1  1557  1583\n",
       "Edmonton10    34.1  46.6  1350  1614\n",
       "Edmonton11    33.4  43.7  1146  1468\n",
       "\n",
       "[90 rows x 4 columns]"
      ]
     },
     "execution_count": 48,
     "metadata": {},
     "output_type": "execute_result"
    }
   ],
   "source": [
    "feature_cols = ['SA60', 'SF%', 'FF', 'FA'];\n",
    "X = nhl[feature_cols]\n",
    "X"
   ]
  },
  {
   "cell_type": "markdown",
   "metadata": {},
   "source": [
    "### 6. Fit a `KNeighborsClassifier` with 1 neighbor using the target and predictors."
   ]
  },
  {
   "cell_type": "code",
   "execution_count": 57,
   "metadata": {},
   "outputs": [
    {
     "data": {
      "text/plain": [
       "KNeighborsClassifier(algorithm='auto', leaf_size=30, metric='minkowski',\n",
       "                     metric_params=None, n_jobs=None, n_neighbors=1, p=2,\n",
       "                     weights='uniform')"
      ]
     },
     "execution_count": 57,
     "metadata": {},
     "output_type": "execute_result"
    }
   ],
   "source": [
    "# A:\n",
    "from sklearn.neighbors import KNeighborsClassifier\n",
    "knn =  KNeighborsClassifier(n_neighbors = 1)\n",
    "knn.fit(X, y)"
   ]
  },
  {
   "cell_type": "code",
   "execution_count": 58,
   "metadata": {},
   "outputs": [
    {
     "data": {
      "text/plain": [
       "array([1, 1, 1, 1, 1, 1, 1, 1, 1, 1, 1, 1, 1, 1, 1, 1, 1, 1, 1, 1, 1, 1,\n",
       "       1, 1, 1, 1, 1, 1, 1, 2, 2, 2, 2, 2, 2, 2, 2, 2, 2, 2, 2, 2, 2, 2,\n",
       "       2, 2, 2, 2, 2, 2, 2, 2, 2, 2, 2, 2, 2, 2, 2, 3, 3, 3, 3, 3, 3, 3,\n",
       "       3, 3, 3, 3, 3, 3, 3, 3, 3, 3, 3, 3, 3, 3, 3, 3, 3, 3, 3, 3, 3, 3,\n",
       "       3, 3])"
      ]
     },
     "execution_count": 58,
     "metadata": {},
     "output_type": "execute_result"
    }
   ],
   "source": [
    "pred = knn.predict(X)\n",
    "pred"
   ]
  },
  {
   "cell_type": "markdown",
   "metadata": {},
   "source": [
    "### 7. Evaluate the accuracy of your model.\n",
    "- Is it better than baseline?\n",
    "- Is it legitimate?"
   ]
  },
  {
   "cell_type": "code",
   "execution_count": 70,
   "metadata": {},
   "outputs": [
    {
     "name": "stdout",
     "output_type": "stream",
     "text": [
      "[[29  0  0]\n",
      " [ 0 30  0]\n",
      " [ 0  0 31]]\n",
      "              precision    recall  f1-score   support\n",
      "\n",
      "           1       1.00      1.00      1.00        29\n",
      "           2       1.00      1.00      1.00        30\n",
      "           3       1.00      1.00      1.00        31\n",
      "\n",
      "    accuracy                           1.00        90\n",
      "   macro avg       1.00      1.00      1.00        90\n",
      "weighted avg       1.00      1.00      1.00        90\n",
      "\n"
     ]
    }
   ],
   "source": [
    "# A:\n",
    "from sklearn.metrics import classification_report, confusion_matrix, accuracy_score\n",
    "print(confusion_matrix(y, pred))\n",
    "print(classification_report(y, pred))"
   ]
  },
  {
   "cell_type": "markdown",
   "metadata": {},
   "source": [
    "### 8. Create a 50-50 train-test-split of your target and predictors. Refit the KNN and assess the accuracy."
   ]
  },
  {
   "cell_type": "code",
   "execution_count": 73,
   "metadata": {},
   "outputs": [
    {
     "name": "stdout",
     "output_type": "stream",
     "text": [
      "0.4222222222222222\n",
      "[[10  4  1]\n",
      " [ 7  5  3]\n",
      " [ 7  4  4]]\n"
     ]
    }
   ],
   "source": [
    "# A:\n",
    "from sklearn.model_selection import train_test_split\n",
    "\n",
    "X_train, X_test, y_train, y_test = train_test_split(X, y, random_state=100, test_size=0.5)\n",
    "\n",
    "knn = KNeighborsClassifier(n_neighbors=1)\n",
    "knn.fit(X_train, y_train)\n",
    "\n",
    "y_pred = knn.predict(X_test)\n",
    "\n",
    "print(accuracy_score(y_test, y_pred))\n",
    "\n",
    "print(confusion_matrix(y_test, y_pred))\n",
    "\n",
    "\n"
   ]
  },
  {
   "cell_type": "markdown",
   "metadata": {},
   "source": [
    "### 9. Evaluate the test accuracy of a KNN where K == number of rows in the training data."
   ]
  },
  {
   "cell_type": "code",
   "execution_count": 84,
   "metadata": {},
   "outputs": [
    {
     "name": "stdout",
     "output_type": "stream",
     "text": [
      "0.3333333333333333\n"
     ]
    }
   ],
   "source": [
    "# A:\n",
    "kNum = X_train.shape[0]\n",
    "knn = KNeighborsClassifier(n_neighbors=kNum)\n",
    "knn.fit(X_train, y_train)\n",
    "y_pred2 = knn.predict(X_test)\n",
    "print(accuracy_score(y_test, y_pred2))"
   ]
  },
  {
   "cell_type": "markdown",
   "metadata": {},
   "source": [
    "### 10. Fit the KNN at values of K from 1 to the number of rows in the training data.\n",
    "- Store the test accuracy in a list.\n",
    "- Plot the test accuracy vs. the number of neighbors."
   ]
  },
  {
   "cell_type": "code",
   "execution_count": 12,
   "metadata": {
    "collapsed": true
   },
   "outputs": [],
   "source": [
    "# A:"
   ]
  },
  {
   "cell_type": "markdown",
   "metadata": {},
   "source": [
    "### 11. Fit KNN across different values of K and plot the mean cross-validated accuracy with 5 folds."
   ]
  },
  {
   "cell_type": "code",
   "execution_count": 13,
   "metadata": {},
   "outputs": [],
   "source": [
    "# A:"
   ]
  },
  {
   "cell_type": "markdown",
   "metadata": {},
   "source": [
    "### 12. Standardize the predictor matrix and cross-validate across the different K.\n",
    "- Plot the standardized mean cross-validated accuracy against the unstandardized. Which is better?\n",
    "- Why?"
   ]
  },
  {
   "cell_type": "code",
   "execution_count": 14,
   "metadata": {
    "collapsed": true
   },
   "outputs": [],
   "source": [
    "# A:"
   ]
  }
 ],
 "metadata": {
  "kernelspec": {
   "display_name": "Python 3",
   "language": "python",
   "name": "python3"
  },
  "language_info": {
   "codemirror_mode": {
    "name": "ipython",
    "version": 3
   },
   "file_extension": ".py",
   "mimetype": "text/x-python",
   "name": "python",
   "nbconvert_exporter": "python",
   "pygments_lexer": "ipython3",
   "version": "3.7.6"
  }
 },
 "nbformat": 4,
 "nbformat_minor": 2
}
