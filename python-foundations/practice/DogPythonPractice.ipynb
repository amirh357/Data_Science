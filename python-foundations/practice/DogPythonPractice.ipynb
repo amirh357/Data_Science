{
 "cells": [
  {
   "cell_type": "markdown",
   "metadata": {},
   "source": [
    "# Dog Practice\n",
    "Author: Bryce Peake\n",
    "\n",
    "For this group exercise, you'll re-enforce python skills by thinking through possible use cases."
   ]
  },
  {
   "cell_type": "code",
   "execution_count": 35,
   "metadata": {
    "ExecuteTime": {
     "end_time": "2020-01-14T01:22:55.082100Z",
     "start_time": "2020-01-14T01:22:55.079880Z"
    }
   },
   "outputs": [],
   "source": [
    "#Starter list - but there's something wrong. Fix it. \n",
    "\n",
    "dogs = {\"beagle\", \"collie\", healer, \"pug\")\n"
   ]
  },
  {
   "cell_type": "markdown",
   "metadata": {},
   "source": [
    "## Create a problem...\n",
    "that would require you to use a for loop on this list. Write the problem in the cell below"
   ]
  },
  {
   "cell_type": "code",
   "execution_count": 36,
   "metadata": {
    "ExecuteTime": {
     "end_time": "2020-01-14T01:22:55.634436Z",
     "start_time": "2020-01-14T01:22:55.630635Z"
    }
   },
   "outputs": [
    {
     "name": "stdout",
     "output_type": "stream",
     "text": [
      "beagle\n",
      "collie\n",
      "healer\n",
      "pug\n"
     ]
    }
   ],
   "source": [
    "#Now write the for loop\n",
    "\n",
    "#print each dog's name\n"
   ]
  },
  {
   "cell_type": "markdown",
   "metadata": {},
   "source": [
    "## Describe a situation where...\n",
    "you would turn the object in position 3 into the key of a dictionary where the values are that dog's characteristics. "
   ]
  },
  {
   "cell_type": "code",
   "execution_count": 37,
   "metadata": {
    "ExecuteTime": {
     "end_time": "2020-01-14T01:22:56.231481Z",
     "start_time": "2020-01-14T01:22:56.227693Z"
    }
   },
   "outputs": [],
   "source": [
    "#Now turn the object in position 3 \n",
    "#into a dictionary\n",
    "\n"
   ]
  },
  {
   "cell_type": "code",
   "execution_count": 38,
   "metadata": {
    "ExecuteTime": {
     "end_time": "2020-01-14T01:22:56.591095Z",
     "start_time": "2020-01-14T01:22:56.587394Z"
    }
   },
   "outputs": [
    {
     "data": {
      "text/plain": [
       "['beagle',\n",
       " 'collie',\n",
       " 'healer',\n",
       " {'pug': ['short', 'round', 'possibly a space alien']}]"
      ]
     },
     "execution_count": 38,
     "metadata": {},
     "output_type": "execute_result"
    }
   ],
   "source": []
  },
  {
   "cell_type": "markdown",
   "metadata": {},
   "source": [
    "# CHALLENGE!\n",
    "- Write a function that turns each object of the list into a dictionary where the values of that dictionary are the dog's characteristics.\n",
    "\n",
    "- Create a list of other dogs, and apply your function to that list as well. \n",
    "\n",
    "- If you're unable to do this challenge, simply create a list of dog dictionaries, where the values are the dog's characteristics. "
   ]
  },
  {
   "cell_type": "code",
   "execution_count": 41,
   "metadata": {
    "ExecuteTime": {
     "end_time": "2020-01-14T01:23:21.328914Z",
     "start_time": "2020-01-14T01:23:21.325528Z"
    },
    "code_folding": []
   },
   "outputs": [],
   "source": [
    "#Write your function\n"
   ]
  },
  {
   "cell_type": "code",
   "execution_count": 42,
   "metadata": {
    "ExecuteTime": {
     "end_time": "2020-01-14T01:23:22.724489Z",
     "start_time": "2020-01-14T01:23:22.720677Z"
    }
   },
   "outputs": [
    {
     "data": {
      "text/plain": [
       "[{'beagle': ['furry', 'smart(er than cats)']},\n",
       " {'collie': ['furry', 'smart(er than cats)']},\n",
       " {'healer': ['furry', 'smart(er than cats)']},\n",
       " {'pug': ['short', 'round', 'possibly a space alien']}]"
      ]
     },
     "execution_count": 42,
     "metadata": {},
     "output_type": "execute_result"
    }
   ],
   "source": [
    "dogs"
   ]
  },
  {
   "cell_type": "markdown",
   "metadata": {},
   "source": [
    "## In what case...\n",
    "would you need to iterate over each of the keys using a for loop. Describe the case below. "
   ]
  },
  {
   "cell_type": "code",
   "execution_count": 45,
   "metadata": {
    "ExecuteTime": {
     "end_time": "2020-01-14T01:24:28.515988Z",
     "start_time": "2020-01-14T01:24:28.512788Z"
    }
   },
   "outputs": [
    {
     "name": "stdout",
     "output_type": "stream",
     "text": [
      "dict_keys(['beagle'])\n",
      "dict_keys(['collie'])\n",
      "dict_keys(['healer'])\n",
      "dict_keys(['pug'])\n"
     ]
    }
   ],
   "source": []
  },
  {
   "cell_type": "code",
   "execution_count": 52,
   "metadata": {
    "ExecuteTime": {
     "end_time": "2020-01-14T01:26:44.553065Z",
     "start_time": "2020-01-14T01:26:44.549096Z"
    }
   },
   "outputs": [
    {
     "data": {
      "text/plain": [
       "['beagle', 'collie', 'healer', 'pug']"
      ]
     },
     "execution_count": 52,
     "metadata": {},
     "output_type": "execute_result"
    }
   ],
   "source": [
    "# Turn your loop into a list comprehension\n",
    "\n"
   ]
  },
  {
   "cell_type": "code",
   "execution_count": 56,
   "metadata": {
    "ExecuteTime": {
     "end_time": "2020-01-14T01:29:22.529644Z",
     "start_time": "2020-01-14T01:29:22.525794Z"
    }
   },
   "outputs": [
    {
     "data": {
      "text/plain": [
       "['beagle', 'collie', 'healer', 'pug']"
      ]
     },
     "execution_count": 56,
     "metadata": {},
     "output_type": "execute_result"
    }
   ],
   "source": [
    "# Turn your list comp into a lambda function\n"
   ]
  },
  {
   "cell_type": "markdown",
   "metadata": {},
   "source": [
    "## Write a problem below... \n",
    "that gives you a reason to iterate over the values in each of the dictionary objects in list dogs. \n"
   ]
  },
  {
   "cell_type": "code",
   "execution_count": 67,
   "metadata": {
    "ExecuteTime": {
     "end_time": "2020-01-14T01:32:58.015827Z",
     "start_time": "2020-01-14T01:32:58.011801Z"
    }
   },
   "outputs": [
    {
     "name": "stdout",
     "output_type": "stream",
     "text": [
      "smart(er than cats)\n",
      "smart(er than cats)\n",
      "smart(er than cats)\n",
      "short\n",
      "round\n",
      "possibly a space alien\n"
     ]
    }
   ],
   "source": [
    "# Create a for loop that does this\n"
   ]
  },
  {
   "cell_type": "code",
   "execution_count": null,
   "metadata": {},
   "outputs": [],
   "source": [
    "# Turn your for loop into a dictionary comprehension\n"
   ]
  },
  {
   "cell_type": "markdown",
   "metadata": {},
   "source": [
    "## CHALLENGE!\n",
    "Use all of your python powers to check if any of the values in your list of dog dictionaries are _*also*_ associated with other keys. Print a list of dogs that share descriptive words, and print a list of dogs that do not share descriptive words. If none of your dogs share descriptions, write both loops anyways and be sure to give us an output that indicates that there are no matches. "
   ]
  },
  {
   "cell_type": "code",
   "execution_count": 73,
   "metadata": {
    "ExecuteTime": {
     "end_time": "2020-01-14T01:40:27.764422Z",
     "start_time": "2020-01-14T01:40:27.760570Z"
    }
   },
   "outputs": [
    {
     "data": {
      "text/plain": [
       "[{'beagle': ['furry', 'smart(er than cats)']},\n",
       " {'collie': ['furry', 'smart(er than cats)']},\n",
       " {'healer': ['furry', 'smart(er than cats)']},\n",
       " {'pug': ['short', 'round', 'possibly a space alien']}]"
      ]
     },
     "execution_count": 73,
     "metadata": {},
     "output_type": "execute_result"
    }
   ],
   "source": []
  },
  {
   "cell_type": "code",
   "execution_count": 78,
   "metadata": {
    "ExecuteTime": {
     "end_time": "2020-01-14T01:41:17.128869Z",
     "start_time": "2020-01-14T01:41:17.126630Z"
    }
   },
   "outputs": [],
   "source": [
    "#Challenge time! You can do it!\n"
   ]
  },
  {
   "cell_type": "code",
   "execution_count": 111,
   "metadata": {
    "ExecuteTime": {
     "end_time": "2020-01-14T01:56:27.125764Z",
     "start_time": "2020-01-14T01:56:27.122054Z"
    },
    "scrolled": true
   },
   "outputs": [
    {
     "name": "stdout",
     "output_type": "stream",
     "text": [
      "['beagle', 'collie', 'healer']\n",
      "['beagle', 'collie', 'healer']\n",
      "['beagle', 'collie', 'healer']\n",
      "['pug']\n"
     ]
    }
   ],
   "source": []
  },
  {
   "cell_type": "code",
   "execution_count": null,
   "metadata": {},
   "outputs": [],
   "source": []
  }
 ],
 "metadata": {
  "kernelspec": {
   "display_name": "Python 3",
   "language": "python",
   "name": "python3"
  },
  "language_info": {
   "codemirror_mode": {
    "name": "ipython",
    "version": 3
   },
   "file_extension": ".py",
   "mimetype": "text/x-python",
   "name": "python",
   "nbconvert_exporter": "python",
   "pygments_lexer": "ipython3",
   "version": "3.7.6"
  },
  "varInspector": {
   "cols": {
    "lenName": 16,
    "lenType": 16,
    "lenVar": 40
   },
   "kernels_config": {
    "python": {
     "delete_cmd_postfix": "",
     "delete_cmd_prefix": "del ",
     "library": "var_list.py",
     "varRefreshCmd": "print(var_dic_list())"
    },
    "r": {
     "delete_cmd_postfix": ") ",
     "delete_cmd_prefix": "rm(",
     "library": "var_list.r",
     "varRefreshCmd": "cat(var_dic_list()) "
    }
   },
   "types_to_exclude": [
    "module",
    "function",
    "builtin_function_or_method",
    "instance",
    "_Feature"
   ],
   "window_display": false
  }
 },
 "nbformat": 4,
 "nbformat_minor": 2
}
